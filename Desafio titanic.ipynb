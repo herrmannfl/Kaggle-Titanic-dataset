{
 "cells": [
  {
   "cell_type": "markdown",
   "id": "8efe42dd-5e9b-4d77-8da6-610b0783bfaf",
   "metadata": {},
   "source": [
    "# GERAL\n",
    "Nesta seção serão importadas as bibliotecas e os dados necessários para realização do treinamento."
   ]
  },
  {
   "cell_type": "code",
   "execution_count": 1,
   "id": "e9f80beb-a9b8-4a1f-9cf6-ee99a680e5cf",
   "metadata": {},
   "outputs": [],
   "source": [
    "import pandas as pd\n",
    "import numpy as np\n",
    "from sklearn.linear_model import LogisticRegression\n",
    "from sklearn.model_selection import cross_val_score\n",
    "#matriz de confusão dos dados\n",
    "from sklearn.metrics import confusion_matrix\n",
    "# padronização dos dados\n",
    "from sklearn.preprocessing import StandardScaler"
   ]
  },
  {
   "cell_type": "code",
   "execution_count": 2,
   "id": "778774ed-9376-4ca9-81dd-a097a8051b0b",
   "metadata": {},
   "outputs": [],
   "source": [
    "#baseline 76,55%"
   ]
  },
  {
   "cell_type": "code",
   "execution_count": 3,
   "id": "cb3253e0-cc06-4db9-ba58-845cae255938",
   "metadata": {},
   "outputs": [],
   "source": [
    "train = pd.read_csv(\"dados/train.csv\")\n",
    "test = pd.read_csv(\"dados/test.csv\")"
   ]
  },
  {
   "cell_type": "code",
   "execution_count": 4,
   "id": "6883d953-0004-4d03-b2a0-c6b1f5e1805a",
   "metadata": {},
   "outputs": [
    {
     "data": {
      "text/html": [
       "<div>\n",
       "<style scoped>\n",
       "    .dataframe tbody tr th:only-of-type {\n",
       "        vertical-align: middle;\n",
       "    }\n",
       "\n",
       "    .dataframe tbody tr th {\n",
       "        vertical-align: top;\n",
       "    }\n",
       "\n",
       "    .dataframe thead th {\n",
       "        text-align: right;\n",
       "    }\n",
       "</style>\n",
       "<table border=\"1\" class=\"dataframe\">\n",
       "  <thead>\n",
       "    <tr style=\"text-align: right;\">\n",
       "      <th></th>\n",
       "      <th>PassengerId</th>\n",
       "      <th>Survived</th>\n",
       "      <th>Pclass</th>\n",
       "      <th>Name</th>\n",
       "      <th>Sex</th>\n",
       "      <th>Age</th>\n",
       "      <th>SibSp</th>\n",
       "      <th>Parch</th>\n",
       "      <th>Ticket</th>\n",
       "      <th>Fare</th>\n",
       "      <th>Cabin</th>\n",
       "      <th>Embarked</th>\n",
       "    </tr>\n",
       "  </thead>\n",
       "  <tbody>\n",
       "    <tr>\n",
       "      <th>0</th>\n",
       "      <td>1</td>\n",
       "      <td>0</td>\n",
       "      <td>3</td>\n",
       "      <td>Braund, Mr. Owen Harris</td>\n",
       "      <td>male</td>\n",
       "      <td>22.0</td>\n",
       "      <td>1</td>\n",
       "      <td>0</td>\n",
       "      <td>A/5 21171</td>\n",
       "      <td>7.2500</td>\n",
       "      <td>NaN</td>\n",
       "      <td>S</td>\n",
       "    </tr>\n",
       "    <tr>\n",
       "      <th>1</th>\n",
       "      <td>2</td>\n",
       "      <td>1</td>\n",
       "      <td>1</td>\n",
       "      <td>Cumings, Mrs. John Bradley (Florence Briggs Th...</td>\n",
       "      <td>female</td>\n",
       "      <td>38.0</td>\n",
       "      <td>1</td>\n",
       "      <td>0</td>\n",
       "      <td>PC 17599</td>\n",
       "      <td>71.2833</td>\n",
       "      <td>C85</td>\n",
       "      <td>C</td>\n",
       "    </tr>\n",
       "    <tr>\n",
       "      <th>2</th>\n",
       "      <td>3</td>\n",
       "      <td>1</td>\n",
       "      <td>3</td>\n",
       "      <td>Heikkinen, Miss. Laina</td>\n",
       "      <td>female</td>\n",
       "      <td>26.0</td>\n",
       "      <td>0</td>\n",
       "      <td>0</td>\n",
       "      <td>STON/O2. 3101282</td>\n",
       "      <td>7.9250</td>\n",
       "      <td>NaN</td>\n",
       "      <td>S</td>\n",
       "    </tr>\n",
       "    <tr>\n",
       "      <th>3</th>\n",
       "      <td>4</td>\n",
       "      <td>1</td>\n",
       "      <td>1</td>\n",
       "      <td>Futrelle, Mrs. Jacques Heath (Lily May Peel)</td>\n",
       "      <td>female</td>\n",
       "      <td>35.0</td>\n",
       "      <td>1</td>\n",
       "      <td>0</td>\n",
       "      <td>113803</td>\n",
       "      <td>53.1000</td>\n",
       "      <td>C123</td>\n",
       "      <td>S</td>\n",
       "    </tr>\n",
       "    <tr>\n",
       "      <th>4</th>\n",
       "      <td>5</td>\n",
       "      <td>0</td>\n",
       "      <td>3</td>\n",
       "      <td>Allen, Mr. William Henry</td>\n",
       "      <td>male</td>\n",
       "      <td>35.0</td>\n",
       "      <td>0</td>\n",
       "      <td>0</td>\n",
       "      <td>373450</td>\n",
       "      <td>8.0500</td>\n",
       "      <td>NaN</td>\n",
       "      <td>S</td>\n",
       "    </tr>\n",
       "    <tr>\n",
       "      <th>...</th>\n",
       "      <td>...</td>\n",
       "      <td>...</td>\n",
       "      <td>...</td>\n",
       "      <td>...</td>\n",
       "      <td>...</td>\n",
       "      <td>...</td>\n",
       "      <td>...</td>\n",
       "      <td>...</td>\n",
       "      <td>...</td>\n",
       "      <td>...</td>\n",
       "      <td>...</td>\n",
       "      <td>...</td>\n",
       "    </tr>\n",
       "    <tr>\n",
       "      <th>886</th>\n",
       "      <td>887</td>\n",
       "      <td>0</td>\n",
       "      <td>2</td>\n",
       "      <td>Montvila, Rev. Juozas</td>\n",
       "      <td>male</td>\n",
       "      <td>27.0</td>\n",
       "      <td>0</td>\n",
       "      <td>0</td>\n",
       "      <td>211536</td>\n",
       "      <td>13.0000</td>\n",
       "      <td>NaN</td>\n",
       "      <td>S</td>\n",
       "    </tr>\n",
       "    <tr>\n",
       "      <th>887</th>\n",
       "      <td>888</td>\n",
       "      <td>1</td>\n",
       "      <td>1</td>\n",
       "      <td>Graham, Miss. Margaret Edith</td>\n",
       "      <td>female</td>\n",
       "      <td>19.0</td>\n",
       "      <td>0</td>\n",
       "      <td>0</td>\n",
       "      <td>112053</td>\n",
       "      <td>30.0000</td>\n",
       "      <td>B42</td>\n",
       "      <td>S</td>\n",
       "    </tr>\n",
       "    <tr>\n",
       "      <th>888</th>\n",
       "      <td>889</td>\n",
       "      <td>0</td>\n",
       "      <td>3</td>\n",
       "      <td>Johnston, Miss. Catherine Helen \"Carrie\"</td>\n",
       "      <td>female</td>\n",
       "      <td>NaN</td>\n",
       "      <td>1</td>\n",
       "      <td>2</td>\n",
       "      <td>W./C. 6607</td>\n",
       "      <td>23.4500</td>\n",
       "      <td>NaN</td>\n",
       "      <td>S</td>\n",
       "    </tr>\n",
       "    <tr>\n",
       "      <th>889</th>\n",
       "      <td>890</td>\n",
       "      <td>1</td>\n",
       "      <td>1</td>\n",
       "      <td>Behr, Mr. Karl Howell</td>\n",
       "      <td>male</td>\n",
       "      <td>26.0</td>\n",
       "      <td>0</td>\n",
       "      <td>0</td>\n",
       "      <td>111369</td>\n",
       "      <td>30.0000</td>\n",
       "      <td>C148</td>\n",
       "      <td>C</td>\n",
       "    </tr>\n",
       "    <tr>\n",
       "      <th>890</th>\n",
       "      <td>891</td>\n",
       "      <td>0</td>\n",
       "      <td>3</td>\n",
       "      <td>Dooley, Mr. Patrick</td>\n",
       "      <td>male</td>\n",
       "      <td>32.0</td>\n",
       "      <td>0</td>\n",
       "      <td>0</td>\n",
       "      <td>370376</td>\n",
       "      <td>7.7500</td>\n",
       "      <td>NaN</td>\n",
       "      <td>Q</td>\n",
       "    </tr>\n",
       "  </tbody>\n",
       "</table>\n",
       "<p>891 rows × 12 columns</p>\n",
       "</div>"
      ],
      "text/plain": [
       "     PassengerId  Survived  Pclass  \\\n",
       "0              1         0       3   \n",
       "1              2         1       1   \n",
       "2              3         1       3   \n",
       "3              4         1       1   \n",
       "4              5         0       3   \n",
       "..           ...       ...     ...   \n",
       "886          887         0       2   \n",
       "887          888         1       1   \n",
       "888          889         0       3   \n",
       "889          890         1       1   \n",
       "890          891         0       3   \n",
       "\n",
       "                                                  Name     Sex   Age  SibSp  \\\n",
       "0                              Braund, Mr. Owen Harris    male  22.0      1   \n",
       "1    Cumings, Mrs. John Bradley (Florence Briggs Th...  female  38.0      1   \n",
       "2                               Heikkinen, Miss. Laina  female  26.0      0   \n",
       "3         Futrelle, Mrs. Jacques Heath (Lily May Peel)  female  35.0      1   \n",
       "4                             Allen, Mr. William Henry    male  35.0      0   \n",
       "..                                                 ...     ...   ...    ...   \n",
       "886                              Montvila, Rev. Juozas    male  27.0      0   \n",
       "887                       Graham, Miss. Margaret Edith  female  19.0      0   \n",
       "888           Johnston, Miss. Catherine Helen \"Carrie\"  female   NaN      1   \n",
       "889                              Behr, Mr. Karl Howell    male  26.0      0   \n",
       "890                                Dooley, Mr. Patrick    male  32.0      0   \n",
       "\n",
       "     Parch            Ticket     Fare Cabin Embarked  \n",
       "0        0         A/5 21171   7.2500   NaN        S  \n",
       "1        0          PC 17599  71.2833   C85        C  \n",
       "2        0  STON/O2. 3101282   7.9250   NaN        S  \n",
       "3        0            113803  53.1000  C123        S  \n",
       "4        0            373450   8.0500   NaN        S  \n",
       "..     ...               ...      ...   ...      ...  \n",
       "886      0            211536  13.0000   NaN        S  \n",
       "887      0            112053  30.0000   B42        S  \n",
       "888      2        W./C. 6607  23.4500   NaN        S  \n",
       "889      0            111369  30.0000  C148        C  \n",
       "890      0            370376   7.7500   NaN        Q  \n",
       "\n",
       "[891 rows x 12 columns]"
      ]
     },
     "execution_count": 4,
     "metadata": {},
     "output_type": "execute_result"
    }
   ],
   "source": [
    "train"
   ]
  },
  {
   "cell_type": "code",
   "execution_count": 5,
   "id": "f544ec36-91e2-4837-a8f3-208bc9c32f4e",
   "metadata": {},
   "outputs": [
    {
     "data": {
      "text/html": [
       "<div>\n",
       "<style scoped>\n",
       "    .dataframe tbody tr th:only-of-type {\n",
       "        vertical-align: middle;\n",
       "    }\n",
       "\n",
       "    .dataframe tbody tr th {\n",
       "        vertical-align: top;\n",
       "    }\n",
       "\n",
       "    .dataframe thead th {\n",
       "        text-align: right;\n",
       "    }\n",
       "</style>\n",
       "<table border=\"1\" class=\"dataframe\">\n",
       "  <thead>\n",
       "    <tr style=\"text-align: right;\">\n",
       "      <th></th>\n",
       "      <th>PassengerId</th>\n",
       "      <th>Survived</th>\n",
       "      <th>Pclass</th>\n",
       "      <th>Age</th>\n",
       "      <th>SibSp</th>\n",
       "      <th>Parch</th>\n",
       "      <th>Fare</th>\n",
       "    </tr>\n",
       "  </thead>\n",
       "  <tbody>\n",
       "    <tr>\n",
       "      <th>count</th>\n",
       "      <td>891.000000</td>\n",
       "      <td>891.000000</td>\n",
       "      <td>891.000000</td>\n",
       "      <td>714.000000</td>\n",
       "      <td>891.000000</td>\n",
       "      <td>891.000000</td>\n",
       "      <td>891.000000</td>\n",
       "    </tr>\n",
       "    <tr>\n",
       "      <th>mean</th>\n",
       "      <td>446.000000</td>\n",
       "      <td>0.383838</td>\n",
       "      <td>2.308642</td>\n",
       "      <td>29.699118</td>\n",
       "      <td>0.523008</td>\n",
       "      <td>0.381594</td>\n",
       "      <td>32.204208</td>\n",
       "    </tr>\n",
       "    <tr>\n",
       "      <th>std</th>\n",
       "      <td>257.353842</td>\n",
       "      <td>0.486592</td>\n",
       "      <td>0.836071</td>\n",
       "      <td>14.526497</td>\n",
       "      <td>1.102743</td>\n",
       "      <td>0.806057</td>\n",
       "      <td>49.693429</td>\n",
       "    </tr>\n",
       "    <tr>\n",
       "      <th>min</th>\n",
       "      <td>1.000000</td>\n",
       "      <td>0.000000</td>\n",
       "      <td>1.000000</td>\n",
       "      <td>0.420000</td>\n",
       "      <td>0.000000</td>\n",
       "      <td>0.000000</td>\n",
       "      <td>0.000000</td>\n",
       "    </tr>\n",
       "    <tr>\n",
       "      <th>25%</th>\n",
       "      <td>223.500000</td>\n",
       "      <td>0.000000</td>\n",
       "      <td>2.000000</td>\n",
       "      <td>20.125000</td>\n",
       "      <td>0.000000</td>\n",
       "      <td>0.000000</td>\n",
       "      <td>7.910400</td>\n",
       "    </tr>\n",
       "    <tr>\n",
       "      <th>50%</th>\n",
       "      <td>446.000000</td>\n",
       "      <td>0.000000</td>\n",
       "      <td>3.000000</td>\n",
       "      <td>28.000000</td>\n",
       "      <td>0.000000</td>\n",
       "      <td>0.000000</td>\n",
       "      <td>14.454200</td>\n",
       "    </tr>\n",
       "    <tr>\n",
       "      <th>75%</th>\n",
       "      <td>668.500000</td>\n",
       "      <td>1.000000</td>\n",
       "      <td>3.000000</td>\n",
       "      <td>38.000000</td>\n",
       "      <td>1.000000</td>\n",
       "      <td>0.000000</td>\n",
       "      <td>31.000000</td>\n",
       "    </tr>\n",
       "    <tr>\n",
       "      <th>max</th>\n",
       "      <td>891.000000</td>\n",
       "      <td>1.000000</td>\n",
       "      <td>3.000000</td>\n",
       "      <td>80.000000</td>\n",
       "      <td>8.000000</td>\n",
       "      <td>6.000000</td>\n",
       "      <td>512.329200</td>\n",
       "    </tr>\n",
       "  </tbody>\n",
       "</table>\n",
       "</div>"
      ],
      "text/plain": [
       "       PassengerId    Survived      Pclass         Age       SibSp  \\\n",
       "count   891.000000  891.000000  891.000000  714.000000  891.000000   \n",
       "mean    446.000000    0.383838    2.308642   29.699118    0.523008   \n",
       "std     257.353842    0.486592    0.836071   14.526497    1.102743   \n",
       "min       1.000000    0.000000    1.000000    0.420000    0.000000   \n",
       "25%     223.500000    0.000000    2.000000   20.125000    0.000000   \n",
       "50%     446.000000    0.000000    3.000000   28.000000    0.000000   \n",
       "75%     668.500000    1.000000    3.000000   38.000000    1.000000   \n",
       "max     891.000000    1.000000    3.000000   80.000000    8.000000   \n",
       "\n",
       "            Parch        Fare  \n",
       "count  891.000000  891.000000  \n",
       "mean     0.381594   32.204208  \n",
       "std      0.806057   49.693429  \n",
       "min      0.000000    0.000000  \n",
       "25%      0.000000    7.910400  \n",
       "50%      0.000000   14.454200  \n",
       "75%      0.000000   31.000000  \n",
       "max      6.000000  512.329200  "
      ]
     },
     "execution_count": 5,
     "metadata": {},
     "output_type": "execute_result"
    }
   ],
   "source": [
    "# descriçao estatistico das features numéricas\n",
    "est = train.describe()\n",
    "est"
   ]
  },
  {
   "cell_type": "code",
   "execution_count": 6,
   "id": "07f87ff5-f17e-4594-b31f-9eeb5ce227e9",
   "metadata": {},
   "outputs": [
    {
     "name": "stdout",
     "output_type": "stream",
     "text": [
      "<class 'pandas.core.frame.DataFrame'>\n",
      "RangeIndex: 891 entries, 0 to 890\n",
      "Data columns (total 12 columns):\n",
      " #   Column       Non-Null Count  Dtype  \n",
      "---  ------       --------------  -----  \n",
      " 0   PassengerId  891 non-null    int64  \n",
      " 1   Survived     891 non-null    int64  \n",
      " 2   Pclass       891 non-null    int64  \n",
      " 3   Name         891 non-null    object \n",
      " 4   Sex          891 non-null    object \n",
      " 5   Age          714 non-null    float64\n",
      " 6   SibSp        891 non-null    int64  \n",
      " 7   Parch        891 non-null    int64  \n",
      " 8   Ticket       891 non-null    object \n",
      " 9   Fare         891 non-null    float64\n",
      " 10  Cabin        204 non-null    object \n",
      " 11  Embarked     889 non-null    object \n",
      "dtypes: float64(2), int64(5), object(5)\n",
      "memory usage: 83.7+ KB\n"
     ]
    }
   ],
   "source": [
    "train.info()"
   ]
  },
  {
   "cell_type": "code",
   "execution_count": 7,
   "id": "9f7664f2-8265-4c5c-8baa-4bc25905a86b",
   "metadata": {},
   "outputs": [
    {
     "data": {
      "text/plain": [
       "PassengerId      0\n",
       "Survived         0\n",
       "Pclass           0\n",
       "Name             0\n",
       "Sex              0\n",
       "Age            177\n",
       "SibSp            0\n",
       "Parch            0\n",
       "Ticket           0\n",
       "Fare             0\n",
       "Cabin          687\n",
       "Embarked         2\n",
       "dtype: int64"
      ]
     },
     "execution_count": 7,
     "metadata": {},
     "output_type": "execute_result"
    }
   ],
   "source": [
    "train.isnull().sum()"
   ]
  },
  {
   "cell_type": "code",
   "execution_count": 8,
   "id": "42501368-86da-42f7-9e0a-3cd8ef7fc6c2",
   "metadata": {},
   "outputs": [
    {
     "data": {
      "text/plain": [
       "PassengerId      0\n",
       "Pclass           0\n",
       "Name             0\n",
       "Sex              0\n",
       "Age             86\n",
       "SibSp            0\n",
       "Parch            0\n",
       "Ticket           0\n",
       "Fare             1\n",
       "Cabin          327\n",
       "Embarked         0\n",
       "dtype: int64"
      ]
     },
     "execution_count": 8,
     "metadata": {},
     "output_type": "execute_result"
    }
   ],
   "source": [
    "test.isnull().sum()"
   ]
  },
  {
   "cell_type": "code",
   "execution_count": 9,
   "id": "5a3c4fd8-34e7-46ac-af3e-cdd5b59ca108",
   "metadata": {},
   "outputs": [
    {
     "data": {
      "text/plain": [
       "0     PassengerId\n",
       "1        Survived\n",
       "2          Pclass\n",
       "3            Name\n",
       "4             Sex\n",
       "5             Age\n",
       "6           SibSp\n",
       "7           Parch\n",
       "8          Ticket\n",
       "9            Fare\n",
       "10          Cabin\n",
       "11       Embarked\n",
       "dtype: object"
      ]
     },
     "execution_count": 9,
     "metadata": {},
     "output_type": "execute_result"
    }
   ],
   "source": [
    "#mapear colunas\n",
    "col = pd.Series(list(train.columns))\n",
    "col"
   ]
  },
  {
   "cell_type": "markdown",
   "id": "c21b31e0-72f4-4f33-b97b-d27a4c197310",
   "metadata": {},
   "source": [
    "# 1. Implementação de uma solução do início ao fim \n",
    "Nesta seção está implementada a criação de um modelo simples que utiliza somente o sexo do passageiro para prever se este sobrevive ou não ao desastre do Titanic"
   ]
  },
  {
   "cell_type": "code",
   "execution_count": 10,
   "id": "d73c8997-1324-4bc7-9060-87d01291da0b",
   "metadata": {},
   "outputs": [],
   "source": [
    "# separando dados de treinamento\n",
    "X_train = train.drop(['PassengerId', 'Survived'], axis = 1)\n",
    "X_test = test.drop(['PassengerId'], axis = 1)\n",
    "\n"
   ]
  },
  {
   "cell_type": "code",
   "execution_count": 11,
   "id": "41a75ebf-2475-4370-ae75-24bdca2bc5a7",
   "metadata": {},
   "outputs": [
    {
     "name": "stderr",
     "output_type": "stream",
     "text": [
      "/tmp/ipykernel_18023/3242269444.py:7: FutureWarning: Downcasting behavior in `replace` is deprecated and will be removed in a future version. To retain the old behavior, explicitly call `result.infer_objects(copy=False)`. To opt-in to the future behavior, set `pd.set_option('future.no_silent_downcasting', True)`\n",
      "  X_train[\"mulher\"] = X_train[\"Sex\"].replace(subsMulher)\n",
      "/tmp/ipykernel_18023/3242269444.py:8: FutureWarning: Downcasting behavior in `replace` is deprecated and will be removed in a future version. To retain the old behavior, explicitly call `result.infer_objects(copy=False)`. To opt-in to the future behavior, set `pd.set_option('future.no_silent_downcasting', True)`\n",
      "  X_test[\"mulher\"] = X_test[\"Sex\"].replace(subsMulher)\n",
      "/tmp/ipykernel_18023/3242269444.py:9: FutureWarning: Downcasting behavior in `replace` is deprecated and will be removed in a future version. To retain the old behavior, explicitly call `result.infer_objects(copy=False)`. To opt-in to the future behavior, set `pd.set_option('future.no_silent_downcasting', True)`\n",
      "  X_train[\"homem\"] = X_train[\"Sex\"].replace(subsHomem)\n",
      "/tmp/ipykernel_18023/3242269444.py:10: FutureWarning: Downcasting behavior in `replace` is deprecated and will be removed in a future version. To retain the old behavior, explicitly call `result.infer_objects(copy=False)`. To opt-in to the future behavior, set `pd.set_option('future.no_silent_downcasting', True)`\n",
      "  X_test[\"homem\"] = X_test[\"Sex\"].replace(subsHomem)\n"
     ]
    }
   ],
   "source": [
    "# criar um modelo que utiliza somente o gender para prever\n",
    "# criar feature mulher e homem\n",
    "#criando dicionário para substituir\n",
    "subsMulher = {\"female\":1,\"male\":0}\n",
    "subsHomem = {\"female\":0,\"male\":1}\n",
    "\n",
    "X_train[\"mulher\"] = X_train[\"Sex\"].replace(subsMulher)\n",
    "X_test[\"mulher\"] = X_test[\"Sex\"].replace(subsMulher)\n",
    "X_train[\"homem\"] = X_train[\"Sex\"].replace(subsHomem)\n",
    "X_test[\"homem\"] = X_test[\"Sex\"].replace(subsHomem)"
   ]
  },
  {
   "cell_type": "code",
   "execution_count": 12,
   "id": "1bd2b6c5-7951-4758-8d2f-c551336850ed",
   "metadata": {},
   "outputs": [
    {
     "data": {
      "text/html": [
       "<div>\n",
       "<style scoped>\n",
       "    .dataframe tbody tr th:only-of-type {\n",
       "        vertical-align: middle;\n",
       "    }\n",
       "\n",
       "    .dataframe tbody tr th {\n",
       "        vertical-align: top;\n",
       "    }\n",
       "\n",
       "    .dataframe thead th {\n",
       "        text-align: right;\n",
       "    }\n",
       "</style>\n",
       "<table border=\"1\" class=\"dataframe\">\n",
       "  <thead>\n",
       "    <tr style=\"text-align: right;\">\n",
       "      <th></th>\n",
       "      <th>Pclass</th>\n",
       "      <th>Name</th>\n",
       "      <th>Sex</th>\n",
       "      <th>Age</th>\n",
       "      <th>SibSp</th>\n",
       "      <th>Parch</th>\n",
       "      <th>Ticket</th>\n",
       "      <th>Fare</th>\n",
       "      <th>Cabin</th>\n",
       "      <th>Embarked</th>\n",
       "      <th>mulher</th>\n",
       "      <th>homem</th>\n",
       "    </tr>\n",
       "  </thead>\n",
       "  <tbody>\n",
       "    <tr>\n",
       "      <th>0</th>\n",
       "      <td>3</td>\n",
       "      <td>Braund, Mr. Owen Harris</td>\n",
       "      <td>male</td>\n",
       "      <td>22.0</td>\n",
       "      <td>1</td>\n",
       "      <td>0</td>\n",
       "      <td>A/5 21171</td>\n",
       "      <td>7.2500</td>\n",
       "      <td>NaN</td>\n",
       "      <td>S</td>\n",
       "      <td>0</td>\n",
       "      <td>1</td>\n",
       "    </tr>\n",
       "    <tr>\n",
       "      <th>1</th>\n",
       "      <td>1</td>\n",
       "      <td>Cumings, Mrs. John Bradley (Florence Briggs Th...</td>\n",
       "      <td>female</td>\n",
       "      <td>38.0</td>\n",
       "      <td>1</td>\n",
       "      <td>0</td>\n",
       "      <td>PC 17599</td>\n",
       "      <td>71.2833</td>\n",
       "      <td>C85</td>\n",
       "      <td>C</td>\n",
       "      <td>1</td>\n",
       "      <td>0</td>\n",
       "    </tr>\n",
       "    <tr>\n",
       "      <th>2</th>\n",
       "      <td>3</td>\n",
       "      <td>Heikkinen, Miss. Laina</td>\n",
       "      <td>female</td>\n",
       "      <td>26.0</td>\n",
       "      <td>0</td>\n",
       "      <td>0</td>\n",
       "      <td>STON/O2. 3101282</td>\n",
       "      <td>7.9250</td>\n",
       "      <td>NaN</td>\n",
       "      <td>S</td>\n",
       "      <td>1</td>\n",
       "      <td>0</td>\n",
       "    </tr>\n",
       "    <tr>\n",
       "      <th>3</th>\n",
       "      <td>1</td>\n",
       "      <td>Futrelle, Mrs. Jacques Heath (Lily May Peel)</td>\n",
       "      <td>female</td>\n",
       "      <td>35.0</td>\n",
       "      <td>1</td>\n",
       "      <td>0</td>\n",
       "      <td>113803</td>\n",
       "      <td>53.1000</td>\n",
       "      <td>C123</td>\n",
       "      <td>S</td>\n",
       "      <td>1</td>\n",
       "      <td>0</td>\n",
       "    </tr>\n",
       "    <tr>\n",
       "      <th>4</th>\n",
       "      <td>3</td>\n",
       "      <td>Allen, Mr. William Henry</td>\n",
       "      <td>male</td>\n",
       "      <td>35.0</td>\n",
       "      <td>0</td>\n",
       "      <td>0</td>\n",
       "      <td>373450</td>\n",
       "      <td>8.0500</td>\n",
       "      <td>NaN</td>\n",
       "      <td>S</td>\n",
       "      <td>0</td>\n",
       "      <td>1</td>\n",
       "    </tr>\n",
       "    <tr>\n",
       "      <th>...</th>\n",
       "      <td>...</td>\n",
       "      <td>...</td>\n",
       "      <td>...</td>\n",
       "      <td>...</td>\n",
       "      <td>...</td>\n",
       "      <td>...</td>\n",
       "      <td>...</td>\n",
       "      <td>...</td>\n",
       "      <td>...</td>\n",
       "      <td>...</td>\n",
       "      <td>...</td>\n",
       "      <td>...</td>\n",
       "    </tr>\n",
       "    <tr>\n",
       "      <th>886</th>\n",
       "      <td>2</td>\n",
       "      <td>Montvila, Rev. Juozas</td>\n",
       "      <td>male</td>\n",
       "      <td>27.0</td>\n",
       "      <td>0</td>\n",
       "      <td>0</td>\n",
       "      <td>211536</td>\n",
       "      <td>13.0000</td>\n",
       "      <td>NaN</td>\n",
       "      <td>S</td>\n",
       "      <td>0</td>\n",
       "      <td>1</td>\n",
       "    </tr>\n",
       "    <tr>\n",
       "      <th>887</th>\n",
       "      <td>1</td>\n",
       "      <td>Graham, Miss. Margaret Edith</td>\n",
       "      <td>female</td>\n",
       "      <td>19.0</td>\n",
       "      <td>0</td>\n",
       "      <td>0</td>\n",
       "      <td>112053</td>\n",
       "      <td>30.0000</td>\n",
       "      <td>B42</td>\n",
       "      <td>S</td>\n",
       "      <td>1</td>\n",
       "      <td>0</td>\n",
       "    </tr>\n",
       "    <tr>\n",
       "      <th>888</th>\n",
       "      <td>3</td>\n",
       "      <td>Johnston, Miss. Catherine Helen \"Carrie\"</td>\n",
       "      <td>female</td>\n",
       "      <td>NaN</td>\n",
       "      <td>1</td>\n",
       "      <td>2</td>\n",
       "      <td>W./C. 6607</td>\n",
       "      <td>23.4500</td>\n",
       "      <td>NaN</td>\n",
       "      <td>S</td>\n",
       "      <td>1</td>\n",
       "      <td>0</td>\n",
       "    </tr>\n",
       "    <tr>\n",
       "      <th>889</th>\n",
       "      <td>1</td>\n",
       "      <td>Behr, Mr. Karl Howell</td>\n",
       "      <td>male</td>\n",
       "      <td>26.0</td>\n",
       "      <td>0</td>\n",
       "      <td>0</td>\n",
       "      <td>111369</td>\n",
       "      <td>30.0000</td>\n",
       "      <td>C148</td>\n",
       "      <td>C</td>\n",
       "      <td>0</td>\n",
       "      <td>1</td>\n",
       "    </tr>\n",
       "    <tr>\n",
       "      <th>890</th>\n",
       "      <td>3</td>\n",
       "      <td>Dooley, Mr. Patrick</td>\n",
       "      <td>male</td>\n",
       "      <td>32.0</td>\n",
       "      <td>0</td>\n",
       "      <td>0</td>\n",
       "      <td>370376</td>\n",
       "      <td>7.7500</td>\n",
       "      <td>NaN</td>\n",
       "      <td>Q</td>\n",
       "      <td>0</td>\n",
       "      <td>1</td>\n",
       "    </tr>\n",
       "  </tbody>\n",
       "</table>\n",
       "<p>891 rows × 12 columns</p>\n",
       "</div>"
      ],
      "text/plain": [
       "     Pclass                                               Name     Sex   Age  \\\n",
       "0         3                            Braund, Mr. Owen Harris    male  22.0   \n",
       "1         1  Cumings, Mrs. John Bradley (Florence Briggs Th...  female  38.0   \n",
       "2         3                             Heikkinen, Miss. Laina  female  26.0   \n",
       "3         1       Futrelle, Mrs. Jacques Heath (Lily May Peel)  female  35.0   \n",
       "4         3                           Allen, Mr. William Henry    male  35.0   \n",
       "..      ...                                                ...     ...   ...   \n",
       "886       2                              Montvila, Rev. Juozas    male  27.0   \n",
       "887       1                       Graham, Miss. Margaret Edith  female  19.0   \n",
       "888       3           Johnston, Miss. Catherine Helen \"Carrie\"  female   NaN   \n",
       "889       1                              Behr, Mr. Karl Howell    male  26.0   \n",
       "890       3                                Dooley, Mr. Patrick    male  32.0   \n",
       "\n",
       "     SibSp  Parch            Ticket     Fare Cabin Embarked  mulher  homem  \n",
       "0        1      0         A/5 21171   7.2500   NaN        S       0      1  \n",
       "1        1      0          PC 17599  71.2833   C85        C       1      0  \n",
       "2        0      0  STON/O2. 3101282   7.9250   NaN        S       1      0  \n",
       "3        1      0            113803  53.1000  C123        S       1      0  \n",
       "4        0      0            373450   8.0500   NaN        S       0      1  \n",
       "..     ...    ...               ...      ...   ...      ...     ...    ...  \n",
       "886      0      0            211536  13.0000   NaN        S       0      1  \n",
       "887      0      0            112053  30.0000   B42        S       1      0  \n",
       "888      1      2        W./C. 6607  23.4500   NaN        S       1      0  \n",
       "889      0      0            111369  30.0000  C148        C       0      1  \n",
       "890      0      0            370376   7.7500   NaN        Q       0      1  \n",
       "\n",
       "[891 rows x 12 columns]"
      ]
     },
     "execution_count": 12,
     "metadata": {},
     "output_type": "execute_result"
    }
   ],
   "source": [
    "X_train"
   ]
  },
  {
   "cell_type": "code",
   "execution_count": 13,
   "id": "2ac0518d-5deb-4c1a-bd32-b9670685f885",
   "metadata": {},
   "outputs": [],
   "source": [
    "# selecionar as features que eu quero trabalhar no treino\n",
    "X_train = X_train[[\"mulher\"]]\n",
    "X_test = X_test[[\"mulher\"]]\n",
    "\n",
    "y_train = train[\"Survived\"]\n"
   ]
  },
  {
   "cell_type": "code",
   "execution_count": 14,
   "id": "f387f818-4ccd-4667-a61b-befce11bce59",
   "metadata": {},
   "outputs": [
    {
     "name": "stdout",
     "output_type": "stream",
     "text": [
      "[0.81111111 0.79775281 0.76404494 0.84269663 0.79775281 0.7752809\n",
      " 0.76404494 0.74157303 0.80898876 0.76404494]\n",
      "0.786729088639201\n"
     ]
    }
   ],
   "source": [
    "#modelo de validação\n",
    "#Logistic Regression\n",
    "model_lr = LogisticRegression()\n",
    "score = cross_val_score(model_lr,X_train,y_train,cv=10)\n",
    "print(score)\n",
    "print(np.mean(score))"
   ]
  },
  {
   "cell_type": "code",
   "execution_count": 15,
   "id": "76bcb19e-236e-47e7-80d2-326039893a73",
   "metadata": {},
   "outputs": [
    {
     "data": {
      "text/plain": [
       "array([0, 1, 1, 1, 0, 0, 0, 0, 1, 1, 1, 1, 0, 0, 1, 1, 0, 0, 1, 1, 0, 0,\n",
       "       1, 0, 1, 1, 0, 0, 1, 0, 0, 1, 1, 0, 0, 0, 0, 0, 1, 1, 1, 1, 0, 1,\n",
       "       1, 0, 0, 1, 0, 1, 0, 0, 1, 1, 0, 0, 1, 0, 1, 0, 0, 1, 0, 0, 0, 0,\n",
       "       1, 0, 1, 0, 0, 1, 0, 0, 0, 0, 0, 0, 0, 1, 0, 0, 1, 0, 1, 1, 0, 0,\n",
       "       1, 0, 0, 0, 0, 0, 0, 0, 0, 0, 1, 0, 1, 0, 0, 0, 0, 0, 1, 0, 0, 1,\n",
       "       0, 1, 0, 1, 1, 0, 0, 0, 0, 1, 0, 0, 0, 1, 0, 0, 0, 0, 1, 0, 0, 0,\n",
       "       1, 1, 0, 0, 1, 0, 0, 0, 1, 1, 1, 0, 0, 0, 0, 1, 0, 0, 0, 1, 0, 0,\n",
       "       0, 0, 1, 0, 0, 0, 0, 1, 0, 0, 0, 0, 1, 1, 0, 0, 0, 0, 1, 0, 0, 0,\n",
       "       0, 1, 0, 0, 1, 0, 0, 0, 1, 0, 1, 0, 0, 0, 1, 0, 1, 0, 1, 1, 0, 0,\n",
       "       1, 1, 0, 0, 0, 0, 0, 1, 0, 0, 1, 0, 0, 1, 0, 0, 0, 1, 1, 0, 1, 0,\n",
       "       0, 0, 0, 0, 0, 0, 0, 0, 0, 1, 1, 0, 0, 1, 0, 1, 0, 1, 0, 0, 1, 1,\n",
       "       0, 0, 0, 0, 1, 1, 0, 0, 0, 1, 0, 0, 1, 1, 1, 1, 1, 1, 0, 0, 0, 0,\n",
       "       1, 0, 0, 0, 1, 1, 0, 0, 1, 0, 1, 1, 1, 0, 0, 1, 0, 0, 0, 0, 0, 0,\n",
       "       0, 0, 0, 1, 1, 1, 0, 1, 0, 0, 0, 1, 0, 1, 1, 0, 0, 1, 0, 0, 1, 1,\n",
       "       0, 1, 1, 1, 1, 0, 0, 1, 1, 0, 1, 1, 0, 0, 1, 1, 0, 1, 0, 1, 1, 1,\n",
       "       1, 0, 0, 0, 1, 0, 0, 1, 0, 0, 0, 1, 0, 0, 0, 1, 1, 1, 0, 0, 0, 0,\n",
       "       0, 0, 0, 0, 1, 1, 1, 1, 0, 0, 1, 0, 0, 0, 1, 1, 1, 1, 0, 0, 0, 0,\n",
       "       1, 1, 1, 0, 0, 0, 1, 1, 0, 1, 0, 0, 0, 1, 0, 1, 0, 0, 0, 1, 1, 0,\n",
       "       1, 0, 0, 1, 0, 0, 1, 0, 1, 0, 0, 0, 0, 1, 0, 0, 1, 0, 0, 1, 1, 1,\n",
       "       0, 1, 0, 0, 0, 1, 0, 0, 1, 1, 0, 0, 0, 1, 1, 0, 0, 1, 1, 1, 0, 0,\n",
       "       1, 0, 0, 1, 0, 0, 1, 0, 1, 0, 0, 0, 0, 0, 0, 0, 0, 1, 1, 0, 0, 0,\n",
       "       0, 0, 0, 0, 0, 0, 0, 1, 0, 0, 1, 1, 1, 0, 0, 0, 0, 1, 0, 0, 0, 1,\n",
       "       0, 1, 1, 0, 0, 0, 0, 0, 0, 0, 0, 0, 1, 0, 1, 0, 0, 1, 1, 1, 1, 0,\n",
       "       1, 0, 0, 0, 0, 0, 0, 1, 0, 0, 1, 0, 1, 0, 1, 0, 0, 1, 0, 0, 1, 0,\n",
       "       0, 0, 1, 0, 0, 1, 1, 1, 0, 1, 0, 1, 1, 1, 1, 0, 0, 0, 1, 0, 0, 0,\n",
       "       0, 0, 0, 0, 1, 0, 1, 0, 1, 1, 0, 0, 0, 0, 1, 0, 0, 1, 0, 0, 0, 1,\n",
       "       0, 1, 0, 0, 1, 1, 1, 0, 1, 1, 0, 0, 0, 1, 0, 0, 0, 0, 0, 1, 0, 1,\n",
       "       0, 0, 1, 0, 0, 0, 1, 0, 0, 0, 0, 0, 0, 0, 1, 1, 1, 0, 1, 0, 0, 1,\n",
       "       0, 1, 1, 0, 0, 0, 0, 0, 0, 0, 0, 1, 0, 0, 0, 0, 0, 0, 1, 1, 0, 0,\n",
       "       1, 0, 0, 1, 1, 0, 1, 0, 0, 0, 0, 1, 0, 1, 0, 1, 1, 0, 0, 1, 0, 0,\n",
       "       0, 0, 0, 0, 0, 0, 0, 0, 0, 1, 1, 0, 0, 0, 0, 0, 0, 1, 1, 0, 1, 0,\n",
       "       0, 0, 0, 0, 0, 0, 0, 1, 0, 1, 0, 0, 0, 0, 0, 1, 0, 0, 1, 0, 1, 0,\n",
       "       0, 0, 1, 0, 1, 0, 1, 0, 0, 0, 0, 0, 1, 1, 0, 0, 1, 0, 0, 0, 0, 0,\n",
       "       1, 1, 0, 1, 1, 0, 0, 0, 0, 0, 1, 0, 0, 0, 0, 0, 1, 0, 0, 0, 0, 1,\n",
       "       0, 0, 1, 0, 0, 0, 1, 0, 0, 0, 0, 1, 0, 0, 0, 1, 0, 1, 0, 1, 0, 0,\n",
       "       0, 0, 1, 0, 1, 0, 0, 1, 0, 1, 1, 1, 0, 0, 0, 0, 1, 0, 0, 0, 0, 0,\n",
       "       1, 0, 0, 0, 1, 1, 0, 1, 0, 1, 0, 0, 0, 0, 0, 1, 0, 1, 0, 0, 0, 1,\n",
       "       0, 0, 1, 0, 0, 0, 1, 0, 0, 1, 0, 0, 0, 0, 0, 1, 1, 0, 0, 0, 0, 1,\n",
       "       0, 0, 0, 0, 0, 0, 1, 0, 0, 0, 0, 0, 0, 1, 0, 0, 1, 1, 1, 1, 1, 0,\n",
       "       1, 0, 0, 0, 1, 1, 0, 1, 1, 0, 0, 0, 0, 1, 0, 0, 1, 1, 0, 0, 0, 1,\n",
       "       1, 0, 1, 0, 0, 1, 0, 1, 1, 0, 0])"
      ]
     },
     "execution_count": 15,
     "metadata": {},
     "output_type": "execute_result"
    }
   ],
   "source": [
    "# modelo final\n",
    "model_lr.fit(X_train,y_train)\n",
    "y_pred = model_lr.predict(X_train)\n",
    "y_pred"
   ]
  },
  {
   "cell_type": "code",
   "execution_count": 16,
   "id": "02810152-e980-44cf-8b76-6b5922f0cf73",
   "metadata": {},
   "outputs": [
    {
     "name": "stdout",
     "output_type": "stream",
     "text": [
      "[[468  81]\n",
      " [109 233]]\n"
     ]
    }
   ],
   "source": [
    "# Matriz principal tem os resultados\n",
    "mc = confusion_matrix(y_train,y_pred)\n",
    "print(mc)"
   ]
  },
  {
   "cell_type": "markdown",
   "id": "3a1ab066-58f9-4c0b-bf68-f2d8fb9e1d55",
   "metadata": {},
   "source": [
    "## 1.1. Acurácia na base de treinamento"
   ]
  },
  {
   "cell_type": "code",
   "execution_count": 17,
   "id": "cd862a66-4e12-4000-b5a9-a06c48cd1e64",
   "metadata": {},
   "outputs": [
    {
     "data": {
      "text/plain": [
       "0.7867564534231201"
      ]
     },
     "execution_count": 17,
     "metadata": {},
     "output_type": "execute_result"
    }
   ],
   "source": [
    "score = model_lr.score(X_train,y_train)\n",
    "score"
   ]
  },
  {
   "cell_type": "markdown",
   "id": "21eb82b2-60ba-4308-9017-b5ad84bf2c5e",
   "metadata": {},
   "source": [
    "## 1.2. Predição sobre a base de teste\n",
    "Fazendo a predição sobre a base de testes e exportando o arquivo para realizar a submissão através da plataforma Kaggle."
   ]
  },
  {
   "cell_type": "code",
   "execution_count": 18,
   "id": "732a0d2a-2ad3-42bd-89c5-0fc82a140621",
   "metadata": {},
   "outputs": [
    {
     "data": {
      "text/plain": [
       "array([0, 1, 0, 0, 1, 0, 1, 0, 1, 0, 0, 0, 1, 0, 1, 1, 0, 0, 1, 1, 0, 0,\n",
       "       1, 0, 1, 0, 1, 0, 0, 0, 0, 0, 1, 1, 0, 0, 1, 1, 0, 0, 0, 0, 0, 1,\n",
       "       1, 0, 0, 0, 1, 1, 0, 0, 1, 1, 0, 0, 0, 0, 0, 1, 0, 0, 0, 1, 0, 1,\n",
       "       1, 0, 0, 1, 1, 0, 1, 0, 1, 0, 0, 1, 0, 1, 0, 0, 0, 0, 0, 0, 1, 1,\n",
       "       1, 0, 1, 0, 1, 0, 0, 0, 1, 0, 1, 0, 1, 0, 0, 0, 1, 0, 0, 0, 0, 0,\n",
       "       0, 1, 1, 1, 1, 0, 0, 1, 0, 1, 1, 0, 1, 0, 0, 1, 0, 1, 0, 0, 0, 0,\n",
       "       1, 0, 0, 0, 0, 0, 1, 0, 1, 1, 0, 0, 0, 0, 0, 0, 0, 0, 1, 0, 0, 1,\n",
       "       0, 0, 1, 1, 0, 1, 1, 0, 1, 0, 0, 1, 0, 0, 1, 1, 0, 0, 0, 0, 0, 1,\n",
       "       1, 0, 1, 1, 0, 0, 1, 0, 1, 0, 1, 0, 1, 0, 0, 0, 0, 0, 0, 0, 0, 1,\n",
       "       0, 1, 1, 0, 0, 1, 0, 0, 1, 0, 1, 0, 0, 0, 0, 1, 1, 0, 1, 0, 1, 0,\n",
       "       1, 0, 1, 0, 1, 1, 0, 1, 0, 0, 0, 1, 0, 0, 0, 0, 0, 0, 1, 1, 1, 1,\n",
       "       0, 0, 0, 0, 1, 0, 1, 1, 1, 0, 0, 0, 0, 0, 0, 0, 1, 0, 0, 0, 1, 1,\n",
       "       0, 0, 0, 0, 1, 0, 0, 0, 1, 1, 0, 1, 0, 0, 0, 0, 1, 0, 1, 1, 1, 0,\n",
       "       0, 0, 0, 0, 0, 1, 0, 0, 0, 0, 1, 0, 0, 0, 0, 0, 0, 0, 1, 1, 0, 0,\n",
       "       0, 1, 0, 0, 0, 1, 1, 1, 0, 0, 0, 0, 0, 0, 0, 0, 1, 0, 1, 0, 0, 0,\n",
       "       1, 0, 0, 1, 0, 0, 0, 0, 0, 0, 0, 0, 0, 1, 0, 1, 0, 1, 0, 1, 1, 0,\n",
       "       0, 0, 1, 0, 1, 0, 0, 1, 0, 1, 1, 0, 1, 1, 0, 1, 1, 0, 0, 1, 0, 0,\n",
       "       1, 1, 1, 0, 0, 0, 0, 0, 1, 1, 0, 1, 0, 0, 0, 0, 0, 1, 0, 0, 0, 1,\n",
       "       0, 1, 0, 0, 1, 0, 1, 0, 0, 0, 0, 0, 1, 1, 1, 1, 1, 0, 1, 0, 0, 0])"
      ]
     },
     "execution_count": 18,
     "metadata": {},
     "output_type": "execute_result"
    }
   ],
   "source": [
    "# Fazendo predição na base de testes\n",
    "y_pred = model_lr.predict(X_test)\n",
    "y_pred"
   ]
  },
  {
   "cell_type": "code",
   "execution_count": 19,
   "id": "ae832f54-6ad7-4f04-9ec9-f773817688ba",
   "metadata": {},
   "outputs": [],
   "source": [
    "submission = pd.DataFrame(test[\"PassengerId\"])"
   ]
  },
  {
   "cell_type": "code",
   "execution_count": 20,
   "id": "1ce37a7b-cb6d-4cca-9908-b2f2b99fc0ce",
   "metadata": {},
   "outputs": [],
   "source": [
    "#salvando o arquivo para submissão no kaggle\n",
    "submission[\"Survived\"] = y_pred\n",
    "submission.to_csv(\"dados/submission1.csv\", index= False)"
   ]
  },
  {
   "cell_type": "code",
   "execution_count": null,
   "id": "c0970f4e-0ddb-4027-b401-71959edf670f",
   "metadata": {},
   "outputs": [],
   "source": []
  },
  {
   "cell_type": "markdown",
   "id": "1efebc66-4e81-4633-b24b-d35dde439f01",
   "metadata": {},
   "source": [
    "# 2. Adição de Features"
   ]
  },
  {
   "cell_type": "code",
   "execution_count": 21,
   "id": "98930129-9f13-4260-9527-0fa88dbc6e70",
   "metadata": {},
   "outputs": [],
   "source": [
    "# separando dados de treinamento\n",
    "X_train = train.drop(['PassengerId', 'Survived'], axis = 1)\n",
    "X_test = test.drop(['PassengerId'], axis = 1)"
   ]
  },
  {
   "cell_type": "code",
   "execution_count": 22,
   "id": "5bdeaec0-3538-4ca1-a9fc-cad3c7605ae8",
   "metadata": {},
   "outputs": [
    {
     "name": "stdout",
     "output_type": "stream",
     "text": [
      "<class 'pandas.core.frame.DataFrame'>\n",
      "RangeIndex: 891 entries, 0 to 890\n",
      "Data columns (total 10 columns):\n",
      " #   Column    Non-Null Count  Dtype  \n",
      "---  ------    --------------  -----  \n",
      " 0   Pclass    891 non-null    int64  \n",
      " 1   Name      891 non-null    object \n",
      " 2   Sex       891 non-null    object \n",
      " 3   Age       714 non-null    float64\n",
      " 4   SibSp     891 non-null    int64  \n",
      " 5   Parch     891 non-null    int64  \n",
      " 6   Ticket    891 non-null    object \n",
      " 7   Fare      891 non-null    float64\n",
      " 8   Cabin     204 non-null    object \n",
      " 9   Embarked  889 non-null    object \n",
      "dtypes: float64(2), int64(3), object(5)\n",
      "memory usage: 69.7+ KB\n"
     ]
    },
    {
     "data": {
      "text/plain": [
       "(None,\n",
       " Embarked\n",
       " S    644\n",
       " C    168\n",
       " Q     77\n",
       " Name: count, dtype: int64)"
      ]
     },
     "execution_count": 22,
     "metadata": {},
     "output_type": "execute_result"
    }
   ],
   "source": [
    "X_train.info(), X_train[\"Embarked\"].value_counts()"
   ]
  },
  {
   "cell_type": "code",
   "execution_count": 23,
   "id": "14415144-f926-44e9-9649-1bfc1c483aa8",
   "metadata": {},
   "outputs": [
    {
     "name": "stderr",
     "output_type": "stream",
     "text": [
      "/tmp/ipykernel_18023/1681784605.py:4: FutureWarning: Downcasting behavior in `replace` is deprecated and will be removed in a future version. To retain the old behavior, explicitly call `result.infer_objects(copy=False)`. To opt-in to the future behavior, set `pd.set_option('future.no_silent_downcasting', True)`\n",
      "  X[\"mulher\"] = X[\"Sex\"].replace(subs)\n",
      "/tmp/ipykernel_18023/1681784605.py:9: FutureWarning: Downcasting behavior in `replace` is deprecated and will be removed in a future version. To retain the old behavior, explicitly call `result.infer_objects(copy=False)`. To opt-in to the future behavior, set `pd.set_option('future.no_silent_downcasting', True)`\n",
      "  X[\"porto\"] = X[\"Embarked\"].replace(subs)\n",
      "/tmp/ipykernel_18023/1681784605.py:4: FutureWarning: Downcasting behavior in `replace` is deprecated and will be removed in a future version. To retain the old behavior, explicitly call `result.infer_objects(copy=False)`. To opt-in to the future behavior, set `pd.set_option('future.no_silent_downcasting', True)`\n",
      "  X[\"mulher\"] = X[\"Sex\"].replace(subs)\n",
      "/tmp/ipykernel_18023/1681784605.py:9: FutureWarning: Downcasting behavior in `replace` is deprecated and will be removed in a future version. To retain the old behavior, explicitly call `result.infer_objects(copy=False)`. To opt-in to the future behavior, set `pd.set_option('future.no_silent_downcasting', True)`\n",
      "  X[\"porto\"] = X[\"Embarked\"].replace(subs)\n"
     ]
    }
   ],
   "source": [
    "# criar features e transformar em valores numéricos\n",
    "def criar_feature(X):\n",
    "    subs = {\"female\":1,\"male\":0}\n",
    "    X[\"mulher\"] = X[\"Sex\"].replace(subs)\n",
    "    X[\"Fare\"] = X[\"Fare\"].fillna(X[\"Fare\"].mean())\n",
    "    X[\"Age\"] = X[\"Age\"].fillna(X[\"Age\"].mean())\n",
    "    X[\"Embarked\"]= X[\"Embarked\"].fillna(\"S\")\n",
    "    subs = {\"S\":1,\"C\":2,\"Q\":3}\n",
    "    X[\"porto\"] = X[\"Embarked\"].replace(subs)\n",
    "    X['crianca'] = 1\n",
    "    X['crianca'] = np.where(X['Age'] < 12,1,0)\n",
    "    return X\n",
    "\n",
    "X_train = criar_feature(X_train)\n",
    "X_test = criar_feature(X_test)"
   ]
  },
  {
   "cell_type": "code",
   "execution_count": 24,
   "id": "fa845e6e-0119-45f2-bf7c-26f28a5e7590",
   "metadata": {},
   "outputs": [
    {
     "data": {
      "text/plain": [
       "Index(['Pclass', 'Name', 'Sex', 'Age', 'SibSp', 'Parch', 'Ticket', 'Fare',\n",
       "       'Cabin', 'Embarked', 'mulher', 'porto', 'crianca'],\n",
       "      dtype='object')"
      ]
     },
     "execution_count": 24,
     "metadata": {},
     "output_type": "execute_result"
    }
   ],
   "source": [
    "X_train.columns"
   ]
  },
  {
   "cell_type": "code",
   "execution_count": 25,
   "id": "4dfbccf8-a947-47b4-843c-e4dadaef732a",
   "metadata": {},
   "outputs": [],
   "source": [
    "# selecionar as features que eu quero trabalhar no treino\n",
    "features = ['Pclass', 'Age', 'SibSp', 'Parch', 'Fare', 'mulher', 'porto', 'crianca']\n",
    "X_train = X_train[features]\n",
    "X_test = X_test[features]\n",
    "\n",
    "y_train = train[\"Survived\"]\n"
   ]
  },
  {
   "cell_type": "code",
   "execution_count": 26,
   "id": "cc71653e-66b9-4e62-8d67-e59f2d9b3123",
   "metadata": {},
   "outputs": [
    {
     "data": {
      "text/html": [
       "<div>\n",
       "<style scoped>\n",
       "    .dataframe tbody tr th:only-of-type {\n",
       "        vertical-align: middle;\n",
       "    }\n",
       "\n",
       "    .dataframe tbody tr th {\n",
       "        vertical-align: top;\n",
       "    }\n",
       "\n",
       "    .dataframe thead th {\n",
       "        text-align: right;\n",
       "    }\n",
       "</style>\n",
       "<table border=\"1\" class=\"dataframe\">\n",
       "  <thead>\n",
       "    <tr style=\"text-align: right;\">\n",
       "      <th></th>\n",
       "      <th>Pclass</th>\n",
       "      <th>Age</th>\n",
       "      <th>SibSp</th>\n",
       "      <th>Parch</th>\n",
       "      <th>Fare</th>\n",
       "      <th>mulher</th>\n",
       "      <th>porto</th>\n",
       "      <th>crianca</th>\n",
       "    </tr>\n",
       "  </thead>\n",
       "  <tbody>\n",
       "    <tr>\n",
       "      <th>0</th>\n",
       "      <td>3</td>\n",
       "      <td>22.000000</td>\n",
       "      <td>1</td>\n",
       "      <td>0</td>\n",
       "      <td>7.2500</td>\n",
       "      <td>0</td>\n",
       "      <td>1</td>\n",
       "      <td>0</td>\n",
       "    </tr>\n",
       "    <tr>\n",
       "      <th>1</th>\n",
       "      <td>1</td>\n",
       "      <td>38.000000</td>\n",
       "      <td>1</td>\n",
       "      <td>0</td>\n",
       "      <td>71.2833</td>\n",
       "      <td>1</td>\n",
       "      <td>2</td>\n",
       "      <td>0</td>\n",
       "    </tr>\n",
       "    <tr>\n",
       "      <th>2</th>\n",
       "      <td>3</td>\n",
       "      <td>26.000000</td>\n",
       "      <td>0</td>\n",
       "      <td>0</td>\n",
       "      <td>7.9250</td>\n",
       "      <td>1</td>\n",
       "      <td>1</td>\n",
       "      <td>0</td>\n",
       "    </tr>\n",
       "    <tr>\n",
       "      <th>3</th>\n",
       "      <td>1</td>\n",
       "      <td>35.000000</td>\n",
       "      <td>1</td>\n",
       "      <td>0</td>\n",
       "      <td>53.1000</td>\n",
       "      <td>1</td>\n",
       "      <td>1</td>\n",
       "      <td>0</td>\n",
       "    </tr>\n",
       "    <tr>\n",
       "      <th>4</th>\n",
       "      <td>3</td>\n",
       "      <td>35.000000</td>\n",
       "      <td>0</td>\n",
       "      <td>0</td>\n",
       "      <td>8.0500</td>\n",
       "      <td>0</td>\n",
       "      <td>1</td>\n",
       "      <td>0</td>\n",
       "    </tr>\n",
       "    <tr>\n",
       "      <th>...</th>\n",
       "      <td>...</td>\n",
       "      <td>...</td>\n",
       "      <td>...</td>\n",
       "      <td>...</td>\n",
       "      <td>...</td>\n",
       "      <td>...</td>\n",
       "      <td>...</td>\n",
       "      <td>...</td>\n",
       "    </tr>\n",
       "    <tr>\n",
       "      <th>886</th>\n",
       "      <td>2</td>\n",
       "      <td>27.000000</td>\n",
       "      <td>0</td>\n",
       "      <td>0</td>\n",
       "      <td>13.0000</td>\n",
       "      <td>0</td>\n",
       "      <td>1</td>\n",
       "      <td>0</td>\n",
       "    </tr>\n",
       "    <tr>\n",
       "      <th>887</th>\n",
       "      <td>1</td>\n",
       "      <td>19.000000</td>\n",
       "      <td>0</td>\n",
       "      <td>0</td>\n",
       "      <td>30.0000</td>\n",
       "      <td>1</td>\n",
       "      <td>1</td>\n",
       "      <td>0</td>\n",
       "    </tr>\n",
       "    <tr>\n",
       "      <th>888</th>\n",
       "      <td>3</td>\n",
       "      <td>29.699118</td>\n",
       "      <td>1</td>\n",
       "      <td>2</td>\n",
       "      <td>23.4500</td>\n",
       "      <td>1</td>\n",
       "      <td>1</td>\n",
       "      <td>0</td>\n",
       "    </tr>\n",
       "    <tr>\n",
       "      <th>889</th>\n",
       "      <td>1</td>\n",
       "      <td>26.000000</td>\n",
       "      <td>0</td>\n",
       "      <td>0</td>\n",
       "      <td>30.0000</td>\n",
       "      <td>0</td>\n",
       "      <td>2</td>\n",
       "      <td>0</td>\n",
       "    </tr>\n",
       "    <tr>\n",
       "      <th>890</th>\n",
       "      <td>3</td>\n",
       "      <td>32.000000</td>\n",
       "      <td>0</td>\n",
       "      <td>0</td>\n",
       "      <td>7.7500</td>\n",
       "      <td>0</td>\n",
       "      <td>3</td>\n",
       "      <td>0</td>\n",
       "    </tr>\n",
       "  </tbody>\n",
       "</table>\n",
       "<p>891 rows × 8 columns</p>\n",
       "</div>"
      ],
      "text/plain": [
       "     Pclass        Age  SibSp  Parch     Fare  mulher  porto  crianca\n",
       "0         3  22.000000      1      0   7.2500       0      1        0\n",
       "1         1  38.000000      1      0  71.2833       1      2        0\n",
       "2         3  26.000000      0      0   7.9250       1      1        0\n",
       "3         1  35.000000      1      0  53.1000       1      1        0\n",
       "4         3  35.000000      0      0   8.0500       0      1        0\n",
       "..      ...        ...    ...    ...      ...     ...    ...      ...\n",
       "886       2  27.000000      0      0  13.0000       0      1        0\n",
       "887       1  19.000000      0      0  30.0000       1      1        0\n",
       "888       3  29.699118      1      2  23.4500       1      1        0\n",
       "889       1  26.000000      0      0  30.0000       0      2        0\n",
       "890       3  32.000000      0      0   7.7500       0      3        0\n",
       "\n",
       "[891 rows x 8 columns]"
      ]
     },
     "execution_count": 26,
     "metadata": {},
     "output_type": "execute_result"
    }
   ],
   "source": [
    "X_train"
   ]
  },
  {
   "cell_type": "code",
   "execution_count": 27,
   "id": "a5fec435-03c6-4a00-9272-a319ff27f026",
   "metadata": {},
   "outputs": [
    {
     "data": {
      "text/plain": [
       "(array([[ 0.82737724, -0.5924806 ,  0.43279337, ..., -0.73769513,\n",
       "         -0.56883712, -0.28744485],\n",
       "        [-1.56610693,  0.63878901,  0.43279337, ...,  1.35557354,\n",
       "          1.00518113, -0.28744485],\n",
       "        [ 0.82737724, -0.2846632 , -0.4745452 , ...,  1.35557354,\n",
       "         -0.56883712, -0.28744485],\n",
       "        ...,\n",
       "        [ 0.82737724,  0.        ,  0.43279337, ...,  1.35557354,\n",
       "         -0.56883712, -0.28744485],\n",
       "        [-1.56610693, -0.2846632 , -0.4745452 , ..., -0.73769513,\n",
       "          1.00518113, -0.28744485],\n",
       "        [ 0.82737724,  0.17706291, -0.4745452 , ..., -0.73769513,\n",
       "          2.57919938, -0.28744485]], shape=(891, 8)),\n",
       " array([[ 0.82737724,  0.36944878, -0.4745452 , ..., -0.73769513,\n",
       "          2.57919938, -0.28744485],\n",
       "        [ 0.82737724,  1.33137817,  0.43279337, ...,  1.35557354,\n",
       "         -0.56883712, -0.28744485],\n",
       "        [-0.36936484,  2.48569343, -0.4745452 , ..., -0.73769513,\n",
       "          2.57919938, -0.28744485],\n",
       "        ...,\n",
       "        [ 0.82737724,  0.67726619, -0.4745452 , ..., -0.73769513,\n",
       "         -0.56883712, -0.28744485],\n",
       "        [ 0.82737724,  0.04413122, -0.4745452 , ..., -0.73769513,\n",
       "         -0.56883712, -0.28744485],\n",
       "        [ 0.82737724,  0.04413122,  0.43279337, ..., -0.73769513,\n",
       "          1.00518113, -0.28744485]], shape=(418, 8)))"
      ]
     },
     "execution_count": 27,
     "metadata": {},
     "output_type": "execute_result"
    }
   ],
   "source": [
    "#Padronização das variáveis\n",
    "scaler = StandardScaler() #media 0 e desviopadrao 1\n",
    "\n",
    "X_train_sc = scaler.fit_transform(X_train)\n",
    "X_test_sc = scaler.transform(X_test)\n",
    "X_train_sc,X_test_sc"
   ]
  },
  {
   "cell_type": "code",
   "execution_count": 28,
   "id": "18beeb28-49f2-416f-bb7a-1a5047056f03",
   "metadata": {},
   "outputs": [
    {
     "name": "stdout",
     "output_type": "stream",
     "text": [
      "[0.81111111 0.79775281 0.7752809  0.83146067 0.80898876 0.76404494\n",
      " 0.78651685 0.78651685 0.83146067 0.85393258]\n",
      "0.8047066167290886\n"
     ]
    }
   ],
   "source": [
    "#modelo de validação\n",
    "#Logistic Regression, # setando o max_iter\n",
    "model_lr = LogisticRegression(random_state=0,max_iter=1000)\n",
    "score = cross_val_score(model_lr,X_train_sc,y_train,cv=10)\n",
    "print(score)\n",
    "print(np.mean(score))"
   ]
  },
  {
   "cell_type": "code",
   "execution_count": 29,
   "id": "f1ac7878-01cf-4069-9fe5-aa47da7d2964",
   "metadata": {},
   "outputs": [
    {
     "data": {
      "text/plain": [
       "array([0, 1, 1, 1, 0, 0, 0, 0, 1, 1, 1, 1, 0, 0, 1, 1, 0, 0, 1, 1, 0, 0,\n",
       "       1, 0, 1, 0, 0, 0, 1, 0, 0, 1, 1, 0, 0, 0, 0, 0, 0, 1, 0, 1, 0, 1,\n",
       "       1, 0, 0, 1, 0, 1, 0, 0, 1, 1, 0, 0, 1, 0, 1, 0, 0, 1, 0, 0, 1, 0,\n",
       "       1, 0, 0, 0, 0, 0, 0, 0, 0, 0, 0, 0, 1, 1, 0, 0, 1, 0, 1, 0, 0, 0,\n",
       "       1, 0, 0, 0, 0, 0, 0, 0, 0, 1, 1, 0, 1, 0, 0, 0, 0, 0, 1, 0, 0, 1,\n",
       "       0, 1, 0, 1, 1, 0, 0, 0, 1, 1, 0, 0, 0, 1, 0, 0, 0, 0, 1, 0, 0, 0,\n",
       "       0, 1, 0, 0, 1, 0, 0, 1, 1, 1, 1, 0, 0, 0, 0, 1, 0, 0, 0, 1, 0, 0,\n",
       "       0, 0, 1, 0, 0, 0, 0, 1, 0, 0, 0, 0, 1, 0, 0, 0, 0, 0, 1, 0, 0, 0,\n",
       "       0, 1, 0, 0, 0, 0, 0, 0, 1, 0, 1, 0, 0, 0, 1, 0, 1, 1, 1, 1, 0, 0,\n",
       "       1, 1, 0, 0, 0, 0, 0, 1, 0, 0, 1, 0, 0, 1, 0, 0, 0, 1, 1, 0, 1, 0,\n",
       "       0, 0, 0, 0, 0, 0, 0, 0, 0, 0, 1, 0, 0, 1, 0, 1, 0, 1, 0, 0, 1, 1,\n",
       "       0, 0, 0, 0, 1, 1, 0, 0, 0, 0, 0, 0, 0, 1, 1, 1, 1, 1, 0, 0, 0, 0,\n",
       "       1, 0, 0, 0, 1, 1, 0, 0, 1, 0, 1, 1, 1, 0, 0, 0, 0, 0, 0, 0, 0, 0,\n",
       "       0, 0, 0, 1, 1, 1, 0, 1, 0, 1, 0, 1, 0, 1, 1, 0, 0, 1, 0, 1, 1, 1,\n",
       "       0, 1, 1, 1, 1, 0, 0, 1, 1, 0, 1, 1, 0, 0, 1, 1, 0, 1, 0, 1, 0, 1,\n",
       "       1, 0, 0, 0, 1, 0, 0, 1, 0, 0, 1, 1, 0, 0, 0, 1, 1, 1, 0, 0, 0, 0,\n",
       "       0, 0, 0, 0, 1, 1, 1, 1, 0, 0, 1, 0, 0, 0, 1, 1, 1, 1, 0, 0, 0, 1,\n",
       "       1, 1, 1, 1, 0, 0, 1, 1, 0, 1, 0, 0, 0, 1, 0, 1, 0, 0, 0, 1, 1, 0,\n",
       "       1, 0, 0, 1, 0, 0, 1, 0, 1, 0, 0, 1, 0, 0, 0, 0, 1, 0, 0, 1, 1, 1,\n",
       "       0, 1, 0, 0, 0, 0, 0, 0, 1, 1, 0, 0, 0, 1, 1, 0, 0, 1, 0, 1, 0, 0,\n",
       "       1, 0, 0, 1, 0, 1, 1, 0, 1, 0, 0, 0, 1, 0, 0, 0, 0, 1, 1, 0, 0, 0,\n",
       "       0, 0, 0, 0, 0, 0, 0, 1, 0, 0, 1, 1, 1, 0, 0, 0, 0, 1, 0, 0, 0, 0,\n",
       "       0, 0, 1, 0, 0, 0, 0, 0, 0, 0, 0, 0, 1, 0, 1, 0, 0, 1, 1, 1, 1, 1,\n",
       "       1, 0, 0, 0, 0, 0, 0, 1, 0, 0, 1, 0, 1, 0, 1, 0, 0, 1, 0, 0, 1, 1,\n",
       "       0, 0, 1, 0, 0, 1, 1, 1, 0, 1, 0, 1, 1, 1, 1, 0, 0, 0, 1, 0, 0, 1,\n",
       "       1, 0, 0, 0, 1, 0, 1, 1, 1, 0, 0, 0, 0, 0, 1, 0, 0, 0, 0, 0, 0, 1,\n",
       "       0, 1, 0, 0, 1, 1, 1, 0, 1, 1, 0, 0, 0, 1, 0, 0, 0, 0, 0, 1, 0, 1,\n",
       "       0, 0, 1, 0, 0, 0, 1, 0, 0, 0, 0, 0, 0, 0, 1, 1, 0, 0, 1, 0, 0, 1,\n",
       "       0, 1, 1, 0, 0, 0, 0, 0, 0, 0, 0, 1, 0, 0, 0, 0, 1, 0, 1, 1, 0, 0,\n",
       "       0, 0, 0, 1, 1, 0, 1, 0, 0, 0, 0, 1, 0, 1, 0, 1, 1, 0, 0, 1, 0, 0,\n",
       "       0, 0, 0, 0, 0, 0, 0, 0, 0, 1, 1, 0, 0, 0, 0, 0, 0, 1, 0, 1, 1, 1,\n",
       "       0, 0, 0, 0, 0, 0, 0, 1, 0, 1, 0, 0, 0, 0, 0, 1, 0, 0, 1, 0, 1, 0,\n",
       "       0, 0, 1, 0, 1, 0, 1, 0, 0, 0, 0, 0, 1, 1, 0, 0, 1, 0, 0, 0, 0, 0,\n",
       "       1, 1, 0, 1, 1, 0, 0, 0, 0, 0, 0, 1, 0, 0, 0, 0, 1, 0, 0, 0, 0, 1,\n",
       "       0, 0, 1, 0, 0, 0, 1, 1, 0, 0, 0, 1, 0, 0, 0, 1, 0, 1, 1, 1, 0, 0,\n",
       "       0, 0, 1, 0, 0, 0, 0, 1, 0, 1, 1, 1, 0, 0, 0, 0, 1, 0, 0, 0, 0, 0,\n",
       "       0, 1, 0, 0, 1, 1, 0, 0, 0, 1, 1, 0, 0, 0, 0, 1, 0, 1, 0, 0, 0, 1,\n",
       "       0, 0, 1, 0, 0, 0, 1, 0, 0, 1, 0, 0, 0, 1, 0, 1, 1, 1, 0, 0, 0, 1,\n",
       "       0, 0, 0, 1, 0, 0, 1, 0, 0, 0, 0, 0, 0, 1, 0, 0, 1, 1, 1, 1, 1, 0,\n",
       "       1, 0, 0, 0, 1, 0, 0, 1, 1, 0, 0, 0, 0, 1, 0, 0, 1, 1, 0, 0, 0, 1,\n",
       "       1, 0, 1, 0, 0, 0, 0, 1, 0, 1, 0])"
      ]
     },
     "execution_count": 29,
     "metadata": {},
     "output_type": "execute_result"
    }
   ],
   "source": [
    "# modelo final\n",
    "model_lr.fit(X_train_sc,y_train)\n",
    "y_pred = model_lr.predict(X_train_sc)\n",
    "y_pred"
   ]
  },
  {
   "cell_type": "code",
   "execution_count": 30,
   "id": "15d4c6a8-bdc6-4cdc-a63d-13fda4de4933",
   "metadata": {},
   "outputs": [
    {
     "name": "stdout",
     "output_type": "stream",
     "text": [
      "[[479  70]\n",
      " [ 98 244]]\n"
     ]
    }
   ],
   "source": [
    "# Matriz principal tem os resultados\n",
    "mc = confusion_matrix(y_train,y_pred)\n",
    "print(mc)"
   ]
  },
  {
   "cell_type": "markdown",
   "id": "a17edd48-a1cb-4d5b-adab-dc56847e9f91",
   "metadata": {},
   "source": [
    "## 2.1. Acurácia na base de treinamento"
   ]
  },
  {
   "cell_type": "code",
   "execution_count": 31,
   "id": "313c42ec-8ab1-4285-aedf-967ecbb60295",
   "metadata": {},
   "outputs": [
    {
     "data": {
      "text/plain": [
       "0.8114478114478114"
      ]
     },
     "execution_count": 31,
     "metadata": {},
     "output_type": "execute_result"
    }
   ],
   "source": [
    "score = model_lr.score(X_train_sc,y_train)\n",
    "score"
   ]
  },
  {
   "cell_type": "markdown",
   "id": "0b020da8-7bc9-4ef1-97b5-711321b5ba07",
   "metadata": {},
   "source": [
    "## 2.2. Predição sobre a base de teste\n",
    "Fazendo a predição sobre a base de testes e exportando o arquivo para realizar a submissão através da plataforma Kaggle."
   ]
  },
  {
   "cell_type": "code",
   "execution_count": 32,
   "id": "2fc1a351-86f0-460a-8f76-d9b7e6e20c6c",
   "metadata": {},
   "outputs": [
    {
     "data": {
      "text/plain": [
       "array([0, 0, 0, 0, 0, 0, 1, 0, 1, 0, 0, 0, 1, 0, 1, 1, 0, 0, 1, 1, 0, 0,\n",
       "       1, 1, 1, 0, 1, 0, 0, 0, 0, 0, 0, 0, 0, 0, 1, 1, 0, 0, 0, 0, 0, 1,\n",
       "       1, 0, 0, 0, 1, 0, 0, 0, 1, 1, 0, 0, 0, 0, 0, 1, 0, 0, 0, 1, 0, 1,\n",
       "       1, 0, 1, 1, 1, 0, 1, 1, 1, 1, 0, 1, 0, 1, 0, 0, 0, 0, 0, 0, 1, 1,\n",
       "       1, 1, 1, 0, 1, 0, 1, 0, 1, 0, 1, 0, 1, 0, 0, 0, 1, 0, 0, 0, 0, 0,\n",
       "       0, 1, 1, 1, 1, 0, 0, 1, 1, 1, 1, 0, 1, 0, 0, 1, 0, 1, 0, 0, 0, 0,\n",
       "       0, 0, 0, 0, 0, 0, 1, 0, 0, 1, 0, 0, 0, 0, 0, 0, 0, 0, 1, 0, 0, 0,\n",
       "       0, 0, 1, 1, 0, 1, 1, 0, 1, 0, 0, 0, 0, 0, 1, 1, 0, 0, 0, 0, 0, 1,\n",
       "       1, 0, 1, 1, 0, 0, 1, 0, 1, 0, 1, 0, 0, 0, 0, 0, 0, 0, 1, 0, 1, 1,\n",
       "       0, 1, 1, 0, 0, 1, 0, 1, 1, 0, 1, 0, 0, 0, 0, 1, 0, 0, 1, 0, 1, 0,\n",
       "       1, 0, 1, 0, 1, 1, 0, 1, 0, 0, 0, 1, 0, 0, 0, 0, 0, 0, 1, 1, 1, 1,\n",
       "       0, 0, 0, 0, 1, 0, 1, 1, 1, 0, 1, 0, 0, 0, 0, 0, 1, 0, 0, 0, 1, 1,\n",
       "       0, 0, 0, 0, 1, 0, 0, 0, 1, 1, 0, 1, 0, 0, 0, 0, 1, 0, 1, 1, 1, 0,\n",
       "       0, 0, 0, 0, 0, 1, 0, 0, 0, 0, 1, 0, 0, 0, 0, 0, 0, 0, 1, 1, 0, 0,\n",
       "       0, 0, 0, 0, 0, 1, 1, 1, 0, 0, 0, 0, 0, 0, 0, 0, 1, 0, 1, 0, 0, 0,\n",
       "       1, 0, 0, 1, 0, 0, 0, 0, 0, 0, 0, 0, 0, 1, 0, 1, 0, 1, 0, 1, 1, 0,\n",
       "       0, 0, 1, 0, 1, 0, 0, 1, 0, 1, 1, 0, 1, 0, 0, 1, 1, 0, 0, 1, 0, 0,\n",
       "       1, 1, 0, 0, 0, 0, 0, 0, 1, 1, 0, 1, 0, 0, 0, 0, 1, 1, 0, 0, 0, 1,\n",
       "       0, 1, 0, 0, 1, 0, 1, 1, 0, 0, 0, 0, 1, 1, 1, 1, 1, 0, 1, 0, 0, 0])"
      ]
     },
     "execution_count": 32,
     "metadata": {},
     "output_type": "execute_result"
    }
   ],
   "source": [
    "# Fazendo predição na base de testes\n",
    "y_pred = model_lr.predict(X_test_sc)\n",
    "y_pred"
   ]
  },
  {
   "cell_type": "code",
   "execution_count": 33,
   "id": "621e327f-ed7a-4c05-aea7-d466df759c2b",
   "metadata": {},
   "outputs": [],
   "source": [
    "submission = pd.DataFrame(test[\"PassengerId\"])"
   ]
  },
  {
   "cell_type": "code",
   "execution_count": 34,
   "id": "933415d2-1ae5-4e97-bbf4-df57ba5e9314",
   "metadata": {},
   "outputs": [],
   "source": [
    "#salvando o arquivo para submissão no kaggle\n",
    "submission[\"Survived\"] = y_pred\n",
    "submission.to_csv(\"dados/submission2.csv\", index= False)"
   ]
  },
  {
   "cell_type": "markdown",
   "id": "d78c2621-cd93-4f07-8867-a238f4618a0f",
   "metadata": {},
   "source": [
    "# 3. Criar novas Features\n",
    "Criando novas features"
   ]
  },
  {
   "cell_type": "code",
   "execution_count": 35,
   "id": "a09b929f-4056-4255-a87a-cf920bd87ef9",
   "metadata": {},
   "outputs": [],
   "source": [
    "# separando dados de treinamento\n",
    "X_train = train.drop(['PassengerId', 'Survived'], axis = 1)\n",
    "X_test = test.drop(['PassengerId'], axis = 1)"
   ]
  },
  {
   "cell_type": "code",
   "execution_count": 36,
   "id": "73a647a4-4c06-4767-ab47-22df6ee50e51",
   "metadata": {},
   "outputs": [
    {
     "name": "stdout",
     "output_type": "stream",
     "text": [
      "<class 'pandas.core.frame.DataFrame'>\n",
      "RangeIndex: 891 entries, 0 to 890\n",
      "Data columns (total 10 columns):\n",
      " #   Column    Non-Null Count  Dtype  \n",
      "---  ------    --------------  -----  \n",
      " 0   Pclass    891 non-null    int64  \n",
      " 1   Name      891 non-null    object \n",
      " 2   Sex       891 non-null    object \n",
      " 3   Age       714 non-null    float64\n",
      " 4   SibSp     891 non-null    int64  \n",
      " 5   Parch     891 non-null    int64  \n",
      " 6   Ticket    891 non-null    object \n",
      " 7   Fare      891 non-null    float64\n",
      " 8   Cabin     204 non-null    object \n",
      " 9   Embarked  889 non-null    object \n",
      "dtypes: float64(2), int64(3), object(5)\n",
      "memory usage: 69.7+ KB\n"
     ]
    },
    {
     "data": {
      "text/plain": [
       "(None,\n",
       " Embarked\n",
       " S    644\n",
       " C    168\n",
       " Q     77\n",
       " Name: count, dtype: int64)"
      ]
     },
     "execution_count": 36,
     "metadata": {},
     "output_type": "execute_result"
    }
   ],
   "source": [
    "X_train.info(), X_train[\"Embarked\"].value_counts()"
   ]
  },
  {
   "cell_type": "code",
   "execution_count": 37,
   "id": "7589e2bf-5ef5-4abd-8593-c8924b430d10",
   "metadata": {},
   "outputs": [
    {
     "name": "stderr",
     "output_type": "stream",
     "text": [
      "/tmp/ipykernel_18023/1599567601.py:4: FutureWarning: Downcasting behavior in `replace` is deprecated and will be removed in a future version. To retain the old behavior, explicitly call `result.infer_objects(copy=False)`. To opt-in to the future behavior, set `pd.set_option('future.no_silent_downcasting', True)`\n",
      "  X[\"mulher\"] = X[\"Sex\"].replace(subs)\n",
      "/tmp/ipykernel_18023/1599567601.py:9: FutureWarning: Downcasting behavior in `replace` is deprecated and will be removed in a future version. To retain the old behavior, explicitly call `result.infer_objects(copy=False)`. To opt-in to the future behavior, set `pd.set_option('future.no_silent_downcasting', True)`\n",
      "  X[\"porto\"] = X[\"Embarked\"].replace(subs)\n",
      "/tmp/ipykernel_18023/1599567601.py:4: FutureWarning: Downcasting behavior in `replace` is deprecated and will be removed in a future version. To retain the old behavior, explicitly call `result.infer_objects(copy=False)`. To opt-in to the future behavior, set `pd.set_option('future.no_silent_downcasting', True)`\n",
      "  X[\"mulher\"] = X[\"Sex\"].replace(subs)\n",
      "/tmp/ipykernel_18023/1599567601.py:9: FutureWarning: Downcasting behavior in `replace` is deprecated and will be removed in a future version. To retain the old behavior, explicitly call `result.infer_objects(copy=False)`. To opt-in to the future behavior, set `pd.set_option('future.no_silent_downcasting', True)`\n",
      "  X[\"porto\"] = X[\"Embarked\"].replace(subs)\n"
     ]
    }
   ],
   "source": [
    "# criar features e transformar em valores numéricos\n",
    "def criar_feature(X):\n",
    "    subs = {\"female\":1,\"male\":0}\n",
    "    X[\"mulher\"] = X[\"Sex\"].replace(subs)\n",
    "    X[\"Fare\"] = X[\"Fare\"].fillna(X[\"Fare\"].mean())\n",
    "    X[\"Age\"] = X[\"Age\"].fillna(X[\"Age\"].mean())\n",
    "    X[\"Embarked\"]= X[\"Embarked\"].fillna(\"S\")\n",
    "    subs = {\"S\":1,\"C\":2,\"Q\":3}\n",
    "    X[\"porto\"] = X[\"Embarked\"].replace(subs)\n",
    "    X['crianca'] = 1\n",
    "    X['crianca'] = np.where(X['Age'] < 12,1,0)\n",
    "    # Criar coluna de 'TamanhoDaFamilia'combinando SibSp e 'Parch'\n",
    "    X['TamanhoDaFamilia'] = X['Parch'] + X['SibSp'] \n",
    "    # Criar coluna de viajando sozinho para identificar passageiros que estão viajando sozinhos\n",
    "    X['EstaSozinho'] = np.where(X['TamanhoDaFamilia'] == 0, 1,0)\n",
    "    \n",
    "    return X\n",
    "\n",
    "X_train = criar_feature(X_train)\n",
    "X_test = criar_feature(X_test)"
   ]
  },
  {
   "cell_type": "code",
   "execution_count": 38,
   "id": "dbdfd036-52bb-43a5-b646-4a8819c5bd09",
   "metadata": {},
   "outputs": [
    {
     "data": {
      "text/plain": [
       "Index(['Pclass', 'Name', 'Sex', 'Age', 'SibSp', 'Parch', 'Ticket', 'Fare',\n",
       "       'Cabin', 'Embarked', 'mulher', 'porto', 'crianca', 'TamanhoDaFamilia',\n",
       "       'EstaSozinho'],\n",
       "      dtype='object')"
      ]
     },
     "execution_count": 38,
     "metadata": {},
     "output_type": "execute_result"
    }
   ],
   "source": [
    "X_train.columns"
   ]
  },
  {
   "cell_type": "code",
   "execution_count": 39,
   "id": "f8e41f8b-94ba-4de5-9a3b-af3e097ca9a8",
   "metadata": {},
   "outputs": [],
   "source": [
    "# selecionar as features que eu quero trabalhar no treino\n",
    "features = ['Pclass', 'Age', 'SibSp', 'Parch', 'Fare', 'mulher', 'porto', 'crianca', \n",
    "            'TamanhoDaFamilia', 'EstaSozinho']\n",
    "X_train = X_train[features]\n",
    "X_test = X_test[features]\n",
    "\n",
    "y_train = train[\"Survived\"]\n"
   ]
  },
  {
   "cell_type": "code",
   "execution_count": 40,
   "id": "91e14dfc-d4e2-4ea9-9522-9a585c4a0a15",
   "metadata": {},
   "outputs": [
    {
     "data": {
      "image/png": "[encoded data removed]",
      "text/plain": [
       "<Figure size 640x480 with 1 Axes>"
      ]
     },
     "metadata": {},
     "output_type": "display_data"
    },
    {
     "data": {
      "image/png": "[encoded data removed]",
      "text/plain": [
       "<Figure size 640x480 with 1 Axes>"
      ]
     },
     "metadata": {},
     "output_type": "display_data"
    },
    {
     "data": {
      "image/png": "[encoded data removed]",
      "text/plain": [
       "<Figure size 640x480 with 1 Axes>"
      ]
     },
     "metadata": {},
     "output_type": "display_data"
    },
    {
     "data": {
      "image/png": "[encoded data removed]",
      "text/plain": [
       "<Figure size 640x480 with 1 Axes>"
      ]
     },
     "metadata": {},
     "output_type": "display_data"
    },
    {
     "data": {
      "image/png": "[encoded data removed]",
      "text/plain": [
       "<Figure size 640x480 with 1 Axes>"
      ]
     },
     "metadata": {},
     "output_type": "display_data"
    },
    {
     "data": {
      "image/png": "[encoded data removed]",
      "text/plain": [
       "<Figure size 640x480 with 1 Axes>"
      ]
     },
     "metadata": {},
     "output_type": "display_data"
    },
    {
     "data": {
      "image/png": "[encoded data removed]",
      "text/plain": [
       "<Figure size 640x480 with 1 Axes>"
      ]
     },
     "metadata": {},
     "output_type": "display_data"
    },
    {
     "data": {
      "image/png": "[encoded data removed]",
      "text/plain": [
       "<Figure size 640x480 with 1 Axes>"
      ]
     },
     "metadata": {},
     "output_type": "display_data"
    },
    {
     "data": {
      "image/png": "[encoded data removed]",
      "text/plain": [
       "<Figure size 640x480 with 1 Axes>"
      ]
     },
     "metadata": {},
     "output_type": "display_data"
    },
    {
     "data": {
      "image/png": "[encoded data removed]",
      "text/plain": [
       "<Figure size 640x480 with 1 Axes>"
      ]
     },
     "metadata": {},
     "output_type": "display_data"
    }
   ],
   "source": [
    "# Visualização dos dados\n",
    "import matplotlib.pyplot as plt\n",
    "\n",
    "for i in X_train.columns:\n",
    "    plt.hist(X_train[i])\n",
    "    plt.title(i)\n",
    "    plt.show()\n"
   ]
  },
  {
   "cell_type": "code",
   "execution_count": 41,
   "id": "ba903238-5c40-4c0a-90f8-065777a5cb4e",
   "metadata": {},
   "outputs": [
    {
     "data": {
      "text/html": [
       "<div>\n",
       "<style scoped>\n",
       "    .dataframe tbody tr th:only-of-type {\n",
       "        vertical-align: middle;\n",
       "    }\n",
       "\n",
       "    .dataframe tbody tr th {\n",
       "        vertical-align: top;\n",
       "    }\n",
       "\n",
       "    .dataframe thead th {\n",
       "        text-align: right;\n",
       "    }\n",
       "</style>\n",
       "<table border=\"1\" class=\"dataframe\">\n",
       "  <thead>\n",
       "    <tr style=\"text-align: right;\">\n",
       "      <th></th>\n",
       "      <th>PassengerId</th>\n",
       "      <th>Pclass</th>\n",
       "      <th>Age</th>\n",
       "      <th>SibSp</th>\n",
       "      <th>Parch</th>\n",
       "      <th>Fare</th>\n",
       "    </tr>\n",
       "    <tr>\n",
       "      <th>Survived</th>\n",
       "      <th></th>\n",
       "      <th></th>\n",
       "      <th></th>\n",
       "      <th></th>\n",
       "      <th></th>\n",
       "      <th></th>\n",
       "    </tr>\n",
       "  </thead>\n",
       "  <tbody>\n",
       "    <tr>\n",
       "      <th>0</th>\n",
       "      <td>447.016393</td>\n",
       "      <td>2.531876</td>\n",
       "      <td>30.626179</td>\n",
       "      <td>0.553734</td>\n",
       "      <td>0.329690</td>\n",
       "      <td>22.117887</td>\n",
       "    </tr>\n",
       "    <tr>\n",
       "      <th>1</th>\n",
       "      <td>444.368421</td>\n",
       "      <td>1.950292</td>\n",
       "      <td>28.343690</td>\n",
       "      <td>0.473684</td>\n",
       "      <td>0.464912</td>\n",
       "      <td>48.395408</td>\n",
       "    </tr>\n",
       "  </tbody>\n",
       "</table>\n",
       "</div>"
      ],
      "text/plain": [
       "          PassengerId    Pclass        Age     SibSp     Parch       Fare\n",
       "Survived                                                                 \n",
       "0          447.016393  2.531876  30.626179  0.553734  0.329690  22.117887\n",
       "1          444.368421  1.950292  28.343690  0.473684  0.464912  48.395408"
      ]
     },
     "execution_count": 41,
     "metadata": {},
     "output_type": "execute_result"
    }
   ],
   "source": [
    "# group by \n",
    "# tive que utilizar o numeric_only=True\n",
    "\n",
    "gp = train.groupby(['Survived']).mean(numeric_only=True)\n",
    "gp"
   ]
  },
  {
   "cell_type": "code",
   "execution_count": 42,
   "id": "681cf736-c4a6-4b45-b33a-5ced421a4b25",
   "metadata": {},
   "outputs": [
    {
     "data": {
      "text/html": [
       "<div>\n",
       "<style scoped>\n",
       "    .dataframe tbody tr th:only-of-type {\n",
       "        vertical-align: middle;\n",
       "    }\n",
       "\n",
       "    .dataframe tbody tr th {\n",
       "        vertical-align: top;\n",
       "    }\n",
       "\n",
       "    .dataframe thead th {\n",
       "        text-align: right;\n",
       "    }\n",
       "</style>\n",
       "<table border=\"1\" class=\"dataframe\">\n",
       "  <thead>\n",
       "    <tr style=\"text-align: right;\">\n",
       "      <th>Embarked</th>\n",
       "      <th>C</th>\n",
       "      <th>Q</th>\n",
       "      <th>S</th>\n",
       "    </tr>\n",
       "    <tr>\n",
       "      <th>Survived</th>\n",
       "      <th></th>\n",
       "      <th></th>\n",
       "      <th></th>\n",
       "    </tr>\n",
       "  </thead>\n",
       "  <tbody>\n",
       "    <tr>\n",
       "      <th>0</th>\n",
       "      <td>75</td>\n",
       "      <td>47</td>\n",
       "      <td>427</td>\n",
       "    </tr>\n",
       "    <tr>\n",
       "      <th>1</th>\n",
       "      <td>93</td>\n",
       "      <td>30</td>\n",
       "      <td>217</td>\n",
       "    </tr>\n",
       "  </tbody>\n",
       "</table>\n",
       "</div>"
      ],
      "text/plain": [
       "Embarked   C   Q    S\n",
       "Survived             \n",
       "0         75  47  427\n",
       "1         93  30  217"
      ]
     },
     "execution_count": 42,
     "metadata": {},
     "output_type": "execute_result"
    }
   ],
   "source": [
    "# pivot table para análise cruzada\n",
    "table = pd.pivot_table(train,index=[\"Survived\"],columns=[\"Embarked\"],values=\"PassengerId\",aggfunc = \"count\")\n",
    "table"
   ]
  },
  {
   "cell_type": "code",
   "execution_count": 43,
   "id": "39d51631-80a8-4ad0-b666-68b24f99296f",
   "metadata": {},
   "outputs": [
    {
     "data": {
      "text/plain": [
       "(array([[ 0.82737724, -0.5924806 ,  0.43279337, ..., -0.28744485,\n",
       "          0.05915988, -1.2316449 ],\n",
       "        [-1.56610693,  0.63878901,  0.43279337, ..., -0.28744485,\n",
       "          0.05915988, -1.2316449 ],\n",
       "        [ 0.82737724, -0.2846632 , -0.4745452 , ..., -0.28744485,\n",
       "         -0.56097483,  0.81192233],\n",
       "        ...,\n",
       "        [ 0.82737724,  0.        ,  0.43279337, ..., -0.28744485,\n",
       "          1.29942929, -1.2316449 ],\n",
       "        [-1.56610693, -0.2846632 , -0.4745452 , ..., -0.28744485,\n",
       "         -0.56097483,  0.81192233],\n",
       "        [ 0.82737724,  0.17706291, -0.4745452 , ..., -0.28744485,\n",
       "         -0.56097483,  0.81192233]], shape=(891, 10)),\n",
       " array([[ 0.82737724,  0.36944878, -0.4745452 , ..., -0.28744485,\n",
       "         -0.56097483,  0.81192233],\n",
       "        [ 0.82737724,  1.33137817,  0.43279337, ..., -0.28744485,\n",
       "          0.05915988, -1.2316449 ],\n",
       "        [-0.36936484,  2.48569343, -0.4745452 , ..., -0.28744485,\n",
       "         -0.56097483,  0.81192233],\n",
       "        ...,\n",
       "        [ 0.82737724,  0.67726619, -0.4745452 , ..., -0.28744485,\n",
       "         -0.56097483,  0.81192233],\n",
       "        [ 0.82737724,  0.04413122, -0.4745452 , ..., -0.28744485,\n",
       "         -0.56097483,  0.81192233],\n",
       "        [ 0.82737724,  0.04413122,  0.43279337, ..., -0.28744485,\n",
       "          0.67929458, -1.2316449 ]], shape=(418, 10)))"
      ]
     },
     "execution_count": 43,
     "metadata": {},
     "output_type": "execute_result"
    }
   ],
   "source": [
    "#Padronização das variáveis\n",
    "scaler = StandardScaler() #media 0 e desviopadrao 1\n",
    "\n",
    "X_train_sc = scaler.fit_transform(X_train)\n",
    "X_test_sc = scaler.transform(X_test)\n",
    "X_train_sc,X_test_sc"
   ]
  },
  {
   "cell_type": "code",
   "execution_count": 44,
   "id": "2fd0ebe8-b70f-4f78-bb19-d8368041be41",
   "metadata": {},
   "outputs": [
    {
     "name": "stdout",
     "output_type": "stream",
     "text": [
      "[0.8        0.78651685 0.76404494 0.84269663 0.80898876 0.7752809\n",
      " 0.82022472 0.7752809  0.83146067 0.85393258]\n",
      "0.8058426966292135\n"
     ]
    }
   ],
   "source": [
    "#modelo de validação\n",
    "#Logistic Regression, # setando o max_iter\n",
    "model_lr = LogisticRegression(random_state=0,max_iter=1000)\n",
    "score = cross_val_score(model_lr,X_train_sc,y_train,cv=10)\n",
    "print(score)\n",
    "print(np.mean(score))"
   ]
  },
  {
   "cell_type": "code",
   "execution_count": 45,
   "id": "de48a15f-1513-4b12-90ed-04cbef0fad88",
   "metadata": {},
   "outputs": [
    {
     "data": {
      "text/plain": [
       "array([0, 1, 1, 1, 0, 0, 0, 0, 1, 1, 1, 1, 0, 0, 1, 1, 0, 0, 1, 1, 0, 0,\n",
       "       1, 0, 1, 0, 0, 0, 1, 0, 0, 1, 1, 0, 1, 0, 0, 0, 1, 1, 1, 1, 0, 1,\n",
       "       1, 0, 0, 1, 0, 1, 0, 0, 1, 1, 0, 0, 1, 0, 1, 0, 0, 1, 0, 0, 0, 0,\n",
       "       1, 0, 0, 0, 0, 0, 0, 0, 0, 0, 0, 0, 1, 1, 0, 0, 1, 0, 1, 0, 0, 0,\n",
       "       1, 0, 0, 0, 0, 0, 0, 0, 0, 1, 1, 0, 1, 0, 1, 0, 0, 0, 1, 0, 0, 1,\n",
       "       0, 1, 0, 1, 1, 0, 0, 0, 1, 0, 0, 0, 0, 1, 0, 0, 0, 0, 1, 0, 0, 0,\n",
       "       1, 1, 0, 0, 1, 0, 0, 1, 1, 1, 1, 0, 0, 0, 0, 1, 0, 0, 0, 1, 0, 0,\n",
       "       0, 0, 1, 0, 0, 0, 0, 1, 0, 0, 0, 0, 1, 0, 0, 0, 0, 0, 1, 0, 0, 0,\n",
       "       0, 1, 0, 0, 0, 0, 0, 0, 1, 0, 1, 0, 0, 0, 1, 0, 1, 1, 1, 1, 0, 0,\n",
       "       1, 1, 0, 0, 0, 0, 0, 1, 0, 0, 1, 0, 0, 1, 0, 0, 0, 1, 1, 0, 1, 0,\n",
       "       0, 0, 0, 0, 0, 0, 0, 0, 0, 0, 1, 0, 0, 0, 0, 1, 0, 1, 0, 0, 1, 1,\n",
       "       0, 0, 0, 0, 1, 1, 0, 0, 0, 1, 0, 0, 1, 1, 1, 1, 1, 1, 0, 0, 0, 0,\n",
       "       1, 0, 0, 0, 1, 1, 0, 0, 1, 1, 1, 1, 0, 0, 0, 0, 0, 0, 0, 0, 0, 0,\n",
       "       0, 0, 0, 1, 1, 1, 0, 1, 0, 0, 0, 1, 0, 1, 1, 0, 0, 1, 0, 1, 1, 1,\n",
       "       0, 1, 1, 1, 1, 0, 0, 1, 1, 0, 1, 1, 0, 0, 1, 1, 0, 1, 0, 1, 1, 1,\n",
       "       1, 0, 1, 0, 1, 0, 0, 1, 0, 0, 1, 1, 0, 0, 0, 1, 1, 1, 0, 0, 0, 0,\n",
       "       0, 0, 0, 0, 1, 1, 1, 1, 0, 0, 1, 0, 0, 0, 1, 1, 1, 1, 1, 0, 0, 1,\n",
       "       1, 1, 1, 1, 0, 0, 1, 1, 0, 1, 0, 0, 0, 1, 0, 1, 0, 0, 0, 1, 1, 0,\n",
       "       1, 0, 0, 1, 0, 0, 1, 0, 1, 0, 0, 1, 0, 0, 0, 0, 1, 0, 0, 1, 1, 1,\n",
       "       0, 1, 0, 0, 0, 1, 0, 0, 1, 1, 0, 0, 0, 1, 1, 0, 0, 1, 0, 0, 0, 0,\n",
       "       1, 0, 0, 1, 0, 1, 1, 0, 1, 0, 0, 0, 0, 0, 0, 0, 0, 1, 1, 0, 0, 0,\n",
       "       0, 0, 0, 0, 0, 0, 0, 1, 0, 0, 1, 1, 1, 0, 0, 0, 0, 1, 0, 0, 0, 0,\n",
       "       1, 0, 1, 0, 0, 0, 0, 0, 0, 0, 0, 0, 1, 0, 1, 0, 0, 1, 1, 1, 1, 1,\n",
       "       1, 0, 0, 0, 0, 0, 0, 1, 0, 0, 1, 0, 1, 0, 1, 0, 0, 1, 0, 0, 1, 1,\n",
       "       0, 0, 1, 0, 0, 1, 1, 1, 0, 1, 0, 1, 1, 0, 0, 0, 0, 0, 1, 0, 0, 1,\n",
       "       1, 0, 0, 0, 1, 0, 1, 1, 1, 1, 0, 0, 0, 0, 1, 0, 0, 0, 0, 0, 0, 1,\n",
       "       0, 1, 0, 0, 1, 1, 1, 0, 1, 1, 0, 0, 0, 1, 0, 0, 0, 0, 0, 1, 0, 1,\n",
       "       0, 0, 1, 0, 0, 0, 1, 0, 0, 0, 0, 0, 0, 0, 1, 1, 0, 0, 1, 0, 0, 1,\n",
       "       0, 1, 1, 0, 0, 0, 0, 0, 0, 0, 0, 1, 0, 0, 0, 0, 0, 0, 1, 1, 0, 0,\n",
       "       0, 0, 0, 1, 1, 0, 1, 0, 0, 0, 0, 1, 0, 1, 0, 1, 1, 0, 0, 1, 0, 0,\n",
       "       0, 0, 0, 0, 0, 0, 0, 0, 0, 1, 1, 0, 0, 0, 0, 0, 0, 1, 0, 1, 1, 1,\n",
       "       0, 0, 0, 0, 0, 0, 0, 1, 0, 1, 0, 0, 0, 0, 0, 1, 0, 0, 1, 0, 1, 0,\n",
       "       0, 0, 1, 0, 1, 0, 1, 0, 0, 0, 0, 0, 1, 1, 0, 0, 1, 0, 0, 0, 0, 0,\n",
       "       1, 1, 0, 1, 1, 0, 0, 0, 0, 0, 0, 1, 0, 0, 0, 0, 1, 0, 0, 0, 0, 1,\n",
       "       1, 0, 1, 1, 0, 0, 1, 1, 0, 0, 0, 1, 0, 0, 0, 1, 0, 1, 0, 1, 0, 0,\n",
       "       0, 0, 1, 0, 0, 0, 0, 1, 0, 1, 1, 1, 0, 0, 0, 0, 1, 0, 0, 0, 0, 0,\n",
       "       0, 0, 0, 0, 1, 1, 0, 1, 0, 1, 1, 1, 0, 0, 0, 1, 0, 1, 0, 0, 0, 0,\n",
       "       0, 0, 1, 0, 0, 0, 1, 0, 0, 1, 0, 0, 0, 1, 0, 1, 1, 1, 0, 0, 0, 1,\n",
       "       0, 0, 0, 0, 0, 0, 1, 0, 0, 0, 0, 0, 0, 1, 0, 0, 1, 1, 1, 1, 1, 0,\n",
       "       1, 0, 0, 0, 1, 0, 0, 1, 1, 0, 0, 0, 0, 1, 0, 0, 1, 1, 0, 0, 0, 1,\n",
       "       1, 0, 1, 0, 0, 0, 0, 1, 0, 0, 0])"
      ]
     },
     "execution_count": 45,
     "metadata": {},
     "output_type": "execute_result"
    }
   ],
   "source": [
    "# modelo final\n",
    "model_lr.fit(X_train_sc,y_train)\n",
    "y_pred = model_lr.predict(X_train_sc)\n",
    "y_pred"
   ]
  },
  {
   "cell_type": "code",
   "execution_count": 46,
   "id": "6d9c4a80-ba42-4a30-a0db-71c17da4cf93",
   "metadata": {},
   "outputs": [
    {
     "name": "stdout",
     "output_type": "stream",
     "text": [
      "[[477  72]\n",
      " [ 97 245]]\n"
     ]
    }
   ],
   "source": [
    "# Matriz principal tem os resultados\n",
    "mc = confusion_matrix(y_train,y_pred)\n",
    "print(mc)"
   ]
  },
  {
   "cell_type": "markdown",
   "id": "ce052d10-ca5a-4f87-bb28-10d0adb756dc",
   "metadata": {},
   "source": [
    "## 3.1. Acurácia na base de treinamento"
   ]
  },
  {
   "cell_type": "code",
   "execution_count": 47,
   "id": "e14a7e20-36f7-485e-9682-094c95aff27b",
   "metadata": {},
   "outputs": [
    {
     "data": {
      "text/plain": [
       "0.8103254769921436"
      ]
     },
     "execution_count": 47,
     "metadata": {},
     "output_type": "execute_result"
    }
   ],
   "source": [
    "score = model_lr.score(X_train_sc,y_train)\n",
    "score"
   ]
  },
  {
   "cell_type": "markdown",
   "id": "354b98fb-3c03-4ce1-9c77-f3175d540e87",
   "metadata": {},
   "source": [
    "## 3.2. Predição sobre a base de teste\n",
    "Fazendo a predição sobre a base de testes e exportando o arquivo para realizar a submissão através da plataforma Kaggle."
   ]
  },
  {
   "cell_type": "code",
   "execution_count": 48,
   "id": "6e38ee9b-7cb3-420a-8cdb-f454e3010644",
   "metadata": {},
   "outputs": [
    {
     "data": {
      "text/plain": [
       "array([0, 1, 0, 0, 1, 0, 1, 0, 1, 0, 0, 0, 1, 0, 1, 1, 0, 0, 1, 1, 0, 1,\n",
       "       1, 1, 1, 0, 1, 0, 0, 0, 0, 0, 0, 0, 1, 0, 1, 1, 0, 0, 0, 0, 0, 1,\n",
       "       1, 0, 0, 0, 1, 1, 0, 0, 1, 1, 0, 0, 0, 0, 0, 1, 0, 0, 0, 1, 0, 1,\n",
       "       1, 0, 0, 1, 1, 0, 1, 0, 1, 1, 0, 1, 0, 1, 0, 0, 0, 0, 0, 0, 1, 1,\n",
       "       1, 1, 1, 0, 1, 0, 0, 0, 1, 0, 1, 0, 1, 0, 0, 0, 1, 0, 0, 0, 0, 0,\n",
       "       0, 1, 1, 1, 1, 0, 0, 1, 0, 1, 1, 0, 1, 0, 0, 1, 0, 1, 0, 0, 0, 0,\n",
       "       0, 0, 0, 0, 0, 0, 1, 0, 0, 1, 0, 0, 0, 0, 0, 0, 0, 0, 1, 0, 0, 1,\n",
       "       0, 0, 1, 1, 0, 1, 1, 0, 1, 0, 0, 1, 0, 0, 1, 1, 0, 0, 0, 0, 0, 1,\n",
       "       1, 0, 1, 1, 0, 0, 1, 0, 1, 0, 1, 0, 0, 0, 0, 0, 0, 0, 1, 0, 1, 1,\n",
       "       0, 1, 1, 0, 1, 1, 0, 0, 1, 0, 1, 0, 0, 0, 0, 1, 0, 0, 1, 0, 1, 0,\n",
       "       1, 0, 1, 0, 1, 1, 0, 1, 0, 0, 0, 1, 0, 0, 0, 0, 0, 0, 1, 1, 1, 1,\n",
       "       0, 0, 0, 0, 1, 0, 1, 1, 1, 0, 1, 0, 0, 0, 0, 0, 1, 0, 0, 0, 1, 1,\n",
       "       0, 0, 0, 0, 1, 0, 0, 0, 1, 1, 0, 1, 0, 0, 0, 0, 1, 0, 1, 1, 1, 0,\n",
       "       0, 1, 0, 0, 0, 1, 0, 0, 0, 0, 1, 0, 0, 0, 0, 0, 0, 0, 1, 1, 0, 1,\n",
       "       0, 1, 0, 0, 0, 1, 1, 1, 0, 0, 0, 0, 0, 0, 0, 0, 1, 0, 1, 0, 0, 0,\n",
       "       1, 0, 0, 1, 0, 0, 0, 0, 0, 0, 0, 0, 0, 1, 0, 1, 0, 1, 0, 1, 1, 0,\n",
       "       0, 0, 1, 0, 1, 0, 0, 1, 0, 1, 1, 0, 1, 0, 0, 1, 1, 0, 0, 1, 0, 0,\n",
       "       1, 1, 0, 0, 0, 0, 0, 0, 1, 1, 0, 1, 0, 0, 0, 0, 0, 1, 0, 0, 0, 1,\n",
       "       0, 1, 0, 0, 1, 0, 1, 0, 0, 0, 0, 0, 1, 1, 1, 1, 1, 0, 1, 0, 0, 0])"
      ]
     },
     "execution_count": 48,
     "metadata": {},
     "output_type": "execute_result"
    }
   ],
   "source": [
    "# Fazendo predição na base de testes\n",
    "y_pred = model_lr.predict(X_test_sc)\n",
    "y_pred"
   ]
  },
  {
   "cell_type": "code",
   "execution_count": 49,
   "id": "c7ee6ed1-b8f1-4b56-9d9d-696e0bfad654",
   "metadata": {},
   "outputs": [],
   "source": [
    "submission = pd.DataFrame(test[\"PassengerId\"])"
   ]
  },
  {
   "cell_type": "code",
   "execution_count": 50,
   "id": "45a18e53-a613-41a0-93c1-8cda58e4413f",
   "metadata": {},
   "outputs": [],
   "source": [
    "#salvando o arquivo para submissão no kaggle\n",
    "submission[\"Survived\"] = y_pred\n",
    "submission.to_csv(\"dados/submission3.csv\", index= False)"
   ]
  },
  {
   "cell_type": "markdown",
   "id": "aa72d903-a880-4d9a-8c0c-eb2205f9d5e8",
   "metadata": {},
   "source": [
    "# 4. Implementar outros algoritmos"
   ]
  },
  {
   "cell_type": "code",
   "execution_count": 51,
   "id": "bd0fc04a-87e1-41e6-9a02-f9aa358ed884",
   "metadata": {},
   "outputs": [],
   "source": [
    "# separando dados de treinamento\n",
    "X_train = train.drop(['PassengerId', 'Survived'], axis = 1)\n",
    "X_test = test.drop(['PassengerId'], axis = 1)"
   ]
  },
  {
   "cell_type": "code",
   "execution_count": 52,
   "id": "d7fb39b0-9f59-425b-ad4a-48bdb33d343f",
   "metadata": {},
   "outputs": [
    {
     "name": "stdout",
     "output_type": "stream",
     "text": [
      "<class 'pandas.core.frame.DataFrame'>\n",
      "RangeIndex: 891 entries, 0 to 890\n",
      "Data columns (total 10 columns):\n",
      " #   Column    Non-Null Count  Dtype  \n",
      "---  ------    --------------  -----  \n",
      " 0   Pclass    891 non-null    int64  \n",
      " 1   Name      891 non-null    object \n",
      " 2   Sex       891 non-null    object \n",
      " 3   Age       714 non-null    float64\n",
      " 4   SibSp     891 non-null    int64  \n",
      " 5   Parch     891 non-null    int64  \n",
      " 6   Ticket    891 non-null    object \n",
      " 7   Fare      891 non-null    float64\n",
      " 8   Cabin     204 non-null    object \n",
      " 9   Embarked  889 non-null    object \n",
      "dtypes: float64(2), int64(3), object(5)\n",
      "memory usage: 69.7+ KB\n"
     ]
    },
    {
     "data": {
      "text/plain": [
       "(None,\n",
       " Embarked\n",
       " S    644\n",
       " C    168\n",
       " Q     77\n",
       " Name: count, dtype: int64)"
      ]
     },
     "execution_count": 52,
     "metadata": {},
     "output_type": "execute_result"
    }
   ],
   "source": [
    "X_train.info(), X_train[\"Embarked\"].value_counts()"
   ]
  },
  {
   "cell_type": "code",
   "execution_count": 53,
   "id": "23cdda11-1625-4f8f-a6a6-b328d4cb5a3e",
   "metadata": {},
   "outputs": [
    {
     "name": "stderr",
     "output_type": "stream",
     "text": [
      "/tmp/ipykernel_18023/1599567601.py:4: FutureWarning: Downcasting behavior in `replace` is deprecated and will be removed in a future version. To retain the old behavior, explicitly call `result.infer_objects(copy=False)`. To opt-in to the future behavior, set `pd.set_option('future.no_silent_downcasting', True)`\n",
      "  X[\"mulher\"] = X[\"Sex\"].replace(subs)\n",
      "/tmp/ipykernel_18023/1599567601.py:9: FutureWarning: Downcasting behavior in `replace` is deprecated and will be removed in a future version. To retain the old behavior, explicitly call `result.infer_objects(copy=False)`. To opt-in to the future behavior, set `pd.set_option('future.no_silent_downcasting', True)`\n",
      "  X[\"porto\"] = X[\"Embarked\"].replace(subs)\n",
      "/tmp/ipykernel_18023/1599567601.py:4: FutureWarning: Downcasting behavior in `replace` is deprecated and will be removed in a future version. To retain the old behavior, explicitly call `result.infer_objects(copy=False)`. To opt-in to the future behavior, set `pd.set_option('future.no_silent_downcasting', True)`\n",
      "  X[\"mulher\"] = X[\"Sex\"].replace(subs)\n",
      "/tmp/ipykernel_18023/1599567601.py:9: FutureWarning: Downcasting behavior in `replace` is deprecated and will be removed in a future version. To retain the old behavior, explicitly call `result.infer_objects(copy=False)`. To opt-in to the future behavior, set `pd.set_option('future.no_silent_downcasting', True)`\n",
      "  X[\"porto\"] = X[\"Embarked\"].replace(subs)\n"
     ]
    }
   ],
   "source": [
    "# criar features e transformar em valores numéricos\n",
    "def criar_feature(X):\n",
    "    subs = {\"female\":1,\"male\":0}\n",
    "    X[\"mulher\"] = X[\"Sex\"].replace(subs)\n",
    "    X[\"Fare\"] = X[\"Fare\"].fillna(X[\"Fare\"].mean())\n",
    "    X[\"Age\"] = X[\"Age\"].fillna(X[\"Age\"].mean())\n",
    "    X[\"Embarked\"]= X[\"Embarked\"].fillna(\"S\")\n",
    "    subs = {\"S\":1,\"C\":2,\"Q\":3}\n",
    "    X[\"porto\"] = X[\"Embarked\"].replace(subs)\n",
    "    X['crianca'] = 1\n",
    "    X['crianca'] = np.where(X['Age'] < 12,1,0)\n",
    "    # Criar coluna de 'TamanhoDaFamilia'combinando SibSp e 'Parch'\n",
    "    X['TamanhoDaFamilia'] = X['Parch'] + X['SibSp'] \n",
    "    # Criar coluna de viajando sozinho para identificar passageiros que estão viajando sozinhos\n",
    "    X['EstaSozinho'] = np.where(X['TamanhoDaFamilia'] == 0, 1,0)\n",
    "    \n",
    "    return X\n",
    "\n",
    "X_train = criar_feature(X_train)\n",
    "X_test = criar_feature(X_test)"
   ]
  },
  {
   "cell_type": "code",
   "execution_count": 54,
   "id": "dbbfb677-e552-4760-8128-fc61c1c29621",
   "metadata": {},
   "outputs": [
    {
     "data": {
      "text/plain": [
       "Index(['Pclass', 'Name', 'Sex', 'Age', 'SibSp', 'Parch', 'Ticket', 'Fare',\n",
       "       'Cabin', 'Embarked', 'mulher', 'porto', 'crianca', 'TamanhoDaFamilia',\n",
       "       'EstaSozinho'],\n",
       "      dtype='object')"
      ]
     },
     "execution_count": 54,
     "metadata": {},
     "output_type": "execute_result"
    }
   ],
   "source": [
    "X_train.columns"
   ]
  },
  {
   "cell_type": "code",
   "execution_count": 55,
   "id": "5bff89bc-b956-40b3-b36b-f96817a8c140",
   "metadata": {},
   "outputs": [],
   "source": [
    "# selecionar as features que eu quero trabalhar no treino\n",
    "features = ['Pclass', 'Age', 'SibSp', 'Parch', 'Fare', 'mulher', 'porto', 'crianca', \n",
    "            'TamanhoDaFamilia', 'EstaSozinho']\n",
    "X_train = X_train[features]\n",
    "X_test = X_test[features]\n",
    "\n",
    "y_train = train[\"Survived\"]\n"
   ]
  },
  {
   "cell_type": "code",
   "execution_count": 56,
   "id": "577082cd-5a8f-4c8c-b0af-ea0710dfc931",
   "metadata": {},
   "outputs": [
    {
     "data": {
      "text/plain": [
       "(array([[ 0.82737724, -0.5924806 ,  0.43279337, ..., -0.28744485,\n",
       "          0.05915988, -1.2316449 ],\n",
       "        [-1.56610693,  0.63878901,  0.43279337, ..., -0.28744485,\n",
       "          0.05915988, -1.2316449 ],\n",
       "        [ 0.82737724, -0.2846632 , -0.4745452 , ..., -0.28744485,\n",
       "         -0.56097483,  0.81192233],\n",
       "        ...,\n",
       "        [ 0.82737724,  0.        ,  0.43279337, ..., -0.28744485,\n",
       "          1.29942929, -1.2316449 ],\n",
       "        [-1.56610693, -0.2846632 , -0.4745452 , ..., -0.28744485,\n",
       "         -0.56097483,  0.81192233],\n",
       "        [ 0.82737724,  0.17706291, -0.4745452 , ..., -0.28744485,\n",
       "         -0.56097483,  0.81192233]], shape=(891, 10)),\n",
       " array([[ 0.82737724,  0.36944878, -0.4745452 , ..., -0.28744485,\n",
       "         -0.56097483,  0.81192233],\n",
       "        [ 0.82737724,  1.33137817,  0.43279337, ..., -0.28744485,\n",
       "          0.05915988, -1.2316449 ],\n",
       "        [-0.36936484,  2.48569343, -0.4745452 , ..., -0.28744485,\n",
       "         -0.56097483,  0.81192233],\n",
       "        ...,\n",
       "        [ 0.82737724,  0.67726619, -0.4745452 , ..., -0.28744485,\n",
       "         -0.56097483,  0.81192233],\n",
       "        [ 0.82737724,  0.04413122, -0.4745452 , ..., -0.28744485,\n",
       "         -0.56097483,  0.81192233],\n",
       "        [ 0.82737724,  0.04413122,  0.43279337, ..., -0.28744485,\n",
       "          0.67929458, -1.2316449 ]], shape=(418, 10)))"
      ]
     },
     "execution_count": 56,
     "metadata": {},
     "output_type": "execute_result"
    }
   ],
   "source": [
    "#Padronização das variáveis\n",
    "scaler = StandardScaler() #media 0 e desviopadrao 1\n",
    "\n",
    "X_train_sc = scaler.fit_transform(X_train)\n",
    "X_test_sc = scaler.transform(X_test)\n",
    "X_train_sc,X_test_sc"
   ]
  },
  {
   "cell_type": "code",
   "execution_count": 57,
   "id": "f6a4c042-2f37-45d3-8c9c-1ad1b415fb64",
   "metadata": {},
   "outputs": [
    {
     "name": "stdout",
     "output_type": "stream",
     "text": [
      "[0.8        0.78651685 0.76404494 0.84269663 0.80898876 0.7752809\n",
      " 0.82022472 0.7752809  0.83146067 0.85393258]\n",
      "0.8058426966292135\n"
     ]
    }
   ],
   "source": [
    "#modelo de validação\n",
    "#Logistic Regression, # setando o max_iter\n",
    "model_lr = LogisticRegression(random_state=0,max_iter=1000)\n",
    "score = cross_val_score(model_lr,X_train_sc,y_train,cv=10)\n",
    "print(score)\n",
    "print(np.mean(score))"
   ]
  },
  {
   "cell_type": "code",
   "execution_count": 58,
   "id": "234defbc-79ac-409d-971b-afb960ccdf54",
   "metadata": {},
   "outputs": [
    {
     "name": "stdout",
     "output_type": "stream",
     "text": [
      "[0.73333333 0.79775281 0.7752809  0.82022472 0.82022472 0.82022472\n",
      " 0.82022472 0.80898876 0.82022472 0.84269663]\n",
      "0.8059176029962547\n"
     ]
    }
   ],
   "source": [
    "# Naiva Bayes para Classificação\n",
    "from sklearn.naive_bayes import GaussianNB\n",
    "\n",
    "model_nb = GaussianNB()\n",
    "score = cross_val_score(model_nb,X_train_sc,y_train,cv=10)\n",
    "print(score)\n",
    "print(np.mean(score))"
   ]
  },
  {
   "cell_type": "code",
   "execution_count": 59,
   "id": "92e1d440-4862-4a8b-a758-7497985bf085",
   "metadata": {},
   "outputs": [
    {
     "name": "stdout",
     "output_type": "stream",
     "text": [
      "[0.76666667 0.83146067 0.73033708 0.80898876 0.83146067 0.82022472\n",
      " 0.85393258 0.79775281 0.85393258 0.7752809 ]\n",
      "0.8070037453183521\n"
     ]
    }
   ],
   "source": [
    "# KNN para classificação\n",
    "from sklearn.neighbors import KNeighborsClassifier\n",
    "\n",
    "model_knn = KNeighborsClassifier(n_neighbors=5, p=2)\n",
    "score = cross_val_score(model_knn,X_train_sc,y_train,cv=10)\n",
    "print(score)\n",
    "print(np.mean(score))"
   ]
  },
  {
   "cell_type": "code",
   "execution_count": 60,
   "id": "118068a1-2326-4075-bf9e-c5d10aeb8ad7",
   "metadata": {},
   "outputs": [
    {
     "name": "stdout",
     "output_type": "stream",
     "text": [
      "[0.84444444 0.84269663 0.75280899 0.86516854 0.85393258 0.79775281\n",
      " 0.80898876 0.7752809  0.86516854 0.82022472]\n",
      "0.8226466916354557\n"
     ]
    }
   ],
   "source": [
    "# SVM  para classificação\n",
    "from sklearn.svm import SVC\n",
    "\n",
    "model_svc = SVC(C=3,kernel = 'rbf', degree = 2, gamma = 0.1)\n",
    "score = cross_val_score(model_svc,X_train_sc,y_train,cv=10)\n",
    "print(score)\n",
    "print(np.mean(score))\n"
   ]
  },
  {
   "cell_type": "code",
   "execution_count": 61,
   "id": "bc628292-3e19-4ec0-b4de-0dbac911bb35",
   "metadata": {},
   "outputs": [
    {
     "name": "stdout",
     "output_type": "stream",
     "text": [
      "[0.82222222 0.84269663 0.7752809  0.86516854 0.83146067 0.78651685\n",
      " 0.78651685 0.78651685 0.85393258 0.83146067]\n",
      "0.8181772784019975\n"
     ]
    }
   ],
   "source": [
    "# Decision Tree\n",
    "# com 3 eles não decora as features e generaliza melhor sobre a base de testes\n",
    "from sklearn.tree import DecisionTreeClassifier\n",
    "\n",
    "model_dt = DecisionTreeClassifier(criterion='entropy', max_depth=3,min_samples_split=2, \n",
    "                                  min_samples_leaf=1, random_state=0)\n",
    "score = cross_val_score(model_dt,X_train_sc,y_train,cv=10)\n",
    "print(score)\n",
    "print(np.mean(score))"
   ]
  },
  {
   "cell_type": "code",
   "execution_count": 62,
   "id": "5dc8404e-27bb-47e4-8e20-af04a9aeaca0",
   "metadata": {},
   "outputs": [
    {
     "name": "stdout",
     "output_type": "stream",
     "text": [
      "[0.81111111 0.83146067 0.76404494 0.8988764  0.87640449 0.79775281\n",
      " 0.82022472 0.76404494 0.86516854 0.84269663]\n",
      "0.8271785268414481\n"
     ]
    }
   ],
   "source": [
    "#Random Forest\n",
    "from sklearn.ensemble import RandomForestClassifier\n",
    "\n",
    "model_rf = RandomForestClassifier(criterion='entropy', max_depth=5, n_estimators=100, \n",
    "                                  min_samples_split=2, \n",
    "                                  min_samples_leaf=1, random_state=0)\n",
    "score = cross_val_score(model_rf,X_train_sc,y_train,cv=10)\n",
    "print(score)\n",
    "print(np.mean(score))\n"
   ]
  },
  {
   "cell_type": "code",
   "execution_count": 63,
   "id": "3b14641f-5d5b-4b48-8560-d5a1b05167de",
   "metadata": {},
   "outputs": [],
   "source": [
    "# modelo final\n",
    "model_rf.fit(X_train_sc,y_train)\n",
    "y_pred = model_rf.predict(X_train_sc)\n",
    "#y_pred"
   ]
  },
  {
   "cell_type": "code",
   "execution_count": 64,
   "id": "1e096d53-debc-422b-89f0-479a0cd725d7",
   "metadata": {},
   "outputs": [
    {
     "name": "stdout",
     "output_type": "stream",
     "text": [
      "[[513  36]\n",
      " [ 96 246]]\n"
     ]
    }
   ],
   "source": [
    "# Matriz principal tem os resultados\n",
    "mc = confusion_matrix(y_train,y_pred)\n",
    "print(mc)"
   ]
  },
  {
   "cell_type": "markdown",
   "id": "dc494404-7f5e-4f51-81de-86ca9bd29d6e",
   "metadata": {},
   "source": [
    "## 4.1. Acurácia na base de treinamento"
   ]
  },
  {
   "cell_type": "code",
   "execution_count": 65,
   "id": "9de70ef7-98fd-4376-b31f-eb85f107a790",
   "metadata": {},
   "outputs": [
    {
     "data": {
      "text/plain": [
       "0.8518518518518519"
      ]
     },
     "execution_count": 65,
     "metadata": {},
     "output_type": "execute_result"
    }
   ],
   "source": [
    "score = model_rf.score(X_train_sc,y_train)\n",
    "score"
   ]
  },
  {
   "cell_type": "markdown",
   "id": "9380ed7a-5ed1-497c-80ea-9b309c9d5470",
   "metadata": {},
   "source": [
    "## 4.2. Predição sobre a base de teste\n",
    "Fazendo a predição sobre a base de testes e exportando o arquivo para realizar a submissão através da plataforma Kaggle."
   ]
  },
  {
   "cell_type": "code",
   "execution_count": 66,
   "id": "71aa1ba3-07ec-4790-94d8-5211c0aef691",
   "metadata": {},
   "outputs": [
    {
     "data": {
      "text/plain": [
       "array([0, 0, 0, 0, 1, 0, 1, 0, 1, 0, 0, 0, 1, 0, 1, 1, 0, 0, 0, 1, 0, 1,\n",
       "       1, 0, 1, 0, 1, 0, 0, 0, 0, 0, 1, 0, 0, 0, 0, 0, 0, 0, 0, 0, 0, 1,\n",
       "       1, 0, 0, 0, 1, 1, 0, 0, 1, 1, 0, 0, 0, 0, 0, 1, 0, 0, 0, 1, 1, 1,\n",
       "       1, 0, 0, 1, 1, 0, 0, 0, 1, 0, 0, 1, 0, 1, 1, 0, 0, 0, 0, 0, 1, 0,\n",
       "       1, 1, 1, 0, 1, 0, 0, 0, 1, 0, 1, 0, 1, 0, 0, 0, 0, 0, 0, 0, 0, 0,\n",
       "       0, 1, 1, 1, 1, 0, 0, 1, 0, 1, 1, 0, 1, 0, 0, 1, 0, 1, 0, 0, 0, 0,\n",
       "       0, 0, 0, 0, 0, 0, 0, 0, 0, 1, 0, 0, 0, 0, 0, 0, 0, 0, 1, 0, 0, 1,\n",
       "       0, 0, 1, 1, 0, 1, 1, 1, 1, 0, 0, 1, 0, 0, 1, 0, 0, 0, 0, 0, 0, 1,\n",
       "       1, 0, 1, 1, 0, 0, 1, 0, 1, 0, 1, 0, 0, 0, 0, 0, 1, 0, 1, 0, 1, 1,\n",
       "       0, 0, 1, 1, 0, 1, 0, 0, 1, 0, 1, 0, 0, 0, 0, 1, 0, 0, 1, 0, 1, 0,\n",
       "       1, 0, 1, 0, 1, 1, 0, 1, 0, 0, 0, 1, 0, 0, 0, 0, 0, 0, 1, 1, 1, 1,\n",
       "       0, 0, 0, 0, 1, 0, 1, 1, 1, 0, 0, 0, 0, 0, 0, 0, 1, 0, 0, 0, 1, 1,\n",
       "       0, 0, 0, 0, 0, 0, 0, 0, 1, 1, 0, 1, 0, 0, 0, 0, 0, 1, 1, 1, 1, 0,\n",
       "       0, 0, 0, 0, 0, 1, 0, 0, 0, 0, 1, 0, 0, 0, 0, 0, 0, 0, 1, 1, 0, 1,\n",
       "       0, 0, 0, 0, 0, 1, 1, 1, 0, 0, 0, 0, 0, 0, 0, 0, 1, 0, 1, 0, 0, 0,\n",
       "       1, 0, 0, 1, 0, 0, 0, 0, 0, 0, 0, 0, 0, 1, 0, 1, 0, 1, 0, 1, 1, 0,\n",
       "       0, 0, 1, 0, 1, 0, 0, 1, 0, 1, 1, 0, 1, 0, 0, 1, 1, 0, 0, 1, 0, 0,\n",
       "       1, 1, 0, 0, 0, 0, 0, 0, 1, 1, 0, 1, 0, 0, 0, 0, 0, 1, 0, 0, 0, 1,\n",
       "       0, 1, 0, 0, 1, 0, 1, 0, 0, 0, 0, 0, 1, 1, 1, 1, 1, 0, 1, 0, 0, 0])"
      ]
     },
     "execution_count": 66,
     "metadata": {},
     "output_type": "execute_result"
    }
   ],
   "source": [
    "# Fazendo predição na base de testes\n",
    "y_pred = model_rf.predict(X_test_sc)\n",
    "y_pred"
   ]
  },
  {
   "cell_type": "code",
   "execution_count": 67,
   "id": "04dd9f0c-1483-4a51-ad45-155947013125",
   "metadata": {},
   "outputs": [],
   "source": [
    "submission = pd.DataFrame(test[\"PassengerId\"])"
   ]
  },
  {
   "cell_type": "code",
   "execution_count": 68,
   "id": "23e03006-1c38-4f5b-a10a-5e754641ecfc",
   "metadata": {},
   "outputs": [],
   "source": [
    "#salvando o arquivo para submissão no kaggle\n",
    "submission[\"Survived\"] = y_pred\n",
    "submission.to_csv(\"dados/submission4.csv\", index= False)"
   ]
  },
  {
   "cell_type": "code",
   "execution_count": null,
   "id": "ab40fd63-41df-4c0b-93fe-8f1578f18527",
   "metadata": {},
   "outputs": [],
   "source": []
  },
  {
   "cell_type": "markdown",
   "id": "bce56e66-bba3-4f8e-8b03-c60df2bf5994",
   "metadata": {},
   "source": [
    "# 5. Otimizando Hiperparâmetros"
   ]
  },
  {
   "cell_type": "code",
   "execution_count": 69,
   "id": "8c0c6b59-9807-445d-b425-3540fbd42eff",
   "metadata": {},
   "outputs": [],
   "source": [
    "# separando dados de treinamento\n",
    "X_train = train.drop(['PassengerId', 'Survived'], axis = 1)\n",
    "X_test = test.drop(['PassengerId'], axis = 1)"
   ]
  },
  {
   "cell_type": "code",
   "execution_count": 70,
   "id": "089142ab-440c-4b65-b830-fe87218f69cf",
   "metadata": {},
   "outputs": [
    {
     "name": "stdout",
     "output_type": "stream",
     "text": [
      "<class 'pandas.core.frame.DataFrame'>\n",
      "RangeIndex: 891 entries, 0 to 890\n",
      "Data columns (total 10 columns):\n",
      " #   Column    Non-Null Count  Dtype  \n",
      "---  ------    --------------  -----  \n",
      " 0   Pclass    891 non-null    int64  \n",
      " 1   Name      891 non-null    object \n",
      " 2   Sex       891 non-null    object \n",
      " 3   Age       714 non-null    float64\n",
      " 4   SibSp     891 non-null    int64  \n",
      " 5   Parch     891 non-null    int64  \n",
      " 6   Ticket    891 non-null    object \n",
      " 7   Fare      891 non-null    float64\n",
      " 8   Cabin     204 non-null    object \n",
      " 9   Embarked  889 non-null    object \n",
      "dtypes: float64(2), int64(3), object(5)\n",
      "memory usage: 69.7+ KB\n"
     ]
    },
    {
     "data": {
      "text/plain": [
       "(None,\n",
       " Embarked\n",
       " S    644\n",
       " C    168\n",
       " Q     77\n",
       " Name: count, dtype: int64)"
      ]
     },
     "execution_count": 70,
     "metadata": {},
     "output_type": "execute_result"
    }
   ],
   "source": [
    "X_train.info(), X_train[\"Embarked\"].value_counts()"
   ]
  },
  {
   "cell_type": "code",
   "execution_count": 71,
   "id": "22beee22-94c5-4cdc-ab12-bd91d34e1ad3",
   "metadata": {},
   "outputs": [
    {
     "name": "stderr",
     "output_type": "stream",
     "text": [
      "/tmp/ipykernel_18023/1599567601.py:4: FutureWarning: Downcasting behavior in `replace` is deprecated and will be removed in a future version. To retain the old behavior, explicitly call `result.infer_objects(copy=False)`. To opt-in to the future behavior, set `pd.set_option('future.no_silent_downcasting', True)`\n",
      "  X[\"mulher\"] = X[\"Sex\"].replace(subs)\n",
      "/tmp/ipykernel_18023/1599567601.py:9: FutureWarning: Downcasting behavior in `replace` is deprecated and will be removed in a future version. To retain the old behavior, explicitly call `result.infer_objects(copy=False)`. To opt-in to the future behavior, set `pd.set_option('future.no_silent_downcasting', True)`\n",
      "  X[\"porto\"] = X[\"Embarked\"].replace(subs)\n",
      "/tmp/ipykernel_18023/1599567601.py:4: FutureWarning: Downcasting behavior in `replace` is deprecated and will be removed in a future version. To retain the old behavior, explicitly call `result.infer_objects(copy=False)`. To opt-in to the future behavior, set `pd.set_option('future.no_silent_downcasting', True)`\n",
      "  X[\"mulher\"] = X[\"Sex\"].replace(subs)\n",
      "/tmp/ipykernel_18023/1599567601.py:9: FutureWarning: Downcasting behavior in `replace` is deprecated and will be removed in a future version. To retain the old behavior, explicitly call `result.infer_objects(copy=False)`. To opt-in to the future behavior, set `pd.set_option('future.no_silent_downcasting', True)`\n",
      "  X[\"porto\"] = X[\"Embarked\"].replace(subs)\n"
     ]
    }
   ],
   "source": [
    "# criar features e transformar em valores numéricos\n",
    "def criar_feature(X):\n",
    "    subs = {\"female\":1,\"male\":0}\n",
    "    X[\"mulher\"] = X[\"Sex\"].replace(subs)\n",
    "    X[\"Fare\"] = X[\"Fare\"].fillna(X[\"Fare\"].mean())\n",
    "    X[\"Age\"] = X[\"Age\"].fillna(X[\"Age\"].mean())\n",
    "    X[\"Embarked\"]= X[\"Embarked\"].fillna(\"S\")\n",
    "    subs = {\"S\":1,\"C\":2,\"Q\":3}\n",
    "    X[\"porto\"] = X[\"Embarked\"].replace(subs)\n",
    "    X['crianca'] = 1\n",
    "    X['crianca'] = np.where(X['Age'] < 12,1,0)\n",
    "    # Criar coluna de 'TamanhoDaFamilia'combinando SibSp e 'Parch'\n",
    "    X['TamanhoDaFamilia'] = X['Parch'] + X['SibSp'] \n",
    "    # Criar coluna de viajando sozinho para identificar passageiros que estão viajando sozinhos\n",
    "    X['EstaSozinho'] = np.where(X['TamanhoDaFamilia'] == 0, 1,0)\n",
    "    \n",
    "    return X\n",
    "\n",
    "X_train = criar_feature(X_train)\n",
    "X_test = criar_feature(X_test)"
   ]
  },
  {
   "cell_type": "code",
   "execution_count": 72,
   "id": "4721e192-bd30-4b38-9e0b-d3db9e2514e4",
   "metadata": {},
   "outputs": [
    {
     "data": {
      "text/plain": [
       "Index(['Pclass', 'Name', 'Sex', 'Age', 'SibSp', 'Parch', 'Ticket', 'Fare',\n",
       "       'Cabin', 'Embarked', 'mulher', 'porto', 'crianca', 'TamanhoDaFamilia',\n",
       "       'EstaSozinho'],\n",
       "      dtype='object')"
      ]
     },
     "execution_count": 72,
     "metadata": {},
     "output_type": "execute_result"
    }
   ],
   "source": [
    "X_train.columns"
   ]
  },
  {
   "cell_type": "code",
   "execution_count": 73,
   "id": "8f37a2e1-abea-442d-819b-04f7c316f997",
   "metadata": {},
   "outputs": [],
   "source": [
    "# selecionar as features que eu quero trabalhar no treino\n",
    "features = ['Pclass', 'Age', 'SibSp', 'Parch', 'Fare', 'mulher', 'porto', 'crianca', \n",
    "            'TamanhoDaFamilia', 'EstaSozinho']\n",
    "X_train = X_train[features]\n",
    "X_test = X_test[features]\n",
    "\n",
    "y_train = train[\"Survived\"]\n"
   ]
  },
  {
   "cell_type": "code",
   "execution_count": 74,
   "id": "e0b49e7c-00f0-4ea4-b5f3-378e0f6e732e",
   "metadata": {},
   "outputs": [
    {
     "data": {
      "text/plain": [
       "(array([[ 0.82737724, -0.5924806 ,  0.43279337, ..., -0.28744485,\n",
       "          0.05915988, -1.2316449 ],\n",
       "        [-1.56610693,  0.63878901,  0.43279337, ..., -0.28744485,\n",
       "          0.05915988, -1.2316449 ],\n",
       "        [ 0.82737724, -0.2846632 , -0.4745452 , ..., -0.28744485,\n",
       "         -0.56097483,  0.81192233],\n",
       "        ...,\n",
       "        [ 0.82737724,  0.        ,  0.43279337, ..., -0.28744485,\n",
       "          1.29942929, -1.2316449 ],\n",
       "        [-1.56610693, -0.2846632 , -0.4745452 , ..., -0.28744485,\n",
       "         -0.56097483,  0.81192233],\n",
       "        [ 0.82737724,  0.17706291, -0.4745452 , ..., -0.28744485,\n",
       "         -0.56097483,  0.81192233]], shape=(891, 10)),\n",
       " array([[ 0.82737724,  0.36944878, -0.4745452 , ..., -0.28744485,\n",
       "         -0.56097483,  0.81192233],\n",
       "        [ 0.82737724,  1.33137817,  0.43279337, ..., -0.28744485,\n",
       "          0.05915988, -1.2316449 ],\n",
       "        [-0.36936484,  2.48569343, -0.4745452 , ..., -0.28744485,\n",
       "         -0.56097483,  0.81192233],\n",
       "        ...,\n",
       "        [ 0.82737724,  0.67726619, -0.4745452 , ..., -0.28744485,\n",
       "         -0.56097483,  0.81192233],\n",
       "        [ 0.82737724,  0.04413122, -0.4745452 , ..., -0.28744485,\n",
       "         -0.56097483,  0.81192233],\n",
       "        [ 0.82737724,  0.04413122,  0.43279337, ..., -0.28744485,\n",
       "          0.67929458, -1.2316449 ]], shape=(418, 10)))"
      ]
     },
     "execution_count": 74,
     "metadata": {},
     "output_type": "execute_result"
    }
   ],
   "source": [
    "#Padronização das variáveis\n",
    "scaler = StandardScaler() #media 0 e desviopadrao 1\n",
    "\n",
    "X_train_sc = scaler.fit_transform(X_train)\n",
    "X_test_sc = scaler.transform(X_test)\n",
    "X_train_sc,X_test_sc"
   ]
  },
  {
   "cell_type": "code",
   "execution_count": 75,
   "id": "c83a819a-15c3-4019-b949-0edb29d800cf",
   "metadata": {},
   "outputs": [
    {
     "name": "stdout",
     "output_type": "stream",
     "text": [
      "[0.8        0.78651685 0.76404494 0.84269663 0.80898876 0.7752809\n",
      " 0.82022472 0.7752809  0.83146067 0.85393258]\n",
      "0.8058426966292135\n"
     ]
    }
   ],
   "source": [
    "#modelo de validação\n",
    "#Logistic Regression, # setando o max_iter\n",
    "model_lr = LogisticRegression(random_state=0,max_iter=1000)\n",
    "score = cross_val_score(model_lr,X_train_sc,y_train,cv=10)\n",
    "print(score)\n",
    "print(np.mean(score))"
   ]
  },
  {
   "cell_type": "code",
   "execution_count": 76,
   "id": "cccd0bb1-ee26-4e3f-b8f2-e1f23910aa92",
   "metadata": {},
   "outputs": [
    {
     "name": "stdout",
     "output_type": "stream",
     "text": [
      "[0.73333333 0.79775281 0.7752809  0.82022472 0.82022472 0.82022472\n",
      " 0.82022472 0.80898876 0.82022472 0.84269663]\n",
      "0.8059176029962547\n"
     ]
    }
   ],
   "source": [
    "# Naiva Bayes para Classificação\n",
    "from sklearn.naive_bayes import GaussianNB\n",
    "\n",
    "model_nb = GaussianNB()\n",
    "score = cross_val_score(model_nb,X_train_sc,y_train,cv=10)\n",
    "print(score)\n",
    "print(np.mean(score))"
   ]
  },
  {
   "cell_type": "code",
   "execution_count": 77,
   "id": "64589ada-3e2f-4481-8c80-8d0609f249bc",
   "metadata": {},
   "outputs": [
    {
     "name": "stdout",
     "output_type": "stream",
     "text": [
      "[0.76666667 0.83146067 0.73033708 0.80898876 0.83146067 0.82022472\n",
      " 0.85393258 0.79775281 0.85393258 0.7752809 ]\n",
      "0.8070037453183521\n"
     ]
    }
   ],
   "source": [
    "# KNN para classificação\n",
    "from sklearn.neighbors import KNeighborsClassifier\n",
    "\n",
    "model_knn = KNeighborsClassifier(n_neighbors=5, p=2)\n",
    "score = cross_val_score(model_knn,X_train_sc,y_train,cv=10)\n",
    "print(score)\n",
    "print(np.mean(score))"
   ]
  },
  {
   "cell_type": "code",
   "execution_count": 78,
   "id": "8ed99389-fe76-48db-b9ba-8c228f1efaa2",
   "metadata": {},
   "outputs": [
    {
     "name": "stdout",
     "output_type": "stream",
     "text": [
      "[0.84444444 0.84269663 0.75280899 0.86516854 0.85393258 0.79775281\n",
      " 0.80898876 0.7752809  0.86516854 0.82022472]\n",
      "0.8226466916354557\n"
     ]
    }
   ],
   "source": [
    "# SVM  para classificação\n",
    "from sklearn.svm import SVC\n",
    "\n",
    "model_svc = SVC(C=3,kernel = 'rbf', degree = 2, gamma = 0.1)\n",
    "score = cross_val_score(model_svc,X_train_sc,y_train,cv=10)\n",
    "print(score)\n",
    "print(np.mean(score))\n"
   ]
  },
  {
   "cell_type": "code",
   "execution_count": 79,
   "id": "83cbf89d-6cea-4dc5-97a2-07b50f72c5b9",
   "metadata": {},
   "outputs": [
    {
     "name": "stdout",
     "output_type": "stream",
     "text": [
      "[0.82222222 0.84269663 0.7752809  0.86516854 0.83146067 0.78651685\n",
      " 0.78651685 0.78651685 0.85393258 0.83146067]\n",
      "0.8181772784019975\n"
     ]
    }
   ],
   "source": [
    "# Decision Tree\n",
    "# com 3 eles não decora as features e generaliza melhor sobre a base de testes\n",
    "from sklearn.tree import DecisionTreeClassifier\n",
    "\n",
    "model_dt = DecisionTreeClassifier(criterion='entropy', max_depth=3,min_samples_split=2, \n",
    "                                  min_samples_leaf=1, random_state=0)\n",
    "score = cross_val_score(model_dt,X_train_sc,y_train,cv=10)\n",
    "print(score)\n",
    "print(np.mean(score))"
   ]
  },
  {
   "cell_type": "code",
   "execution_count": 80,
   "id": "fa3bf94e-e7e9-40f1-b127-92b75fb3a1fa",
   "metadata": {},
   "outputs": [
    {
     "name": "stdout",
     "output_type": "stream",
     "text": [
      "[0.81111111 0.83146067 0.76404494 0.8988764  0.87640449 0.79775281\n",
      " 0.82022472 0.76404494 0.86516854 0.84269663]\n",
      "0.8271785268414481\n"
     ]
    }
   ],
   "source": [
    "#Random Forest\n",
    "from sklearn.ensemble import RandomForestClassifier\n",
    "\n",
    "model_rf = RandomForestClassifier(criterion='entropy', max_depth=5, n_estimators=100, \n",
    "                                  min_samples_split=2, \n",
    "                                  min_samples_leaf=1, random_state=0)\n",
    "score = cross_val_score(model_rf,X_train_sc,y_train,cv=10)\n",
    "print(score)\n",
    "print(np.mean(score))\n"
   ]
  },
  {
   "cell_type": "code",
   "execution_count": 81,
   "id": "0e5ca3e4-bcdb-4404-9129-f847f3067690",
   "metadata": {},
   "outputs": [
    {
     "name": "stdout",
     "output_type": "stream",
     "text": [
      "Iteration No: 1 started. Evaluating function at random point.\n",
      "0.8249812734082397\n",
      "Iteration No: 1 ended. Evaluation done at random point.\n",
      "Time taken: 21.2365\n",
      "Function value obtained: -0.8250\n",
      "Current minimum: -0.8250\n",
      "Iteration No: 2 started. Evaluating function at random point.\n",
      "0.8316604244694131\n",
      "Iteration No: 2 ended. Evaluation done at random point.\n",
      "Time taken: 9.1183\n",
      "Function value obtained: -0.8317\n",
      "Current minimum: -0.8317\n",
      "Iteration No: 3 started. Evaluating function at random point.\n",
      "0.8283770287141072\n",
      "Iteration No: 3 ended. Evaluation done at random point.\n",
      "Time taken: 13.2281\n",
      "Function value obtained: -0.8284\n",
      "Current minimum: -0.8317\n",
      "Iteration No: 4 started. Evaluating function at random point.\n",
      "0.829450686641698\n",
      "Iteration No: 4 ended. Evaluation done at random point.\n",
      "Time taken: 10.7764\n",
      "Function value obtained: -0.8295\n",
      "Current minimum: -0.8317\n",
      "Iteration No: 5 started. Evaluating function at random point.\n",
      "0.8294756554307116\n",
      "Iteration No: 5 ended. Evaluation done at random point.\n",
      "Time taken: 20.5612\n",
      "Function value obtained: -0.8295\n",
      "Current minimum: -0.8317\n",
      "Iteration No: 6 started. Evaluating function at random point.\n",
      "0.8294881398252185\n",
      "Iteration No: 6 ended. Evaluation done at random point.\n",
      "Time taken: 14.9142\n",
      "Function value obtained: -0.8295\n",
      "Current minimum: -0.8317\n",
      "Iteration No: 7 started. Evaluating function at random point.\n",
      "0.8227340823970037\n",
      "Iteration No: 7 ended. Evaluation done at random point.\n",
      "Time taken: 20.5763\n",
      "Function value obtained: -0.8227\n",
      "Current minimum: -0.8317\n",
      "Iteration No: 8 started. Evaluating function at random point.\n",
      "0.8272409488139825\n",
      "Iteration No: 8 ended. Evaluation done at random point.\n",
      "Time taken: 9.2148\n",
      "Function value obtained: -0.8272\n",
      "Current minimum: -0.8317\n",
      "Iteration No: 9 started. Evaluating function at random point.\n",
      "0.8294382022471909\n",
      "Iteration No: 9 ended. Evaluation done at random point.\n",
      "Time taken: 25.5744\n",
      "Function value obtained: -0.8294\n",
      "Current minimum: -0.8317\n",
      "Iteration No: 10 started. Evaluating function at random point.\n",
      "0.8306242197253433\n",
      "Iteration No: 10 ended. Evaluation done at random point.\n",
      "Time taken: 11.0328\n",
      "Function value obtained: -0.8306\n",
      "Current minimum: -0.8317\n",
      "Iteration No: 11 started. Searching for the next optimal point.\n",
      "0.8215480649188514\n",
      "Iteration No: 11 ended. Search finished for the next optimal point.\n",
      "Time taken: 10.0656\n",
      "Function value obtained: -0.8215\n",
      "Current minimum: -0.8317\n",
      "Iteration No: 12 started. Searching for the next optimal point.\n",
      "0.8205118601747815\n",
      "Iteration No: 12 ended. Search finished for the next optimal point.\n",
      "Time taken: 4.5118\n",
      "Function value obtained: -0.8205\n",
      "Current minimum: -0.8317\n",
      "Iteration No: 13 started. Searching for the next optimal point.\n",
      "0.8227590511860174\n",
      "Iteration No: 13 ended. Search finished for the next optimal point.\n",
      "Time taken: 27.2960\n",
      "Function value obtained: -0.8228\n",
      "Current minimum: -0.8317\n",
      "Iteration No: 14 started. Searching for the next optimal point.\n",
      "0.8305992509363296\n",
      "Iteration No: 14 ended. Search finished for the next optimal point.\n",
      "Time taken: 21.9133\n",
      "Function value obtained: -0.8306\n",
      "Current minimum: -0.8317\n",
      "Iteration No: 15 started. Searching for the next optimal point.\n",
      "0.829450686641698\n",
      "Iteration No: 15 ended. Search finished for the next optimal point.\n",
      "Time taken: 12.6557\n",
      "Function value obtained: -0.8295\n",
      "Current minimum: -0.8317\n",
      "Iteration No: 16 started. Searching for the next optimal point.\n",
      "0.8261298377028714\n",
      "Iteration No: 16 ended. Search finished for the next optimal point.\n",
      "Time taken: 3.6879\n",
      "Function value obtained: -0.8261\n",
      "Current minimum: -0.8317\n",
      "Iteration No: 17 started. Searching for the next optimal point.\n",
      "0.8216354556803994\n",
      "Iteration No: 17 ended. Search finished for the next optimal point.\n",
      "Time taken: 28.8830\n",
      "Function value obtained: -0.8216\n",
      "Current minimum: -0.8317\n",
      "Iteration No: 18 started. Searching for the next optimal point.\n",
      "0.828314606741573\n",
      "Iteration No: 18 ended. Search finished for the next optimal point.\n",
      "Time taken: 25.5496\n",
      "Function value obtained: -0.8283\n",
      "Current minimum: -0.8317\n",
      "Iteration No: 19 started. Searching for the next optimal point.\n",
      "0.82270911360799\n",
      "Iteration No: 19 ended. Search finished for the next optimal point.\n",
      "Time taken: 25.7539\n",
      "Function value obtained: -0.8227\n",
      "Current minimum: -0.8317\n",
      "Iteration No: 20 started. Searching for the next optimal point.\n",
      "0.8238576779026217\n",
      "Iteration No: 20 ended. Search finished for the next optimal point.\n",
      "Time taken: 4.8092\n",
      "Function value obtained: -0.8239\n",
      "Current minimum: -0.8317\n",
      "Iteration No: 21 started. Searching for the next optimal point.\n",
      "0.8283021223470662\n",
      "Iteration No: 21 ended. Search finished for the next optimal point.\n",
      "Time taken: 25.6246\n",
      "Function value obtained: -0.8283\n",
      "Current minimum: -0.8317\n",
      "Iteration No: 22 started. Searching for the next optimal point.\n",
      "0.8294257178526842\n",
      "Iteration No: 22 ended. Search finished for the next optimal point.\n",
      "Time taken: 10.3252\n",
      "Function value obtained: -0.8294\n",
      "Current minimum: -0.8317\n",
      "Iteration No: 23 started. Searching for the next optimal point.\n",
      "0.8316479400749064\n",
      "Iteration No: 23 ended. Search finished for the next optimal point.\n",
      "Time taken: 4.5490\n",
      "Function value obtained: -0.8316\n",
      "Current minimum: -0.8317\n",
      "Iteration No: 24 started. Searching for the next optimal point.\n",
      "0.8193757802746566\n",
      "Iteration No: 24 ended. Search finished for the next optimal point.\n",
      "Time taken: 3.6934\n",
      "Function value obtained: -0.8194\n",
      "Current minimum: -0.8317\n",
      "Iteration No: 25 started. Searching for the next optimal point.\n",
      "0.8294756554307116\n",
      "Iteration No: 25 ended. Search finished for the next optimal point.\n",
      "Time taken: 23.3665\n",
      "Function value obtained: -0.8295\n",
      "Current minimum: -0.8317\n",
      "Iteration No: 26 started. Searching for the next optimal point.\n",
      "0.8237952559300874\n",
      "Iteration No: 26 ended. Search finished for the next optimal point.\n",
      "Time taken: 25.4913\n",
      "Function value obtained: -0.8238\n",
      "Current minimum: -0.8317\n",
      "Iteration No: 27 started. Searching for the next optimal point.\n",
      "0.826067415730337\n",
      "Iteration No: 27 ended. Search finished for the next optimal point.\n",
      "Time taken: 29.3458\n",
      "Function value obtained: -0.8261\n",
      "Current minimum: -0.8317\n",
      "Iteration No: 28 started. Searching for the next optimal point.\n",
      "0.8238576779026217\n",
      "Iteration No: 28 ended. Search finished for the next optimal point.\n",
      "Time taken: 3.9700\n",
      "Function value obtained: -0.8239\n",
      "Current minimum: -0.8317\n",
      "Iteration No: 29 started. Searching for the next optimal point.\n",
      "0.8260799001248438\n",
      "Iteration No: 29 ended. Search finished for the next optimal point.\n",
      "Time taken: 28.6459\n",
      "Function value obtained: -0.8261\n",
      "Current minimum: -0.8317\n",
      "Iteration No: 30 started. Searching for the next optimal point.\n",
      "0.8272534332084893\n",
      "Iteration No: 30 ended. Search finished for the next optimal point.\n",
      "Time taken: 5.0378\n",
      "Function value obtained: -0.8273\n",
      "Current minimum: -0.8317\n"
     ]
    }
   ],
   "source": [
    "#otimização de hiperparametros \n",
    "from skopt import gp_minimize\n",
    "\n",
    "def treinar_modelo(parametros):\n",
    "    model_rf = RandomForestClassifier(criterion=parametros[0], \n",
    "                                      n_estimators=parametros[1], \n",
    "                                      max_depth=parametros[2], \n",
    "                                      min_samples_split=parametros[3], \n",
    "                                      min_samples_leaf=parametros[4], \n",
    "                                      random_state=0, n_jobs=-1)\n",
    "    score = cross_val_score(model_rf,X_train_sc,y_train,cv=10)\n",
    "    meanscore = np.mean(score)\n",
    "    print(np.mean(score))\n",
    "    #quanto maior melhor\n",
    "    return -meanscore\n",
    "    \n",
    "#tuplas com os parametros\n",
    "parametros = [('entropy', 'gini'),#criterion\n",
    "              (100, 1000), # n_estimators\n",
    "              (3,20), #max_depth\n",
    "              (2,10), # min_samples_split\n",
    "              (1,10)] # min_samples_leaf\n",
    "otimos = gp_minimize(treinar_modelo, parametros, random_state=0, verbose=1,n_calls=30, \n",
    "                     n_random_starts=10);"
   ]
  },
  {
   "cell_type": "code",
   "execution_count": 82,
   "id": "bd605af6-13ee-4bdc-834f-8536f45e71a6",
   "metadata": {},
   "outputs": [
    {
     "data": {
      "text/plain": [
       "(np.float64(-0.8316604244694131),\n",
       " ['entropy', np.int64(368), np.int64(4), np.int64(4), np.int64(5)])"
      ]
     },
     "execution_count": 82,
     "metadata": {},
     "output_type": "execute_result"
    }
   ],
   "source": [
    "# imprimindo o melhor resultado\n",
    "otimos.fun, otimos.x"
   ]
  },
  {
   "cell_type": "code",
   "execution_count": 83,
   "id": "6b96c152-8c95-49e0-94f7-f08cfdd84982",
   "metadata": {},
   "outputs": [],
   "source": [
    "# treinando modelo final  com os melhores parametros\n",
    "model_rf = RandomForestClassifier(criterion=otimos.x[0], \n",
    "                                      n_estimators=otimos.x[1], \n",
    "                                      max_depth=otimos.x[2], \n",
    "                                      min_samples_split=otimos.x[3], \n",
    "                                      min_samples_leaf=otimos.x[4], \n",
    "                                      random_state=0, n_jobs=-1)\n",
    "\n",
    "model_rf.fit(X_train_sc,y_train)\n",
    "y_pred = model_rf.predict(X_train_sc)\n",
    "#y_pred"
   ]
  },
  {
   "cell_type": "code",
   "execution_count": 84,
   "id": "1c94d7cc-2b15-4761-a22e-4e8a774e4fd8",
   "metadata": {},
   "outputs": [
    {
     "name": "stdout",
     "output_type": "stream",
     "text": [
      "[[512  37]\n",
      " [105 237]]\n"
     ]
    }
   ],
   "source": [
    "# Matriz principal tem os resultados\n",
    "mc = confusion_matrix(y_train,y_pred)\n",
    "print(mc)"
   ]
  },
  {
   "cell_type": "markdown",
   "id": "77533254-c77c-441a-92d2-f82ee5f4cf85",
   "metadata": {},
   "source": [
    "## 5.1. Acurácia na base de treinamento"
   ]
  },
  {
   "cell_type": "code",
   "execution_count": 85,
   "id": "11f8174f-3c13-494f-ad94-07b644957ed0",
   "metadata": {},
   "outputs": [
    {
     "data": {
      "text/plain": [
       "0.8406285072951739"
      ]
     },
     "execution_count": 85,
     "metadata": {},
     "output_type": "execute_result"
    }
   ],
   "source": [
    "score = model_rf.score(X_train_sc,y_train)\n",
    "score"
   ]
  },
  {
   "cell_type": "markdown",
   "id": "90037a6a-2ee7-4ee1-8c35-de7fdb9249f5",
   "metadata": {},
   "source": [
    "## 5.2. Predição sobre a base de teste\n",
    "Fazendo a predição sobre a base de testes e exportando o arquivo para realizar a submissão através da plataforma Kaggle."
   ]
  },
  {
   "cell_type": "code",
   "execution_count": 86,
   "id": "5d9da351-6af5-476b-b2da-bff37a8802a8",
   "metadata": {},
   "outputs": [
    {
     "data": {
      "text/plain": [
       "array([0, 0, 0, 0, 1, 0, 1, 0, 1, 0, 0, 0, 1, 0, 1, 1, 0, 0, 0, 1, 0, 0,\n",
       "       1, 0, 1, 0, 1, 0, 0, 0, 0, 0, 1, 1, 0, 0, 0, 0, 0, 0, 0, 0, 0, 1,\n",
       "       1, 0, 0, 0, 1, 1, 0, 0, 1, 1, 0, 0, 0, 0, 0, 1, 0, 0, 0, 1, 0, 1,\n",
       "       1, 0, 0, 1, 1, 0, 0, 0, 1, 0, 0, 1, 0, 1, 1, 0, 0, 0, 0, 0, 1, 0,\n",
       "       1, 1, 1, 0, 1, 0, 0, 0, 1, 0, 0, 0, 1, 0, 0, 0, 1, 0, 0, 0, 0, 0,\n",
       "       0, 1, 1, 1, 1, 0, 0, 1, 0, 1, 1, 0, 1, 0, 0, 1, 0, 1, 0, 0, 0, 0,\n",
       "       0, 0, 0, 0, 0, 0, 0, 0, 0, 1, 0, 0, 0, 0, 0, 0, 0, 0, 1, 0, 0, 1,\n",
       "       0, 0, 1, 0, 0, 1, 1, 1, 1, 0, 0, 1, 0, 0, 1, 0, 0, 0, 0, 0, 0, 1,\n",
       "       1, 0, 1, 1, 0, 0, 1, 0, 1, 0, 1, 0, 0, 0, 0, 0, 0, 0, 1, 0, 1, 0,\n",
       "       0, 0, 1, 1, 0, 1, 0, 0, 1, 0, 1, 0, 0, 0, 0, 1, 0, 0, 1, 0, 1, 0,\n",
       "       1, 0, 1, 0, 1, 1, 0, 1, 0, 0, 0, 1, 0, 0, 0, 0, 0, 0, 1, 1, 1, 1,\n",
       "       0, 0, 0, 0, 1, 0, 1, 1, 1, 0, 0, 0, 0, 0, 0, 0, 1, 0, 0, 0, 1, 1,\n",
       "       0, 0, 0, 0, 0, 0, 0, 0, 1, 1, 0, 1, 0, 0, 0, 0, 0, 1, 1, 1, 1, 0,\n",
       "       0, 0, 0, 0, 0, 1, 0, 0, 0, 0, 1, 0, 0, 0, 0, 0, 0, 0, 1, 1, 0, 1,\n",
       "       0, 0, 0, 0, 0, 1, 1, 1, 0, 0, 0, 0, 0, 0, 0, 0, 1, 0, 1, 0, 0, 0,\n",
       "       1, 0, 0, 1, 0, 0, 0, 0, 0, 0, 0, 0, 0, 1, 0, 1, 0, 1, 0, 1, 1, 0,\n",
       "       0, 0, 1, 0, 1, 0, 0, 1, 0, 1, 1, 0, 1, 0, 0, 1, 1, 0, 0, 1, 0, 0,\n",
       "       1, 1, 0, 0, 0, 0, 0, 0, 1, 1, 0, 1, 0, 0, 0, 0, 0, 1, 0, 0, 0, 1,\n",
       "       0, 1, 0, 0, 1, 0, 1, 0, 0, 0, 0, 0, 1, 1, 1, 1, 0, 0, 1, 0, 0, 0])"
      ]
     },
     "execution_count": 86,
     "metadata": {},
     "output_type": "execute_result"
    }
   ],
   "source": [
    "# Fazendo predição na base de testes\n",
    "y_pred = model_rf.predict(X_test_sc)\n",
    "y_pred"
   ]
  },
  {
   "cell_type": "code",
   "execution_count": 87,
   "id": "2f4e7252-69d2-48fc-9fa3-570c7237b8a1",
   "metadata": {},
   "outputs": [],
   "source": [
    "submission = pd.DataFrame(test[\"PassengerId\"])"
   ]
  },
  {
   "cell_type": "code",
   "execution_count": 88,
   "id": "31ac451d-b1cf-403e-9fa2-7b4902c6efb2",
   "metadata": {},
   "outputs": [],
   "source": [
    "#salvando o arquivo para submissão no kaggle\n",
    "submission[\"Survived\"] = y_pred\n",
    "submission.to_csv(\"dados/submission5.csv\", index= False)"
   ]
  },
  {
   "cell_type": "markdown",
   "id": "186a3573-fdf1-482e-9f32-8b567048ae5b",
   "metadata": {},
   "source": [
    "# 6. Combinando Modelos para gerar um modelo final"
   ]
  },
  {
   "cell_type": "code",
   "execution_count": 89,
   "id": "0aebdf4f-5888-48f4-9366-e3e158480d9b",
   "metadata": {},
   "outputs": [],
   "source": [
    "# separando dados de treinamento\n",
    "X_train = train.drop(['PassengerId', 'Survived'], axis = 1)\n",
    "X_test = test.drop(['PassengerId'], axis = 1)"
   ]
  },
  {
   "cell_type": "code",
   "execution_count": 90,
   "id": "3542a9d4-9e2c-4b6f-bfa7-0219bb631759",
   "metadata": {},
   "outputs": [
    {
     "name": "stdout",
     "output_type": "stream",
     "text": [
      "<class 'pandas.core.frame.DataFrame'>\n",
      "RangeIndex: 891 entries, 0 to 890\n",
      "Data columns (total 10 columns):\n",
      " #   Column    Non-Null Count  Dtype  \n",
      "---  ------    --------------  -----  \n",
      " 0   Pclass    891 non-null    int64  \n",
      " 1   Name      891 non-null    object \n",
      " 2   Sex       891 non-null    object \n",
      " 3   Age       714 non-null    float64\n",
      " 4   SibSp     891 non-null    int64  \n",
      " 5   Parch     891 non-null    int64  \n",
      " 6   Ticket    891 non-null    object \n",
      " 7   Fare      891 non-null    float64\n",
      " 8   Cabin     204 non-null    object \n",
      " 9   Embarked  889 non-null    object \n",
      "dtypes: float64(2), int64(3), object(5)\n",
      "memory usage: 69.7+ KB\n"
     ]
    },
    {
     "data": {
      "text/plain": [
       "(None,\n",
       " Embarked\n",
       " S    644\n",
       " C    168\n",
       " Q     77\n",
       " Name: count, dtype: int64)"
      ]
     },
     "execution_count": 90,
     "metadata": {},
     "output_type": "execute_result"
    }
   ],
   "source": [
    "X_train.info(), X_train[\"Embarked\"].value_counts()"
   ]
  },
  {
   "cell_type": "code",
   "execution_count": 91,
   "id": "e3ecec22-9014-4cbd-9a35-37dbcf11b162",
   "metadata": {},
   "outputs": [
    {
     "name": "stderr",
     "output_type": "stream",
     "text": [
      "/tmp/ipykernel_18023/1599567601.py:4: FutureWarning: Downcasting behavior in `replace` is deprecated and will be removed in a future version. To retain the old behavior, explicitly call `result.infer_objects(copy=False)`. To opt-in to the future behavior, set `pd.set_option('future.no_silent_downcasting', True)`\n",
      "  X[\"mulher\"] = X[\"Sex\"].replace(subs)\n",
      "/tmp/ipykernel_18023/1599567601.py:9: FutureWarning: Downcasting behavior in `replace` is deprecated and will be removed in a future version. To retain the old behavior, explicitly call `result.infer_objects(copy=False)`. To opt-in to the future behavior, set `pd.set_option('future.no_silent_downcasting', True)`\n",
      "  X[\"porto\"] = X[\"Embarked\"].replace(subs)\n",
      "/tmp/ipykernel_18023/1599567601.py:4: FutureWarning: Downcasting behavior in `replace` is deprecated and will be removed in a future version. To retain the old behavior, explicitly call `result.infer_objects(copy=False)`. To opt-in to the future behavior, set `pd.set_option('future.no_silent_downcasting', True)`\n",
      "  X[\"mulher\"] = X[\"Sex\"].replace(subs)\n",
      "/tmp/ipykernel_18023/1599567601.py:9: FutureWarning: Downcasting behavior in `replace` is deprecated and will be removed in a future version. To retain the old behavior, explicitly call `result.infer_objects(copy=False)`. To opt-in to the future behavior, set `pd.set_option('future.no_silent_downcasting', True)`\n",
      "  X[\"porto\"] = X[\"Embarked\"].replace(subs)\n"
     ]
    }
   ],
   "source": [
    "# criar features e transformar em valores numéricos\n",
    "def criar_feature(X):\n",
    "    subs = {\"female\":1,\"male\":0}\n",
    "    X[\"mulher\"] = X[\"Sex\"].replace(subs)\n",
    "    X[\"Fare\"] = X[\"Fare\"].fillna(X[\"Fare\"].mean())\n",
    "    X[\"Age\"] = X[\"Age\"].fillna(X[\"Age\"].mean())\n",
    "    X[\"Embarked\"]= X[\"Embarked\"].fillna(\"S\")\n",
    "    subs = {\"S\":1,\"C\":2,\"Q\":3}\n",
    "    X[\"porto\"] = X[\"Embarked\"].replace(subs)\n",
    "    X['crianca'] = 1\n",
    "    X['crianca'] = np.where(X['Age'] < 12,1,0)\n",
    "    # Criar coluna de 'TamanhoDaFamilia'combinando SibSp e 'Parch'\n",
    "    X['TamanhoDaFamilia'] = X['Parch'] + X['SibSp'] \n",
    "    # Criar coluna de viajando sozinho para identificar passageiros que estão viajando sozinhos\n",
    "    X['EstaSozinho'] = np.where(X['TamanhoDaFamilia'] == 0, 1,0)\n",
    "    \n",
    "    return X\n",
    "\n",
    "X_train = criar_feature(X_train)\n",
    "X_test = criar_feature(X_test)"
   ]
  },
  {
   "cell_type": "code",
   "execution_count": 92,
   "id": "1021e897-c8d9-4b45-bad2-9aa657bba33d",
   "metadata": {},
   "outputs": [
    {
     "data": {
      "text/plain": [
       "Index(['Pclass', 'Name', 'Sex', 'Age', 'SibSp', 'Parch', 'Ticket', 'Fare',\n",
       "       'Cabin', 'Embarked', 'mulher', 'porto', 'crianca', 'TamanhoDaFamilia',\n",
       "       'EstaSozinho'],\n",
       "      dtype='object')"
      ]
     },
     "execution_count": 92,
     "metadata": {},
     "output_type": "execute_result"
    }
   ],
   "source": [
    "X_train.columns"
   ]
  },
  {
   "cell_type": "code",
   "execution_count": 93,
   "id": "19d37f08-8e95-4933-a6f2-af4ded6d9d1e",
   "metadata": {},
   "outputs": [],
   "source": [
    "# selecionar as features que eu quero trabalhar no treino\n",
    "features = ['Pclass', 'Age', 'SibSp', 'Parch', 'Fare', 'mulher', 'porto', 'crianca', \n",
    "            'TamanhoDaFamilia', 'EstaSozinho']\n",
    "X_train = X_train[features]\n",
    "X_test = X_test[features]\n",
    "\n",
    "y_train = train[\"Survived\"]\n"
   ]
  },
  {
   "cell_type": "code",
   "execution_count": 94,
   "id": "44c5dc1b-a0c7-4b61-93df-a2edaa26170f",
   "metadata": {},
   "outputs": [
    {
     "data": {
      "text/plain": [
       "(array([[ 0.82737724, -0.5924806 ,  0.43279337, ..., -0.28744485,\n",
       "          0.05915988, -1.2316449 ],\n",
       "        [-1.56610693,  0.63878901,  0.43279337, ..., -0.28744485,\n",
       "          0.05915988, -1.2316449 ],\n",
       "        [ 0.82737724, -0.2846632 , -0.4745452 , ..., -0.28744485,\n",
       "         -0.56097483,  0.81192233],\n",
       "        ...,\n",
       "        [ 0.82737724,  0.        ,  0.43279337, ..., -0.28744485,\n",
       "          1.29942929, -1.2316449 ],\n",
       "        [-1.56610693, -0.2846632 , -0.4745452 , ..., -0.28744485,\n",
       "         -0.56097483,  0.81192233],\n",
       "        [ 0.82737724,  0.17706291, -0.4745452 , ..., -0.28744485,\n",
       "         -0.56097483,  0.81192233]], shape=(891, 10)),\n",
       " array([[ 0.82737724,  0.36944878, -0.4745452 , ..., -0.28744485,\n",
       "         -0.56097483,  0.81192233],\n",
       "        [ 0.82737724,  1.33137817,  0.43279337, ..., -0.28744485,\n",
       "          0.05915988, -1.2316449 ],\n",
       "        [-0.36936484,  2.48569343, -0.4745452 , ..., -0.28744485,\n",
       "         -0.56097483,  0.81192233],\n",
       "        ...,\n",
       "        [ 0.82737724,  0.67726619, -0.4745452 , ..., -0.28744485,\n",
       "         -0.56097483,  0.81192233],\n",
       "        [ 0.82737724,  0.04413122, -0.4745452 , ..., -0.28744485,\n",
       "         -0.56097483,  0.81192233],\n",
       "        [ 0.82737724,  0.04413122,  0.43279337, ..., -0.28744485,\n",
       "          0.67929458, -1.2316449 ]], shape=(418, 10)))"
      ]
     },
     "execution_count": 94,
     "metadata": {},
     "output_type": "execute_result"
    }
   ],
   "source": [
    "#Padronização das variáveis\n",
    "scaler = StandardScaler() #media 0 e desviopadrao 1\n",
    "\n",
    "X_train_sc = scaler.fit_transform(X_train)\n",
    "X_test_sc = scaler.transform(X_test)\n",
    "X_train_sc,X_test_sc"
   ]
  },
  {
   "cell_type": "code",
   "execution_count": 95,
   "id": "230361fb-95ef-49db-9e6f-70d00aa765cb",
   "metadata": {},
   "outputs": [
    {
     "name": "stdout",
     "output_type": "stream",
     "text": [
      "[0.8        0.78651685 0.76404494 0.84269663 0.80898876 0.7752809\n",
      " 0.82022472 0.7752809  0.83146067 0.85393258]\n",
      "0.8058426966292135\n"
     ]
    }
   ],
   "source": [
    "#modelo de validação\n",
    "#Logistic Regression, # setando o max_iter\n",
    "model_lr = LogisticRegression(random_state=0,max_iter=1000)\n",
    "score = cross_val_score(model_lr,X_train_sc,y_train,cv=10)\n",
    "print(score)\n",
    "print(np.mean(score))"
   ]
  },
  {
   "cell_type": "code",
   "execution_count": 96,
   "id": "c422547b-5f0b-4d9e-951b-d8c64c9642f3",
   "metadata": {},
   "outputs": [
    {
     "name": "stdout",
     "output_type": "stream",
     "text": [
      "[0.73333333 0.79775281 0.7752809  0.82022472 0.82022472 0.82022472\n",
      " 0.82022472 0.80898876 0.82022472 0.84269663]\n",
      "0.8059176029962547\n"
     ]
    }
   ],
   "source": [
    "# Naiva Bayes para Classificação\n",
    "from sklearn.naive_bayes import GaussianNB\n",
    "\n",
    "model_nb = GaussianNB()\n",
    "score = cross_val_score(model_nb,X_train_sc,y_train,cv=10)\n",
    "print(score)\n",
    "print(np.mean(score))"
   ]
  },
  {
   "cell_type": "code",
   "execution_count": 97,
   "id": "fb818358-a4f2-46bd-af88-609175838025",
   "metadata": {},
   "outputs": [
    {
     "name": "stdout",
     "output_type": "stream",
     "text": [
      "[0.76666667 0.83146067 0.73033708 0.80898876 0.83146067 0.82022472\n",
      " 0.85393258 0.79775281 0.85393258 0.7752809 ]\n",
      "0.8070037453183521\n"
     ]
    }
   ],
   "source": [
    "# KNN para classificação\n",
    "from sklearn.neighbors import KNeighborsClassifier\n",
    "\n",
    "model_knn = KNeighborsClassifier(n_neighbors=5, p=2)\n",
    "score = cross_val_score(model_knn,X_train_sc,y_train,cv=10)\n",
    "print(score)\n",
    "print(np.mean(score))"
   ]
  },
  {
   "cell_type": "code",
   "execution_count": 98,
   "id": "c37d6893-5d28-4049-94c2-5f11b4e17e42",
   "metadata": {},
   "outputs": [
    {
     "name": "stdout",
     "output_type": "stream",
     "text": [
      "[0.84444444 0.84269663 0.75280899 0.86516854 0.85393258 0.79775281\n",
      " 0.80898876 0.7752809  0.86516854 0.82022472]\n",
      "0.8226466916354557\n"
     ]
    }
   ],
   "source": [
    "# SVM  para classificação\n",
    "from sklearn.svm import SVC\n",
    "\n",
    "model_svc = SVC(C=3,kernel = 'rbf', degree = 2, gamma = 0.1)\n",
    "score = cross_val_score(model_svc,X_train_sc,y_train,cv=10)\n",
    "print(score)\n",
    "print(np.mean(score))\n"
   ]
  },
  {
   "cell_type": "code",
   "execution_count": 99,
   "id": "10c718a0-27f5-4088-b4a9-f81230eccb20",
   "metadata": {},
   "outputs": [
    {
     "name": "stdout",
     "output_type": "stream",
     "text": [
      "[0.82222222 0.84269663 0.7752809  0.86516854 0.83146067 0.78651685\n",
      " 0.78651685 0.78651685 0.85393258 0.83146067]\n",
      "0.8181772784019975\n"
     ]
    }
   ],
   "source": [
    "# Decision Tree\n",
    "# com 3 eles não decora as features e generaliza melhor sobre a base de testes\n",
    "from sklearn.tree import DecisionTreeClassifier\n",
    "\n",
    "model_dt = DecisionTreeClassifier(criterion='entropy', max_depth=3,min_samples_split=2, \n",
    "                                  min_samples_leaf=1, random_state=0)\n",
    "score = cross_val_score(model_dt,X_train_sc,y_train,cv=10)\n",
    "print(score)\n",
    "print(np.mean(score))"
   ]
  },
  {
   "cell_type": "code",
   "execution_count": 100,
   "id": "dd00c4bc-b931-4d85-a707-c6d28101b2f1",
   "metadata": {},
   "outputs": [
    {
     "name": "stdout",
     "output_type": "stream",
     "text": [
      "[0.81111111 0.83146067 0.76404494 0.8988764  0.87640449 0.79775281\n",
      " 0.82022472 0.76404494 0.86516854 0.84269663]\n",
      "0.8271785268414481\n"
     ]
    }
   ],
   "source": [
    "#Random Forest\n",
    "from sklearn.ensemble import RandomForestClassifier\n",
    "\n",
    "model_rf = RandomForestClassifier(criterion='entropy', max_depth=5, n_estimators=100, \n",
    "                                  min_samples_split=2, \n",
    "                                  min_samples_leaf=1, random_state=0)\n",
    "score = cross_val_score(model_rf,X_train_sc,y_train,cv=10)\n",
    "print(score)\n",
    "print(np.mean(score))\n"
   ]
  },
  {
   "cell_type": "code",
   "execution_count": 101,
   "id": "9721ce25-0aaa-4f45-ba87-ebc09393f34c",
   "metadata": {},
   "outputs": [
    {
     "name": "stdout",
     "output_type": "stream",
     "text": [
      "Iteration No: 1 started. Evaluating function at random point.\n",
      "0.8249812734082397\n",
      "Iteration No: 1 ended. Evaluation done at random point.\n",
      "Time taken: 23.9848\n",
      "Function value obtained: -0.8250\n",
      "Current minimum: -0.8250\n",
      "Iteration No: 2 started. Evaluating function at random point.\n",
      "0.8316604244694131\n",
      "Iteration No: 2 ended. Evaluation done at random point.\n",
      "Time taken: 10.1555\n",
      "Function value obtained: -0.8317\n",
      "Current minimum: -0.8317\n",
      "Iteration No: 3 started. Evaluating function at random point.\n",
      "0.8283770287141072\n",
      "Iteration No: 3 ended. Evaluation done at random point.\n",
      "Time taken: 16.5247\n",
      "Function value obtained: -0.8284\n",
      "Current minimum: -0.8317\n",
      "Iteration No: 4 started. Evaluating function at random point.\n",
      "0.829450686641698\n",
      "Iteration No: 4 ended. Evaluation done at random point.\n",
      "Time taken: 12.1965\n",
      "Function value obtained: -0.8295\n",
      "Current minimum: -0.8317\n",
      "Iteration No: 5 started. Evaluating function at random point.\n",
      "0.8294756554307116\n",
      "Iteration No: 5 ended. Evaluation done at random point.\n",
      "Time taken: 21.2759\n",
      "Function value obtained: -0.8295\n",
      "Current minimum: -0.8317\n",
      "Iteration No: 6 started. Evaluating function at random point.\n",
      "0.8294881398252185\n",
      "Iteration No: 6 ended. Evaluation done at random point.\n",
      "Time taken: 15.9475\n",
      "Function value obtained: -0.8295\n",
      "Current minimum: -0.8317\n",
      "Iteration No: 7 started. Evaluating function at random point.\n",
      "0.8227340823970037\n",
      "Iteration No: 7 ended. Evaluation done at random point.\n",
      "Time taken: 19.9598\n",
      "Function value obtained: -0.8227\n",
      "Current minimum: -0.8317\n",
      "Iteration No: 8 started. Evaluating function at random point.\n",
      "0.8272409488139825\n",
      "Iteration No: 8 ended. Evaluation done at random point.\n",
      "Time taken: 7.6227\n",
      "Function value obtained: -0.8272\n",
      "Current minimum: -0.8317\n",
      "Iteration No: 9 started. Evaluating function at random point.\n",
      "0.8294382022471909\n",
      "Iteration No: 9 ended. Evaluation done at random point.\n",
      "Time taken: 21.3010\n",
      "Function value obtained: -0.8294\n",
      "Current minimum: -0.8317\n",
      "Iteration No: 10 started. Evaluating function at random point.\n",
      "0.8306242197253433\n",
      "Iteration No: 10 ended. Evaluation done at random point.\n",
      "Time taken: 10.2515\n",
      "Function value obtained: -0.8306\n",
      "Current minimum: -0.8317\n",
      "Iteration No: 11 started. Searching for the next optimal point.\n",
      "0.8215480649188514\n",
      "Iteration No: 11 ended. Search finished for the next optimal point.\n",
      "Time taken: 8.9451\n",
      "Function value obtained: -0.8215\n",
      "Current minimum: -0.8317\n",
      "Iteration No: 12 started. Searching for the next optimal point.\n",
      "0.8205118601747815\n",
      "Iteration No: 12 ended. Search finished for the next optimal point.\n",
      "Time taken: 3.1099\n",
      "Function value obtained: -0.8205\n",
      "Current minimum: -0.8317\n",
      "Iteration No: 13 started. Searching for the next optimal point.\n",
      "0.8227590511860174\n",
      "Iteration No: 13 ended. Search finished for the next optimal point.\n",
      "Time taken: 22.1348\n",
      "Function value obtained: -0.8228\n",
      "Current minimum: -0.8317\n",
      "Iteration No: 14 started. Searching for the next optimal point.\n",
      "0.8305992509363296\n",
      "Iteration No: 14 ended. Search finished for the next optimal point.\n",
      "Time taken: 18.5468\n",
      "Function value obtained: -0.8306\n",
      "Current minimum: -0.8317\n",
      "Iteration No: 15 started. Searching for the next optimal point.\n",
      "0.829450686641698\n",
      "Iteration No: 15 ended. Search finished for the next optimal point.\n",
      "Time taken: 11.1379\n",
      "Function value obtained: -0.8295\n",
      "Current minimum: -0.8317\n",
      "Iteration No: 16 started. Searching for the next optimal point.\n",
      "0.8261298377028714\n",
      "Iteration No: 16 ended. Search finished for the next optimal point.\n",
      "Time taken: 3.2627\n",
      "Function value obtained: -0.8261\n",
      "Current minimum: -0.8317\n",
      "Iteration No: 17 started. Searching for the next optimal point.\n",
      "0.8216354556803994\n",
      "Iteration No: 17 ended. Search finished for the next optimal point.\n",
      "Time taken: 23.6723\n",
      "Function value obtained: -0.8216\n",
      "Current minimum: -0.8317\n",
      "Iteration No: 18 started. Searching for the next optimal point.\n",
      "0.828314606741573\n",
      "Iteration No: 18 ended. Search finished for the next optimal point.\n",
      "Time taken: 21.7817\n",
      "Function value obtained: -0.8283\n",
      "Current minimum: -0.8317\n",
      "Iteration No: 19 started. Searching for the next optimal point.\n",
      "0.82270911360799\n",
      "Iteration No: 19 ended. Search finished for the next optimal point.\n",
      "Time taken: 21.6748\n",
      "Function value obtained: -0.8227\n",
      "Current minimum: -0.8317\n",
      "Iteration No: 20 started. Searching for the next optimal point.\n",
      "0.8238576779026217\n",
      "Iteration No: 20 ended. Search finished for the next optimal point.\n",
      "Time taken: 3.9417\n",
      "Function value obtained: -0.8239\n",
      "Current minimum: -0.8317\n",
      "Iteration No: 21 started. Searching for the next optimal point.\n",
      "0.8283021223470662\n",
      "Iteration No: 21 ended. Search finished for the next optimal point.\n",
      "Time taken: 23.5768\n",
      "Function value obtained: -0.8283\n",
      "Current minimum: -0.8317\n",
      "Iteration No: 22 started. Searching for the next optimal point.\n",
      "0.8294257178526842\n",
      "Iteration No: 22 ended. Search finished for the next optimal point.\n",
      "Time taken: 9.4184\n",
      "Function value obtained: -0.8294\n",
      "Current minimum: -0.8317\n",
      "Iteration No: 23 started. Searching for the next optimal point.\n",
      "0.8316479400749064\n",
      "Iteration No: 23 ended. Search finished for the next optimal point.\n",
      "Time taken: 3.1936\n",
      "Function value obtained: -0.8316\n",
      "Current minimum: -0.8317\n",
      "Iteration No: 24 started. Searching for the next optimal point.\n",
      "0.8193757802746566\n",
      "Iteration No: 24 ended. Search finished for the next optimal point.\n",
      "Time taken: 3.4646\n",
      "Function value obtained: -0.8194\n",
      "Current minimum: -0.8317\n",
      "Iteration No: 25 started. Searching for the next optimal point.\n",
      "0.8294756554307116\n",
      "Iteration No: 25 ended. Search finished for the next optimal point.\n",
      "Time taken: 22.7501\n",
      "Function value obtained: -0.8295\n",
      "Current minimum: -0.8317\n",
      "Iteration No: 26 started. Searching for the next optimal point.\n",
      "0.8237952559300874\n",
      "Iteration No: 26 ended. Search finished for the next optimal point.\n",
      "Time taken: 22.5980\n",
      "Function value obtained: -0.8238\n",
      "Current minimum: -0.8317\n",
      "Iteration No: 27 started. Searching for the next optimal point.\n",
      "0.826067415730337\n",
      "Iteration No: 27 ended. Search finished for the next optimal point.\n",
      "Time taken: 29.5588\n",
      "Function value obtained: -0.8261\n",
      "Current minimum: -0.8317\n",
      "Iteration No: 28 started. Searching for the next optimal point.\n",
      "0.8238576779026217\n",
      "Iteration No: 28 ended. Search finished for the next optimal point.\n",
      "Time taken: 4.3367\n",
      "Function value obtained: -0.8239\n",
      "Current minimum: -0.8317\n",
      "Iteration No: 29 started. Searching for the next optimal point.\n",
      "0.8260799001248438\n",
      "Iteration No: 29 ended. Search finished for the next optimal point.\n",
      "Time taken: 29.5232\n",
      "Function value obtained: -0.8261\n",
      "Current minimum: -0.8317\n",
      "Iteration No: 30 started. Searching for the next optimal point.\n",
      "0.8272534332084893\n",
      "Iteration No: 30 ended. Search finished for the next optimal point.\n",
      "Time taken: 5.0371\n",
      "Function value obtained: -0.8273\n",
      "Current minimum: -0.8317\n"
     ]
    }
   ],
   "source": [
    "#otimização de hiperparametros \n",
    "from skopt import gp_minimize\n",
    "\n",
    "def treinar_modelo(parametros):\n",
    "    model_rf = RandomForestClassifier(criterion=parametros[0], \n",
    "                                      n_estimators=parametros[1], \n",
    "                                      max_depth=parametros[2], \n",
    "                                      min_samples_split=parametros[3], \n",
    "                                      min_samples_leaf=parametros[4], \n",
    "                                      random_state=0, n_jobs=-1)\n",
    "    score = cross_val_score(model_rf,X_train_sc,y_train,cv=10)\n",
    "    meanscore = np.mean(score)\n",
    "    print(np.mean(score))\n",
    "    #quanto maior melhor\n",
    "    return -meanscore\n",
    "    \n",
    "#tuplas com os parametros\n",
    "parametros = [('entropy', 'gini'),#criterion\n",
    "              (100, 1000), # n_estimators\n",
    "              (3,20), #max_depth\n",
    "              (2,10), # min_samples_split\n",
    "              (1,10)] # min_samples_leaf\n",
    "otimos = gp_minimize(treinar_modelo, parametros, random_state=0, verbose=1,n_calls=30, \n",
    "                     n_random_starts=10);"
   ]
  },
  {
   "cell_type": "code",
   "execution_count": 102,
   "id": "80fa3516-3923-4699-b460-6a890d77a55f",
   "metadata": {},
   "outputs": [
    {
     "data": {
      "text/plain": [
       "(np.float64(-0.8316604244694131),\n",
       " ['entropy', np.int64(368), np.int64(4), np.int64(4), np.int64(5)])"
      ]
     },
     "execution_count": 102,
     "metadata": {},
     "output_type": "execute_result"
    }
   ],
   "source": [
    "# imprimindo o melhor resultado\n",
    "otimos.fun, otimos.x"
   ]
  },
  {
   "cell_type": "code",
   "execution_count": 103,
   "id": "22a704c4-9534-4664-8432-75a4f62cdc4d",
   "metadata": {},
   "outputs": [],
   "source": [
    "# treinando modelo final  com os melhores parametros\n",
    "model_rf = RandomForestClassifier(criterion=otimos.x[0], \n",
    "                                      n_estimators=otimos.x[1], \n",
    "                                      max_depth=otimos.x[2], \n",
    "                                      min_samples_split=otimos.x[3], \n",
    "                                      min_samples_leaf=otimos.x[4], \n",
    "                                      random_state=0, n_jobs=-1)\n",
    "\n",
    "model_rf.fit(X_train_sc,y_train)\n",
    "y_pred = model_rf.predict(X_train_sc)\n",
    "#y_pred"
   ]
  },
  {
   "cell_type": "code",
   "execution_count": 104,
   "id": "06007a02-0208-47a8-93a6-05cd9453e02a",
   "metadata": {},
   "outputs": [
    {
     "name": "stdout",
     "output_type": "stream",
     "text": [
      "0.8249063670411985\n"
     ]
    }
   ],
   "source": [
    "#Ensamble model (voting)\n",
    "from sklearn.ensemble import VotingClassifier\n",
    "\n",
    "# hard utiliza a saida enquanto soft utiliza as probabilidades.\n",
    "model_voting = VotingClassifier(estimators = [('LR', model_lr),\n",
    "                                              ('KNN', model_knn),\n",
    "                                              ('SVC',model_svc),\n",
    "                                              ('RF',model_rf)],voting='hard')\n",
    "\n",
    "model_voting.fit(X_train_sc, y_train)\n",
    "\n",
    "score = cross_val_score(model_voting, X_train_sc, y_train, cv = 10)\n",
    "\n",
    "print(np.mean(score))\n"
   ]
  },
  {
   "cell_type": "code",
   "execution_count": 105,
   "id": "bb7b16c1-a35d-41be-86d1-d570cd8fe638",
   "metadata": {},
   "outputs": [
    {
     "name": "stdout",
     "output_type": "stream",
     "text": [
      "[[512  37]\n",
      " [105 237]]\n"
     ]
    }
   ],
   "source": [
    "# Matriz principal tem os resultados\n",
    "mc = confusion_matrix(y_train,y_pred)\n",
    "print(mc)"
   ]
  },
  {
   "cell_type": "markdown",
   "id": "ba63194a-3b90-4d3c-b0f4-6fbee1a9e1ff",
   "metadata": {},
   "source": [
    "## 6.1. Acurácia na base de treinamento"
   ]
  },
  {
   "cell_type": "code",
   "execution_count": 106,
   "id": "2aff4c6b-4e44-4f98-bfff-65b49a5b2a8a",
   "metadata": {},
   "outputs": [
    {
     "data": {
      "text/plain": [
       "0.8428731762065096"
      ]
     },
     "execution_count": 106,
     "metadata": {},
     "output_type": "execute_result"
    }
   ],
   "source": [
    "score = model_voting.score(X_train_sc,y_train)\n",
    "score"
   ]
  },
  {
   "cell_type": "markdown",
   "id": "4c25e399-f251-4a96-aa28-23f93819cabf",
   "metadata": {},
   "source": [
    "## 6.2. Predição sobre a base de teste\n",
    "Fazendo a predição sobre a base de testes e exportando o arquivo para realizar a submissão através da plataforma Kaggle."
   ]
  },
  {
   "cell_type": "code",
   "execution_count": 107,
   "id": "54cdbd0c-5217-4eba-8dd1-abad08579d7c",
   "metadata": {},
   "outputs": [
    {
     "data": {
      "text/plain": [
       "array([0, 0, 0, 0, 0, 0, 1, 0, 1, 0, 0, 0, 1, 0, 1, 1, 0, 0, 0, 1, 0, 1,\n",
       "       1, 0, 1, 0, 1, 0, 0, 0, 0, 0, 0, 0, 0, 0, 0, 0, 0, 0, 0, 0, 0, 1,\n",
       "       1, 0, 0, 0, 1, 1, 0, 0, 1, 1, 0, 0, 0, 0, 0, 1, 0, 0, 0, 1, 0, 1,\n",
       "       1, 0, 0, 1, 1, 0, 0, 0, 1, 0, 0, 1, 0, 1, 1, 0, 0, 0, 0, 0, 1, 0,\n",
       "       1, 1, 0, 0, 1, 0, 0, 0, 1, 0, 0, 0, 1, 0, 0, 0, 1, 0, 0, 0, 0, 0,\n",
       "       0, 1, 1, 1, 1, 0, 0, 1, 0, 1, 1, 0, 1, 0, 0, 1, 0, 1, 0, 0, 0, 0,\n",
       "       0, 0, 0, 0, 0, 0, 0, 0, 0, 1, 0, 0, 0, 0, 0, 0, 0, 0, 1, 0, 0, 1,\n",
       "       0, 0, 1, 0, 0, 1, 1, 1, 1, 0, 0, 0, 0, 0, 1, 0, 0, 0, 0, 0, 0, 1,\n",
       "       1, 0, 1, 1, 0, 0, 1, 0, 1, 0, 1, 0, 0, 0, 0, 0, 0, 0, 1, 0, 1, 0,\n",
       "       0, 0, 1, 1, 0, 1, 0, 0, 1, 0, 1, 0, 0, 0, 0, 1, 0, 0, 1, 0, 1, 0,\n",
       "       1, 0, 1, 0, 1, 1, 0, 1, 0, 0, 0, 1, 0, 0, 0, 0, 0, 0, 1, 1, 1, 1,\n",
       "       0, 0, 0, 0, 1, 0, 1, 1, 1, 0, 0, 0, 0, 0, 0, 0, 1, 0, 0, 0, 1, 1,\n",
       "       0, 0, 0, 0, 0, 0, 0, 0, 1, 1, 0, 1, 0, 0, 0, 0, 0, 1, 1, 1, 1, 0,\n",
       "       0, 0, 0, 0, 0, 1, 0, 0, 0, 0, 1, 0, 0, 0, 0, 0, 0, 0, 1, 1, 0, 1,\n",
       "       0, 0, 0, 0, 0, 1, 1, 1, 0, 0, 0, 0, 0, 0, 0, 0, 1, 0, 1, 0, 0, 0,\n",
       "       1, 0, 0, 1, 0, 0, 0, 0, 0, 0, 0, 0, 0, 1, 0, 0, 0, 1, 0, 1, 1, 0,\n",
       "       0, 0, 1, 0, 1, 0, 0, 0, 0, 1, 1, 0, 1, 0, 0, 0, 1, 0, 0, 1, 0, 0,\n",
       "       1, 1, 0, 0, 0, 0, 0, 0, 0, 0, 0, 1, 0, 0, 0, 0, 0, 1, 0, 0, 0, 1,\n",
       "       0, 1, 0, 0, 1, 0, 1, 0, 0, 0, 0, 0, 1, 1, 1, 1, 0, 0, 1, 0, 0, 0])"
      ]
     },
     "execution_count": 107,
     "metadata": {},
     "output_type": "execute_result"
    }
   ],
   "source": [
    "# Fazendo predição na base de testes\n",
    "y_pred = model_voting.predict(X_test_sc)\n",
    "y_pred"
   ]
  },
  {
   "cell_type": "code",
   "execution_count": 108,
   "id": "db386aee-11ee-4613-98b4-fc55e2a69dd1",
   "metadata": {},
   "outputs": [],
   "source": [
    "submission = pd.DataFrame(test[\"PassengerId\"])"
   ]
  },
  {
   "cell_type": "code",
   "execution_count": 109,
   "id": "50bbf887-02a6-4174-bfab-ce95d245800e",
   "metadata": {},
   "outputs": [],
   "source": [
    "#salvando o arquivo para submissão no kaggle\n",
    "submission[\"Survived\"] = y_pred\n",
    "submission.to_csv(\"dados/submission6.csv\", index= False)"
   ]
  },
  {
   "cell_type": "markdown",
   "id": "20e121fc-3ee1-45c9-a951-bbc203d41768",
   "metadata": {},
   "source": [
    "# 7. Otimizando outros modelos"
   ]
  },
  {
   "cell_type": "code",
   "execution_count": 155,
   "id": "04f059f4-a510-4e93-b98e-e84f3023c40c",
   "metadata": {},
   "outputs": [],
   "source": [
    "# separando dados de treinamento\n",
    "X_train = train.drop(['PassengerId', 'Survived'], axis = 1)\n",
    "X_test = test.drop(['PassengerId'], axis = 1)"
   ]
  },
  {
   "cell_type": "code",
   "execution_count": 156,
   "id": "ae3281b3-789b-4218-8194-d2773f013fdd",
   "metadata": {},
   "outputs": [
    {
     "name": "stdout",
     "output_type": "stream",
     "text": [
      "<class 'pandas.core.frame.DataFrame'>\n",
      "RangeIndex: 891 entries, 0 to 890\n",
      "Data columns (total 10 columns):\n",
      " #   Column    Non-Null Count  Dtype  \n",
      "---  ------    --------------  -----  \n",
      " 0   Pclass    891 non-null    int64  \n",
      " 1   Name      891 non-null    object \n",
      " 2   Sex       891 non-null    object \n",
      " 3   Age       714 non-null    float64\n",
      " 4   SibSp     891 non-null    int64  \n",
      " 5   Parch     891 non-null    int64  \n",
      " 6   Ticket    891 non-null    object \n",
      " 7   Fare      891 non-null    float64\n",
      " 8   Cabin     204 non-null    object \n",
      " 9   Embarked  889 non-null    object \n",
      "dtypes: float64(2), int64(3), object(5)\n",
      "memory usage: 69.7+ KB\n"
     ]
    },
    {
     "data": {
      "text/plain": [
       "(None,\n",
       " Embarked\n",
       " S    644\n",
       " C    168\n",
       " Q     77\n",
       " Name: count, dtype: int64)"
      ]
     },
     "execution_count": 156,
     "metadata": {},
     "output_type": "execute_result"
    }
   ],
   "source": [
    "X_train.info(), X_train[\"Embarked\"].value_counts()"
   ]
  },
  {
   "cell_type": "code",
   "execution_count": 157,
   "id": "da1e76d3-dafa-4c7f-b96a-b562649f145a",
   "metadata": {},
   "outputs": [
    {
     "data": {
      "text/plain": [
       "(0       True\n",
       " 1      False\n",
       " 2       True\n",
       " 3      False\n",
       " 4       True\n",
       "        ...  \n",
       " 886     True\n",
       " 887    False\n",
       " 888     True\n",
       " 889    False\n",
       " 890     True\n",
       " Name: Cabin, Length: 891, dtype: bool,\n",
       " 0       NaN\n",
       " 1       C85\n",
       " 2       NaN\n",
       " 3      C123\n",
       " 4       NaN\n",
       "        ... \n",
       " 886     NaN\n",
       " 887     B42\n",
       " 888     NaN\n",
       " 889    C148\n",
       " 890     NaN\n",
       " Name: Cabin, Length: 891, dtype: object)"
      ]
     },
     "execution_count": 157,
     "metadata": {},
     "output_type": "execute_result"
    }
   ],
   "source": [
    "#Testando a cabine\n",
    "train[\"Cabin\"].isnull(), train[\"Cabin\"]"
   ]
  },
  {
   "cell_type": "code",
   "execution_count": 158,
   "id": "a6e3cc9b-95fa-4c73-8434-418f96bf8842",
   "metadata": {},
   "outputs": [
    {
     "name": "stderr",
     "output_type": "stream",
     "text": [
      "/tmp/ipykernel_18023/2982473549.py:4: FutureWarning: Downcasting behavior in `replace` is deprecated and will be removed in a future version. To retain the old behavior, explicitly call `result.infer_objects(copy=False)`. To opt-in to the future behavior, set `pd.set_option('future.no_silent_downcasting', True)`\n",
      "  X[\"mulher\"] = X[\"Sex\"].replace(subs)\n",
      "/tmp/ipykernel_18023/2982473549.py:9: FutureWarning: Downcasting behavior in `replace` is deprecated and will be removed in a future version. To retain the old behavior, explicitly call `result.infer_objects(copy=False)`. To opt-in to the future behavior, set `pd.set_option('future.no_silent_downcasting', True)`\n",
      "  X[\"porto\"] = X[\"Embarked\"].replace(subs)\n",
      "/tmp/ipykernel_18023/2982473549.py:4: FutureWarning: Downcasting behavior in `replace` is deprecated and will be removed in a future version. To retain the old behavior, explicitly call `result.infer_objects(copy=False)`. To opt-in to the future behavior, set `pd.set_option('future.no_silent_downcasting', True)`\n",
      "  X[\"mulher\"] = X[\"Sex\"].replace(subs)\n",
      "/tmp/ipykernel_18023/2982473549.py:9: FutureWarning: Downcasting behavior in `replace` is deprecated and will be removed in a future version. To retain the old behavior, explicitly call `result.infer_objects(copy=False)`. To opt-in to the future behavior, set `pd.set_option('future.no_silent_downcasting', True)`\n",
      "  X[\"porto\"] = X[\"Embarked\"].replace(subs)\n"
     ]
    }
   ],
   "source": [
    "# criar features e transformar em valores numéricos\n",
    "def criar_feature(X):\n",
    "    subs = {\"female\":1,\"male\":0}\n",
    "    X[\"mulher\"] = X[\"Sex\"].replace(subs)\n",
    "    X[\"Fare\"] = X[\"Fare\"].fillna(X[\"Fare\"].mean())\n",
    "    X[\"Age\"] = X[\"Age\"].fillna(X[\"Age\"].mean())\n",
    "    X[\"Embarked\"]= X[\"Embarked\"].fillna(\"S\")\n",
    "    subs = {\"S\":1,\"C\":2,\"Q\":3}\n",
    "    X[\"porto\"] = X[\"Embarked\"].replace(subs)\n",
    "    X['crianca'] = 1\n",
    "    X['crianca'] = np.where(X['Age'] < 12,1,0)\n",
    "    # Criar coluna de 'TamanhoDaFamilia'combinando SibSp e 'Parch'\n",
    "    X['TamanhoDaFamilia'] = X['Parch'] + X['SibSp'] \n",
    "    # Criar coluna de viajando sozinho para identificar passageiros que estão viajando sozinhos\n",
    "    X['EstaSozinho'] = np.where(X['TamanhoDaFamilia'] == 0, 1,0)\n",
    "    X['Cabine'] = np.where(X[\"Cabin\"].isnull(),0,1)\n",
    "    \n",
    "    return X\n",
    "\n",
    "X_train = criar_feature(X_train)\n",
    "X_test = criar_feature(X_test)"
   ]
  },
  {
   "cell_type": "code",
   "execution_count": 159,
   "id": "bfaf1b01-2afe-45dd-b530-0a00c1ef2c1b",
   "metadata": {},
   "outputs": [
    {
     "data": {
      "text/plain": [
       "Index(['Pclass', 'Name', 'Sex', 'Age', 'SibSp', 'Parch', 'Ticket', 'Fare',\n",
       "       'Cabin', 'Embarked', 'mulher', 'porto', 'crianca', 'TamanhoDaFamilia',\n",
       "       'EstaSozinho', 'Cabine'],\n",
       "      dtype='object')"
      ]
     },
     "execution_count": 159,
     "metadata": {},
     "output_type": "execute_result"
    }
   ],
   "source": [
    "X_train.columns"
   ]
  },
  {
   "cell_type": "code",
   "execution_count": 160,
   "id": "10433590-9884-4b97-99d9-54bd9ccd0b00",
   "metadata": {},
   "outputs": [],
   "source": [
    "# selecionar as features que eu quero trabalhar no treino\n",
    "features = ['Pclass', 'Age', 'SibSp', 'Parch', 'Fare', 'mulher', 'porto', 'crianca', \n",
    "            'TamanhoDaFamilia', 'EstaSozinho', 'Cabine']\n",
    "X_train = X_train[features]\n",
    "X_test = X_test[features]\n",
    "\n",
    "y_train = train[\"Survived\"]\n"
   ]
  },
  {
   "cell_type": "code",
   "execution_count": 161,
   "id": "a8f1629b-da30-43ca-8f57-8b8f8631b705",
   "metadata": {},
   "outputs": [
    {
     "data": {
      "text/plain": [
       "(array([[ 0.82737724, -0.5924806 ,  0.43279337, ...,  0.05915988,\n",
       "         -1.2316449 , -0.54492498],\n",
       "        [-1.56610693,  0.63878901,  0.43279337, ...,  0.05915988,\n",
       "         -1.2316449 ,  1.835115  ],\n",
       "        [ 0.82737724, -0.2846632 , -0.4745452 , ..., -0.56097483,\n",
       "          0.81192233, -0.54492498],\n",
       "        ...,\n",
       "        [ 0.82737724,  0.        ,  0.43279337, ...,  1.29942929,\n",
       "         -1.2316449 , -0.54492498],\n",
       "        [-1.56610693, -0.2846632 , -0.4745452 , ..., -0.56097483,\n",
       "          0.81192233,  1.835115  ],\n",
       "        [ 0.82737724,  0.17706291, -0.4745452 , ..., -0.56097483,\n",
       "          0.81192233, -0.54492498]], shape=(891, 11)),\n",
       " array([[ 0.82737724,  0.36944878, -0.4745452 , ..., -0.56097483,\n",
       "          0.81192233, -0.54492498],\n",
       "        [ 0.82737724,  1.33137817,  0.43279337, ...,  0.05915988,\n",
       "         -1.2316449 , -0.54492498],\n",
       "        [-0.36936484,  2.48569343, -0.4745452 , ..., -0.56097483,\n",
       "          0.81192233, -0.54492498],\n",
       "        ...,\n",
       "        [ 0.82737724,  0.67726619, -0.4745452 , ..., -0.56097483,\n",
       "          0.81192233, -0.54492498],\n",
       "        [ 0.82737724,  0.04413122, -0.4745452 , ..., -0.56097483,\n",
       "          0.81192233, -0.54492498],\n",
       "        [ 0.82737724,  0.04413122,  0.43279337, ...,  0.67929458,\n",
       "         -1.2316449 , -0.54492498]], shape=(418, 11)))"
      ]
     },
     "execution_count": 161,
     "metadata": {},
     "output_type": "execute_result"
    }
   ],
   "source": [
    "#Padronização das variáveis\n",
    "scaler = StandardScaler() #media 0 e desviopadrao 1\n",
    "\n",
    "X_train_sc = scaler.fit_transform(X_train)\n",
    "X_test_sc = scaler.transform(X_test)\n",
    "X_train_sc,X_test_sc"
   ]
  },
  {
   "cell_type": "code",
   "execution_count": 162,
   "id": "2e033fd9-4689-4540-9128-c7a59e28b70f",
   "metadata": {},
   "outputs": [
    {
     "name": "stdout",
     "output_type": "stream",
     "text": [
      "[0.8        0.80898876 0.76404494 0.83146067 0.80898876 0.7752809\n",
      " 0.83146067 0.79775281 0.84269663 0.87640449]\n",
      "0.8137078651685394\n"
     ]
    }
   ],
   "source": [
    "#modelo de validação\n",
    "#Logistic Regression, # setando o max_iter\n",
    "model_lr = LogisticRegression(random_state=0,max_iter=1000)\n",
    "score = cross_val_score(model_lr,X_train_sc,y_train,cv=10)\n",
    "print(score)\n",
    "print(np.mean(score))"
   ]
  },
  {
   "cell_type": "code",
   "execution_count": 163,
   "id": "8d99ffcc-2e1b-4fa7-b830-e61491813b2d",
   "metadata": {},
   "outputs": [
    {
     "name": "stdout",
     "output_type": "stream",
     "text": [
      "[0.81111111 0.79775281 0.74157303 0.78651685 0.84269663 0.80898876\n",
      " 0.83146067 0.80898876 0.84269663 0.80898876]\n",
      "0.8080774032459426\n"
     ]
    }
   ],
   "source": [
    "# KNN para classificação\n",
    "from sklearn.neighbors import KNeighborsClassifier\n",
    "\n",
    "model_knn = KNeighborsClassifier(n_neighbors=5, p=2)\n",
    "score = cross_val_score(model_knn,X_train_sc,y_train,cv=10)\n",
    "print(score)\n",
    "print(np.mean(score))"
   ]
  },
  {
   "cell_type": "code",
   "execution_count": 164,
   "id": "4366f13d-f276-40b3-b0bc-757709fa89a6",
   "metadata": {},
   "outputs": [
    {
     "name": "stdout",
     "output_type": "stream",
     "text": [
      "[0.83333333 0.83146067 0.75280899 0.86516854 0.87640449 0.79775281\n",
      " 0.82022472 0.7752809  0.86516854 0.85393258]\n",
      "0.8271535580524343\n"
     ]
    }
   ],
   "source": [
    "# SVM  para classificação\n",
    "from sklearn.svm import SVC\n",
    "\n",
    "model_svc = SVC(C=3,kernel = 'rbf', degree = 2, gamma = 0.1)\n",
    "score = cross_val_score(model_svc,X_train_sc,y_train,cv=10)\n",
    "print(score)\n",
    "print(np.mean(score))\n"
   ]
  },
  {
   "cell_type": "code",
   "execution_count": 165,
   "id": "bf586bfd-f353-4f10-98b0-f9582542a5df",
   "metadata": {},
   "outputs": [
    {
     "name": "stdout",
     "output_type": "stream",
     "text": [
      "Iteration No: 1 started. Evaluating function at random point.\n",
      "0.8226841448189763\n",
      "Iteration No: 1 ended. Evaluation done at random point.\n",
      "Time taken: 0.3117\n",
      "Function value obtained: -0.8227\n",
      "Current minimum: -0.8227\n",
      "Iteration No: 2 started. Evaluating function at random point.\n",
      "0.7161048689138576\n",
      "Iteration No: 2 ended. Evaluation done at random point.\n",
      "Time taken: 0.2720\n",
      "Function value obtained: -0.7161\n",
      "Current minimum: -0.8227\n",
      "Iteration No: 3 started. Evaluating function at random point.\n",
      "0.755330836454432\n",
      "Iteration No: 3 ended. Evaluation done at random point.\n",
      "Time taken: 0.2879\n",
      "Function value obtained: -0.7553\n",
      "Current minimum: -0.8227\n",
      "Iteration No: 4 started. Evaluating function at random point.\n",
      "0.8215730337078652\n",
      "Iteration No: 4 ended. Evaluation done at random point.\n",
      "Time taken: 0.2824\n",
      "Function value obtained: -0.8216\n",
      "Current minimum: -0.8227\n",
      "Iteration No: 5 started. Evaluating function at random point.\n",
      "0.8204119850187265\n",
      "Iteration No: 5 ended. Evaluation done at random point.\n",
      "Time taken: 0.2913\n",
      "Function value obtained: -0.8204\n",
      "Current minimum: -0.8227\n",
      "Iteration No: 6 started. Evaluating function at random point.\n",
      "0.8204244694132334\n",
      "Iteration No: 6 ended. Evaluation done at random point.\n",
      "Time taken: 0.2871\n",
      "Function value obtained: -0.8204\n",
      "Current minimum: -0.8227\n",
      "Iteration No: 7 started. Evaluating function at random point.\n",
      "0.8226966292134831\n",
      "Iteration No: 7 ended. Evaluation done at random point.\n",
      "Time taken: 0.2769\n",
      "Function value obtained: -0.8227\n",
      "Current minimum: -0.8227\n",
      "Iteration No: 8 started. Evaluating function at random point.\n",
      "0.809250936329588\n",
      "Iteration No: 8 ended. Evaluation done at random point.\n",
      "Time taken: 0.3046\n",
      "Function value obtained: -0.8093\n",
      "Current minimum: -0.8227\n",
      "Iteration No: 9 started. Evaluating function at random point.\n",
      "0.7810986267166042\n",
      "Iteration No: 9 ended. Evaluation done at random point.\n",
      "Time taken: 0.3092\n",
      "Function value obtained: -0.7811\n",
      "Current minimum: -0.8227\n",
      "Iteration No: 10 started. Evaluating function at random point.\n",
      "0.7385268414481898\n",
      "Iteration No: 10 ended. Evaluation done at random point.\n",
      "Time taken: 0.6462\n",
      "Function value obtained: -0.7385\n",
      "Current minimum: -0.8227\n",
      "Iteration No: 11 started. Searching for the next optimal point.\n",
      "0.7811860174781522\n",
      "Iteration No: 11 ended. Search finished for the next optimal point.\n",
      "Time taken: 1.0105\n",
      "Function value obtained: -0.7812\n",
      "Current minimum: -0.8227\n",
      "Iteration No: 12 started. Searching for the next optimal point.\n",
      "0.8238077403245943\n",
      "Iteration No: 12 ended. Search finished for the next optimal point.\n",
      "Time taken: 0.8301\n",
      "Function value obtained: -0.8238\n",
      "Current minimum: -0.8238\n",
      "Iteration No: 13 started. Searching for the next optimal point.\n",
      "0.7070786516853932\n",
      "Iteration No: 13 ended. Search finished for the next optimal point.\n",
      "Time taken: 0.5494\n",
      "Function value obtained: -0.7071\n",
      "Current minimum: -0.8238\n",
      "Iteration No: 14 started. Searching for the next optimal point.\n",
      "0.8294132334581773\n",
      "Iteration No: 14 ended. Search finished for the next optimal point.\n",
      "Time taken: 0.6620\n",
      "Function value obtained: -0.8294\n",
      "Current minimum: -0.8294\n",
      "Iteration No: 15 started. Searching for the next optimal point.\n",
      "0.826067415730337\n",
      "Iteration No: 15 ended. Search finished for the next optimal point.\n",
      "Time taken: 0.5978\n",
      "Function value obtained: -0.8261\n",
      "Current minimum: -0.8294\n",
      "Iteration No: 16 started. Searching for the next optimal point.\n",
      "0.8148189762796504\n",
      "Iteration No: 16 ended. Search finished for the next optimal point.\n",
      "Time taken: 0.6872\n",
      "Function value obtained: -0.8148\n",
      "Current minimum: -0.8294\n",
      "Iteration No: 17 started. Searching for the next optimal point.\n",
      "0.8271535580524343\n",
      "Iteration No: 17 ended. Search finished for the next optimal point.\n",
      "Time taken: 0.7071\n",
      "Function value obtained: -0.8272\n",
      "Current minimum: -0.8294\n",
      "Iteration No: 18 started. Searching for the next optimal point.\n",
      "0.8238077403245943\n",
      "Iteration No: 18 ended. Search finished for the next optimal point.\n",
      "Time taken: 0.6148\n",
      "Function value obtained: -0.8238\n",
      "Current minimum: -0.8294\n",
      "Iteration No: 19 started. Searching for the next optimal point.\n",
      "0.7968414481897628\n",
      "Iteration No: 19 ended. Search finished for the next optimal point.\n",
      "Time taken: 0.6634\n",
      "Function value obtained: -0.7968\n",
      "Current minimum: -0.8294\n",
      "Iteration No: 20 started. Searching for the next optimal point.\n",
      "0.8283021223470662\n",
      "Iteration No: 20 ended. Search finished for the next optimal point.\n",
      "Time taken: 0.5991\n",
      "Function value obtained: -0.8283\n",
      "Current minimum: -0.8294\n",
      "Iteration No: 21 started. Searching for the next optimal point.\n",
      "0.8193133583021224\n",
      "Iteration No: 21 ended. Search finished for the next optimal point.\n",
      "Time taken: 0.6669\n",
      "Function value obtained: -0.8193\n",
      "Current minimum: -0.8294\n",
      "Iteration No: 22 started. Searching for the next optimal point.\n",
      "0.8237952559300874\n",
      "Iteration No: 22 ended. Search finished for the next optimal point.\n",
      "Time taken: 0.6393\n",
      "Function value obtained: -0.8238\n",
      "Current minimum: -0.8294\n",
      "Iteration No: 23 started. Searching for the next optimal point.\n",
      "0.8294132334581773\n",
      "Iteration No: 23 ended. Search finished for the next optimal point.\n",
      "Time taken: 0.7330\n",
      "Function value obtained: -0.8294\n",
      "Current minimum: -0.8294\n",
      "Iteration No: 24 started. Searching for the next optimal point.\n",
      "0.8204369538077403\n",
      "Iteration No: 24 ended. Search finished for the next optimal point.\n",
      "Time taken: 0.8971\n",
      "Function value obtained: -0.8204\n",
      "Current minimum: -0.8294\n",
      "Iteration No: 25 started. Searching for the next optimal point.\n",
      "0.8294132334581773\n",
      "Iteration No: 25 ended. Search finished for the next optimal point.\n",
      "Time taken: 0.7184\n",
      "Function value obtained: -0.8294\n",
      "Current minimum: -0.8294\n",
      "Iteration No: 26 started. Searching for the next optimal point.\n",
      "0.8148189762796505\n",
      "Iteration No: 26 ended. Search finished for the next optimal point.\n",
      "Time taken: 0.6032\n",
      "Function value obtained: -0.8148\n",
      "Current minimum: -0.8294\n",
      "Iteration No: 27 started. Searching for the next optimal point.\n",
      "0.8305368289637952\n",
      "Iteration No: 27 ended. Search finished for the next optimal point.\n",
      "Time taken: 0.6247\n",
      "Function value obtained: -0.8305\n",
      "Current minimum: -0.8305\n",
      "Iteration No: 28 started. Searching for the next optimal point.\n",
      "0.8294132334581772\n",
      "Iteration No: 28 ended. Search finished for the next optimal point.\n",
      "Time taken: 0.9306\n",
      "Function value obtained: -0.8294\n",
      "Current minimum: -0.8305\n",
      "Iteration No: 29 started. Searching for the next optimal point.\n",
      "0.7755680399500624\n",
      "Iteration No: 29 ended. Search finished for the next optimal point.\n",
      "Time taken: 0.8651\n",
      "Function value obtained: -0.7756\n",
      "Current minimum: -0.8305\n",
      "Iteration No: 30 started. Searching for the next optimal point.\n",
      "0.8103370786516855\n",
      "Iteration No: 30 ended. Search finished for the next optimal point.\n",
      "Time taken: 0.9776\n",
      "Function value obtained: -0.8103\n",
      "Current minimum: -0.8305\n",
      "Iteration No: 31 started. Searching for the next optimal point.\n",
      "0.788976279650437\n",
      "Iteration No: 31 ended. Search finished for the next optimal point.\n",
      "Time taken: 0.6824\n",
      "Function value obtained: -0.7890\n",
      "Current minimum: -0.8305\n",
      "Iteration No: 32 started. Searching for the next optimal point.\n",
      "0.8193133583021224\n",
      "Iteration No: 32 ended. Search finished for the next optimal point.\n",
      "Time taken: 0.6513\n",
      "Function value obtained: -0.8193\n",
      "Current minimum: -0.8305\n",
      "Iteration No: 33 started. Searching for the next optimal point.\n",
      "0.8249313358302123\n",
      "Iteration No: 33 ended. Search finished for the next optimal point.\n",
      "Time taken: 0.7920\n",
      "Function value obtained: -0.8249\n",
      "Current minimum: -0.8305\n",
      "Iteration No: 34 started. Searching for the next optimal point.\n",
      "0.8271535580524343\n",
      "Iteration No: 34 ended. Search finished for the next optimal point.\n",
      "Time taken: 0.8635\n",
      "Function value obtained: -0.8272\n",
      "Current minimum: -0.8305\n",
      "Iteration No: 35 started. Searching for the next optimal point.\n",
      "0.8136953807740325\n",
      "Iteration No: 35 ended. Search finished for the next optimal point.\n",
      "Time taken: 0.7333\n",
      "Function value obtained: -0.8137\n",
      "Current minimum: -0.8305\n",
      "Iteration No: 36 started. Searching for the next optimal point.\n",
      "0.8136953807740325\n",
      "Iteration No: 36 ended. Search finished for the next optimal point.\n",
      "Time taken: 0.7677\n",
      "Function value obtained: -0.8137\n",
      "Current minimum: -0.8305\n",
      "Iteration No: 37 started. Searching for the next optimal point.\n",
      "0.8271535580524343\n",
      "Iteration No: 37 ended. Search finished for the next optimal point.\n",
      "Time taken: 0.9720\n",
      "Function value obtained: -0.8272\n",
      "Current minimum: -0.8305\n",
      "Iteration No: 38 started. Searching for the next optimal point.\n",
      "0.8204369538077403\n",
      "Iteration No: 38 ended. Search finished for the next optimal point.\n",
      "Time taken: 0.8454\n",
      "Function value obtained: -0.8204\n",
      "Current minimum: -0.8305\n",
      "Iteration No: 39 started. Searching for the next optimal point.\n",
      "0.8283021223470662\n",
      "Iteration No: 39 ended. Search finished for the next optimal point.\n",
      "Time taken: 0.8048\n",
      "Function value obtained: -0.8283\n",
      "Current minimum: -0.8305\n",
      "Iteration No: 40 started. Searching for the next optimal point.\n",
      "0.8282896379525594\n",
      "Iteration No: 40 ended. Search finished for the next optimal point.\n",
      "Time taken: 0.9362\n",
      "Function value obtained: -0.8283\n",
      "Current minimum: -0.8305\n",
      "Iteration No: 41 started. Searching for the next optimal point.\n",
      "0.8316604244694131\n",
      "Iteration No: 41 ended. Search finished for the next optimal point.\n",
      "Time taken: 0.8533\n",
      "Function value obtained: -0.8317\n",
      "Current minimum: -0.8317\n",
      "Iteration No: 42 started. Searching for the next optimal point.\n",
      "0.7059550561797752\n",
      "Iteration No: 42 ended. Search finished for the next optimal point.\n",
      "Time taken: 1.0355\n",
      "Function value obtained: -0.7060\n",
      "Current minimum: -0.8317\n",
      "Iteration No: 43 started. Searching for the next optimal point.\n",
      "0.7317228464419475\n",
      "Iteration No: 43 ended. Search finished for the next optimal point.\n",
      "Time taken: 1.1189\n",
      "Function value obtained: -0.7317\n",
      "Current minimum: -0.8317\n",
      "Iteration No: 44 started. Searching for the next optimal point.\n",
      "0.7923470661672909\n",
      "Iteration No: 44 ended. Search finished for the next optimal point.\n",
      "Time taken: 0.8704\n",
      "Function value obtained: -0.7923\n",
      "Current minimum: -0.8317\n",
      "Iteration No: 45 started. Searching for the next optimal point.\n",
      "0.8294132334581773\n",
      "Iteration No: 45 ended. Search finished for the next optimal point.\n",
      "Time taken: 1.0417\n",
      "Function value obtained: -0.8294\n",
      "Current minimum: -0.8317\n",
      "Iteration No: 46 started. Searching for the next optimal point.\n",
      "0.8283021223470662\n",
      "Iteration No: 46 ended. Search finished for the next optimal point.\n",
      "Time taken: 0.8179\n",
      "Function value obtained: -0.8283\n",
      "Current minimum: -0.8317\n",
      "Iteration No: 47 started. Searching for the next optimal point.\n",
      "0.8305368289637952\n",
      "Iteration No: 47 ended. Search finished for the next optimal point.\n",
      "Time taken: 0.8117\n",
      "Function value obtained: -0.8305\n",
      "Current minimum: -0.8317\n",
      "Iteration No: 48 started. Searching for the next optimal point.\n",
      "0.7755430711610487\n",
      "Iteration No: 48 ended. Search finished for the next optimal point.\n",
      "Time taken: 0.9269\n",
      "Function value obtained: -0.7755\n",
      "Current minimum: -0.8317\n",
      "Iteration No: 49 started. Searching for the next optimal point.\n",
      "0.8294132334581773\n",
      "Iteration No: 49 ended. Search finished for the next optimal point.\n",
      "Time taken: 0.8840\n",
      "Function value obtained: -0.8294\n",
      "Current minimum: -0.8317\n",
      "Iteration No: 50 started. Searching for the next optimal point.\n",
      "0.8271660424469414\n",
      "Iteration No: 50 ended. Search finished for the next optimal point.\n",
      "Time taken: 1.0425\n",
      "Function value obtained: -0.8272\n",
      "Current minimum: -0.8317\n"
     ]
    }
   ],
   "source": [
    "#otimização de hiperparametros \n",
    "from skopt import gp_minimize\n",
    "\n",
    "def treinar_modelosvc(parametros):\n",
    "    model_svc = SVC(C=parametros[0],kernel = parametros[1], degree = parametros[2], gamma = parametros[3])\n",
    "    score = cross_val_score(model_svc,X_train_sc,y_train,cv=10)\n",
    "    meanscore = np.mean(score)\n",
    "    print(np.mean(score))\n",
    "    #quanto maior melhor\n",
    "    return -meanscore\n",
    "    \n",
    "#tuplas com os parametros\n",
    "parametros = [(1.0,3.0),\n",
    "              ('sigmoid', 'poly', 'rbf'), \n",
    "              (1,5), \n",
    "              (0.01,0.1)] \n",
    "otimos3 = gp_minimize(treinar_modelosvc, parametros, random_state=0, verbose=1,n_calls=50, \n",
    "                     n_random_starts=10);"
   ]
  },
  {
   "cell_type": "code",
   "execution_count": 166,
   "id": "8f2fe014-4b31-4366-b0ac-fa42830e3bab",
   "metadata": {},
   "outputs": [
    {
     "data": {
      "text/plain": [
       "(np.float64(-0.8316604244694131),\n",
       " [3.0, np.str_('rbf'), np.int64(3), 0.03078876893992194])"
      ]
     },
     "execution_count": 166,
     "metadata": {},
     "output_type": "execute_result"
    }
   ],
   "source": [
    "otimos3.fun, otimos3.x"
   ]
  },
  {
   "cell_type": "code",
   "execution_count": 167,
   "id": "6c07011b-2ad6-4555-9b8b-a7c76b587a74",
   "metadata": {},
   "outputs": [
    {
     "data": {
      "text/plain": [
       "0.8316498316498316"
      ]
     },
     "execution_count": 167,
     "metadata": {},
     "output_type": "execute_result"
    }
   ],
   "source": [
    "# treinando modelo final  com os melhores parametros\n",
    "model_svc = SVC(C=otimos3.x[0],kernel = otimos3.x[1], degree = otimos3.x[2], gamma = otimos3.x[3])\n",
    "model_svc.fit(X_train_sc,y_train)\n",
    "#y_pred = model_svc.predict(X_train_sc)\n",
    "score = model_svc.score(X_train_sc,y_train)\n",
    "score"
   ]
  },
  {
   "cell_type": "code",
   "execution_count": 168,
   "id": "2f038275-b3a8-4a57-99cf-1b1a2451c4c7",
   "metadata": {},
   "outputs": [
    {
     "name": "stdout",
     "output_type": "stream",
     "text": [
      "[0.78888889 0.80898876 0.7752809  0.88764045 0.87640449 0.80898876\n",
      " 0.82022472 0.76404494 0.86516854 0.86516854]\n",
      "0.826079900124844\n"
     ]
    }
   ],
   "source": [
    "#Random Forest\n",
    "from sklearn.ensemble import RandomForestClassifier\n",
    "\n",
    "model_rf = RandomForestClassifier(criterion='entropy', max_depth=5, n_estimators=100, \n",
    "                                  min_samples_split=2, \n",
    "                                  min_samples_leaf=1, random_state=0)\n",
    "score = cross_val_score(model_rf,X_train_sc,y_train,cv=10)\n",
    "print(score)\n",
    "print(np.mean(score))\n"
   ]
  },
  {
   "cell_type": "code",
   "execution_count": 169,
   "id": "85eebea0-d62a-464c-bf27-468a0ae6c2aa",
   "metadata": {},
   "outputs": [
    {
     "name": "stdout",
     "output_type": "stream",
     "text": [
      "Iteration No: 1 started. Evaluating function at random point.\n",
      "0.8193508114856429\n",
      "Iteration No: 1 ended. Evaluation done at random point.\n",
      "Time taken: 22.4262\n",
      "Function value obtained: -0.8194\n",
      "Current minimum: -0.8194\n",
      "Iteration No: 2 started. Evaluating function at random point.\n",
      "0.8170786516853932\n",
      "Iteration No: 2 ended. Evaluation done at random point.\n",
      "Time taken: 9.3365\n",
      "Function value obtained: -0.8171\n",
      "Current minimum: -0.8194\n",
      "Iteration No: 3 started. Evaluating function at random point.\n",
      "0.8160049937578029\n",
      "Iteration No: 3 ended. Evaluation done at random point.\n",
      "Time taken: 13.4666\n",
      "Function value obtained: -0.8160\n",
      "Current minimum: -0.8194\n",
      "Iteration No: 4 started. Evaluating function at random point.\n",
      "0.8159800249687891\n",
      "Iteration No: 4 ended. Evaluation done at random point.\n",
      "Time taken: 11.2135\n",
      "Function value obtained: -0.8160\n",
      "Current minimum: -0.8194\n",
      "Iteration No: 5 started. Evaluating function at random point.\n",
      "0.8238451935081148\n",
      "Iteration No: 5 ended. Evaluation done at random point.\n",
      "Time taken: 21.9812\n",
      "Function value obtained: -0.8238\n",
      "Current minimum: -0.8238\n",
      "Iteration No: 6 started. Evaluating function at random point.\n",
      "0.8249687890137329\n",
      "Iteration No: 6 ended. Evaluation done at random point.\n",
      "Time taken: 15.8344\n",
      "Function value obtained: -0.8250\n",
      "Current minimum: -0.8250\n",
      "Iteration No: 7 started. Evaluating function at random point.\n",
      "0.8260923845193509\n",
      "Iteration No: 7 ended. Evaluation done at random point.\n",
      "Time taken: 20.6348\n",
      "Function value obtained: -0.8261\n",
      "Current minimum: -0.8261\n",
      "Iteration No: 8 started. Evaluating function at random point.\n",
      "0.8227215980024969\n",
      "Iteration No: 8 ended. Evaluation done at random point.\n",
      "Time taken: 8.1846\n",
      "Function value obtained: -0.8227\n",
      "Current minimum: -0.8261\n",
      "Iteration No: 9 started. Evaluating function at random point.\n",
      "0.8170911360799001\n",
      "Iteration No: 9 ended. Evaluation done at random point.\n",
      "Time taken: 24.9864\n",
      "Function value obtained: -0.8171\n",
      "Current minimum: -0.8261\n",
      "Iteration No: 10 started. Evaluating function at random point.\n",
      "0.8227340823970037\n",
      "Iteration No: 10 ended. Evaluation done at random point.\n",
      "Time taken: 12.1902\n",
      "Function value obtained: -0.8227\n",
      "Current minimum: -0.8261\n",
      "Iteration No: 11 started. Searching for the next optimal point.\n",
      "0.8238451935081148\n",
      "Iteration No: 11 ended. Search finished for the next optimal point.\n",
      "Time taken: 15.9852\n",
      "Function value obtained: -0.8238\n",
      "Current minimum: -0.8261\n",
      "Iteration No: 12 started. Searching for the next optimal point.\n",
      "0.8148564294631709\n",
      "Iteration No: 12 ended. Search finished for the next optimal point.\n",
      "Time taken: 23.5491\n",
      "Function value obtained: -0.8149\n",
      "Current minimum: -0.8261\n",
      "Iteration No: 13 started. Searching for the next optimal point.\n",
      "0.8227215980024969\n",
      "Iteration No: 13 ended. Search finished for the next optimal point.\n",
      "Time taken: 25.9364\n",
      "Function value obtained: -0.8227\n",
      "Current minimum: -0.8261\n",
      "Iteration No: 14 started. Searching for the next optimal point.\n",
      "0.8238451935081148\n",
      "Iteration No: 14 ended. Search finished for the next optimal point.\n",
      "Time taken: 27.4360\n",
      "Function value obtained: -0.8238\n",
      "Current minimum: -0.8261\n",
      "Iteration No: 15 started. Searching for the next optimal point.\n",
      "0.819338327091136\n",
      "Iteration No: 15 ended. Search finished for the next optimal point.\n",
      "Time taken: 4.4633\n",
      "Function value obtained: -0.8193\n",
      "Current minimum: -0.8261\n",
      "Iteration No: 16 started. Searching for the next optimal point.\n",
      "0.8238576779026218\n",
      "Iteration No: 16 ended. Search finished for the next optimal point.\n",
      "Time taken: 20.3343\n",
      "Function value obtained: -0.8239\n",
      "Current minimum: -0.8261\n",
      "Iteration No: 17 started. Searching for the next optimal point.\n",
      "0.8193632958801498\n",
      "Iteration No: 17 ended. Search finished for the next optimal point.\n",
      "Time taken: 3.3240\n",
      "Function value obtained: -0.8194\n",
      "Current minimum: -0.8261\n",
      "Iteration No: 18 started. Searching for the next optimal point.\n",
      "0.8272159800249688\n",
      "Iteration No: 18 ended. Search finished for the next optimal point.\n",
      "Time taken: 21.0564\n",
      "Function value obtained: -0.8272\n",
      "Current minimum: -0.8272\n",
      "Iteration No: 19 started. Searching for the next optimal point.\n",
      "0.8204993757802747\n",
      "Iteration No: 19 ended. Search finished for the next optimal point.\n",
      "Time taken: 28.1514\n",
      "Function value obtained: -0.8205\n",
      "Current minimum: -0.8272\n",
      "Iteration No: 20 started. Searching for the next optimal point.\n",
      "0.8238451935081148\n",
      "Iteration No: 20 ended. Search finished for the next optimal point.\n",
      "Time taken: 3.6763\n",
      "Function value obtained: -0.8238\n",
      "Current minimum: -0.8272\n",
      "Iteration No: 21 started. Searching for the next optimal point.\n",
      "0.8126342072409489\n",
      "Iteration No: 21 ended. Search finished for the next optimal point.\n",
      "Time taken: 20.1594\n",
      "Function value obtained: -0.8126\n",
      "Current minimum: -0.8272\n",
      "Iteration No: 22 started. Searching for the next optimal point.\n",
      "0.817103620474407\n",
      "Iteration No: 22 ended. Search finished for the next optimal point.\n",
      "Time taken: 23.2786\n",
      "Function value obtained: -0.8171\n",
      "Current minimum: -0.8272\n",
      "Iteration No: 23 started. Searching for the next optimal point.\n",
      "0.8238576779026217\n",
      "Iteration No: 23 ended. Search finished for the next optimal point.\n",
      "Time taken: 3.2888\n",
      "Function value obtained: -0.8239\n",
      "Current minimum: -0.8272\n",
      "Iteration No: 24 started. Searching for the next optimal point.\n",
      "0.8103995006242197\n",
      "Iteration No: 24 ended. Search finished for the next optimal point.\n",
      "Time taken: 7.9653\n",
      "Function value obtained: -0.8104\n",
      "Current minimum: -0.8272\n",
      "Iteration No: 25 started. Searching for the next optimal point.\n",
      "0.8249812734082397\n",
      "Iteration No: 25 ended. Search finished for the next optimal point.\n",
      "Time taken: 15.0722\n",
      "Function value obtained: -0.8250\n",
      "Current minimum: -0.8272\n",
      "Iteration No: 26 started. Searching for the next optimal point.\n",
      "0.8204744069912608\n",
      "Iteration No: 26 ended. Search finished for the next optimal point.\n",
      "Time taken: 3.9061\n",
      "Function value obtained: -0.8205\n",
      "Current minimum: -0.8272\n",
      "Iteration No: 27 started. Searching for the next optimal point.\n",
      "0.8261048689138576\n",
      "Iteration No: 27 ended. Search finished for the next optimal point.\n",
      "Time taken: 3.1141\n",
      "Function value obtained: -0.8261\n",
      "Current minimum: -0.8272\n",
      "Iteration No: 28 started. Searching for the next optimal point.\n",
      "0.8148564294631709\n",
      "Iteration No: 28 ended. Search finished for the next optimal point.\n",
      "Time taken: 23.7847\n",
      "Function value obtained: -0.8149\n",
      "Current minimum: -0.8272\n",
      "Iteration No: 29 started. Searching for the next optimal point.\n",
      "0.8148564294631712\n",
      "Iteration No: 29 ended. Search finished for the next optimal point.\n",
      "Time taken: 19.8239\n",
      "Function value obtained: -0.8149\n",
      "Current minimum: -0.8272\n",
      "Iteration No: 30 started. Searching for the next optimal point.\n",
      "0.8215605493133582\n",
      "Iteration No: 30 ended. Search finished for the next optimal point.\n",
      "Time taken: 17.2959\n",
      "Function value obtained: -0.8216\n",
      "Current minimum: -0.8272\n"
     ]
    }
   ],
   "source": [
    "#otimização de hiperparametros \n",
    "from skopt import gp_minimize\n",
    "\n",
    "def treinar_modelo(parametros):\n",
    "    model_rf = RandomForestClassifier(criterion=parametros[0], \n",
    "                                      n_estimators=parametros[1], \n",
    "                                      max_depth=parametros[2], \n",
    "                                      min_samples_split=parametros[3], \n",
    "                                      min_samples_leaf=parametros[4], \n",
    "                                      random_state=0, n_jobs=-1)\n",
    "    score = cross_val_score(model_rf,X_train_sc,y_train,cv=10)\n",
    "    meanscore = np.mean(score)\n",
    "    print(np.mean(score))\n",
    "    #quanto maior melhor\n",
    "    return -meanscore\n",
    "    \n",
    "#tuplas com os parametros\n",
    "parametros = [('entropy', 'gini'),#criterion\n",
    "              (100, 1000), # n_estimators\n",
    "              (3,20), #max_depth\n",
    "              (2,10), # min_samples_split\n",
    "              (1,10)] # min_samples_leaf\n",
    "otimos = gp_minimize(treinar_modelo, parametros, random_state=0, verbose=1,n_calls=30, \n",
    "                     n_random_starts=10);"
   ]
  },
  {
   "cell_type": "code",
   "execution_count": 170,
   "id": "d6ce43e7-ba6f-4742-90b9-64319dafcc98",
   "metadata": {},
   "outputs": [
    {
     "data": {
      "text/plain": [
       "(np.float64(-0.8272159800249688),\n",
       " [np.str_('entropy'), np.int64(771), np.int64(14), np.int64(5), np.int64(2)])"
      ]
     },
     "execution_count": 170,
     "metadata": {},
     "output_type": "execute_result"
    }
   ],
   "source": [
    "# imprimindo o melhor resultado\n",
    "otimos.fun, otimos.x"
   ]
  },
  {
   "cell_type": "code",
   "execution_count": 171,
   "id": "2b836a79-b1c5-422f-b18c-097a51d44a6c",
   "metadata": {},
   "outputs": [],
   "source": [
    "# treinando modelo final  com os melhores parametros\n",
    "model_rf = RandomForestClassifier(criterion=otimos.x[0], \n",
    "                                      n_estimators=otimos.x[1], \n",
    "                                      max_depth=otimos.x[2], \n",
    "                                      min_samples_split=otimos.x[3], \n",
    "                                      min_samples_leaf=otimos.x[4], \n",
    "                                      random_state=0, n_jobs=-1)\n",
    "\n",
    "model_rf.fit(X_train_sc,y_train)\n",
    "y_pred = model_rf.predict(X_train_sc)\n",
    "#y_pred"
   ]
  },
  {
   "cell_type": "code",
   "execution_count": 172,
   "id": "369f23ca-b03c-4769-9ae7-124c6235aa62",
   "metadata": {},
   "outputs": [
    {
     "name": "stdout",
     "output_type": "stream",
     "text": [
      "0.8272034956304619\n"
     ]
    }
   ],
   "source": [
    "#Ensamble model (voting)\n",
    "from sklearn.ensemble import VotingClassifier\n",
    "\n",
    "# hard utiliza a saida enquanto soft utiliza as probabilidades.\n",
    "model_voting = VotingClassifier(estimators = [('LR', model_lr),\n",
    "                                              ('KNN', model_knn),\n",
    "                                              ('SVC',model_svc),\n",
    "                                              ('RF',model_rf)],voting='hard')\n",
    "\n",
    "model_voting.fit(X_train_sc, y_train)\n",
    "\n",
    "score = cross_val_score(model_voting, X_train_sc, y_train, cv = 10)\n",
    "\n",
    "print(np.mean(score))\n"
   ]
  },
  {
   "cell_type": "code",
   "execution_count": 173,
   "id": "ad72129e-5673-488e-be32-7ffa2b9922b0",
   "metadata": {},
   "outputs": [
    {
     "name": "stdout",
     "output_type": "stream",
     "text": [
      "[[531  18]\n",
      " [ 56 286]]\n"
     ]
    }
   ],
   "source": [
    "# Matriz principal tem os resultados\n",
    "mc = confusion_matrix(y_train,y_pred)\n",
    "print(mc)"
   ]
  },
  {
   "cell_type": "markdown",
   "id": "f0fed42e-eb3e-4320-bb8c-6d3cf5e8385f",
   "metadata": {},
   "source": [
    "## 7.1. Acurácia na base de treinamento"
   ]
  },
  {
   "cell_type": "code",
   "execution_count": 174,
   "id": "53eba843-e9ff-4773-840a-d2e6104b9f16",
   "metadata": {},
   "outputs": [
    {
     "data": {
      "text/plain": [
       "0.8641975308641975"
      ]
     },
     "execution_count": 174,
     "metadata": {},
     "output_type": "execute_result"
    }
   ],
   "source": [
    "score = model_voting.score(X_train_sc,y_train)\n",
    "score"
   ]
  },
  {
   "cell_type": "markdown",
   "id": "3c7ffa26-2834-4666-bab7-51cdee5e0602",
   "metadata": {},
   "source": [
    "## 7.2. Predição sobre a base de teste\n",
    "Fazendo a predição sobre a base de testes e exportando o arquivo para realizar a submissão através da plataforma Kaggle."
   ]
  },
  {
   "cell_type": "code",
   "execution_count": 175,
   "id": "697b4aa1-714c-4471-9eba-13bfab0d41ac",
   "metadata": {},
   "outputs": [
    {
     "data": {
      "text/plain": [
       "array([0, 0, 0, 0, 1, 0, 1, 0, 1, 0, 0, 0, 1, 0, 1, 1, 0, 0, 1, 1, 0, 1,\n",
       "       1, 0, 1, 0, 1, 0, 0, 0, 0, 0, 0, 0, 1, 0, 0, 1, 0, 0, 0, 0, 0, 1,\n",
       "       1, 0, 0, 0, 1, 1, 0, 0, 1, 1, 0, 0, 0, 0, 0, 1, 0, 0, 0, 1, 0, 1,\n",
       "       1, 0, 0, 1, 1, 0, 0, 1, 1, 0, 0, 1, 0, 1, 1, 0, 0, 0, 0, 0, 1, 1,\n",
       "       1, 1, 0, 0, 1, 0, 0, 0, 1, 0, 1, 0, 1, 0, 0, 0, 0, 0, 0, 0, 0, 0,\n",
       "       0, 1, 1, 1, 1, 0, 0, 1, 0, 1, 1, 0, 1, 0, 0, 1, 0, 1, 0, 0, 0, 0,\n",
       "       0, 0, 0, 0, 0, 0, 1, 0, 0, 1, 0, 0, 0, 0, 0, 0, 0, 0, 1, 0, 0, 1,\n",
       "       0, 0, 1, 1, 0, 1, 1, 1, 1, 0, 0, 0, 0, 0, 1, 1, 0, 0, 0, 0, 0, 1,\n",
       "       1, 0, 1, 1, 0, 0, 1, 0, 1, 0, 1, 0, 0, 0, 0, 0, 1, 0, 1, 0, 1, 1,\n",
       "       0, 0, 1, 1, 0, 1, 0, 0, 1, 0, 1, 0, 0, 0, 0, 1, 0, 0, 1, 0, 1, 0,\n",
       "       1, 0, 1, 0, 1, 1, 0, 1, 0, 0, 0, 1, 0, 0, 1, 0, 0, 0, 1, 1, 1, 1,\n",
       "       0, 0, 0, 0, 1, 0, 1, 0, 1, 0, 1, 0, 0, 0, 0, 0, 1, 0, 0, 0, 1, 1,\n",
       "       0, 0, 0, 0, 0, 0, 0, 0, 1, 1, 0, 1, 0, 0, 0, 0, 1, 1, 1, 1, 1, 0,\n",
       "       0, 0, 0, 0, 0, 1, 0, 0, 0, 0, 1, 0, 0, 0, 0, 0, 0, 0, 1, 1, 0, 1,\n",
       "       0, 0, 0, 0, 0, 1, 1, 1, 0, 0, 0, 0, 0, 0, 0, 0, 1, 0, 1, 0, 0, 0,\n",
       "       1, 0, 0, 1, 0, 0, 0, 0, 0, 0, 0, 0, 0, 1, 0, 1, 0, 1, 0, 1, 1, 0,\n",
       "       0, 0, 1, 0, 1, 0, 0, 1, 0, 1, 1, 0, 1, 0, 0, 0, 1, 0, 0, 1, 0, 0,\n",
       "       1, 1, 0, 0, 0, 0, 0, 0, 1, 0, 0, 1, 0, 0, 0, 0, 0, 1, 0, 0, 0, 1,\n",
       "       0, 1, 0, 0, 1, 0, 1, 0, 0, 0, 0, 0, 1, 1, 1, 1, 0, 0, 1, 0, 0, 0])"
      ]
     },
     "execution_count": 175,
     "metadata": {},
     "output_type": "execute_result"
    }
   ],
   "source": [
    "# Fazendo predição na base de testes\n",
    "y_pred = model_voting.predict(X_test_sc)\n",
    "y_pred"
   ]
  },
  {
   "cell_type": "code",
   "execution_count": 177,
   "id": "009fbcd4-6abe-4b7e-a0d3-7137dc72b2bd",
   "metadata": {},
   "outputs": [],
   "source": [
    "submission = pd.DataFrame(test[\"PassengerId\"])"
   ]
  },
  {
   "cell_type": "code",
   "execution_count": 178,
   "id": "3aaf5d1a-6eeb-4744-b846-e40d7fc8bb06",
   "metadata": {},
   "outputs": [],
   "source": [
    "#salvando o arquivo para submissão no kaggle\n",
    "submission[\"Survived\"] = y_pred\n",
    "submission.to_csv(\"dados/submission9.csv\", index= False)"
   ]
  },
  {
   "cell_type": "code",
   "execution_count": null,
   "id": "41d6e417-155f-4046-8e2b-e7655b90de06",
   "metadata": {},
   "outputs": [],
   "source": []
  }
 ],
 "metadata": {
  "kernelspec": {
   "display_name": "Python 3 (ipykernel)",
   "language": "python",
   "name": "python3"
  },
  "language_info": {
   "codemirror_mode": {
    "name": "ipython",
    "version": 3
   },
   "file_extension": ".py",
   "mimetype": "text/x-python",
   "name": "python",
   "nbconvert_exporter": "python",
   "pygments_lexer": "ipython3",
   "version": "3.12.9"
  }
 },
 "nbformat": 4,
 "nbformat_minor": 5
}
